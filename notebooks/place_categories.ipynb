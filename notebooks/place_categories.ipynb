{
 "cells": [
  {
   "cell_type": "code",
   "execution_count": 1,
   "metadata": {
    "ExecuteTime": {
     "end_time": "2018-10-18T19:14:31.497143Z",
     "start_time": "2018-10-18T19:14:28.313739Z"
    }
   },
   "outputs": [
    {
     "name": "stdout",
     "output_type": "stream",
     "text": [
      "Welcome, Luke Waninger!\n",
      "\n"
     ]
    }
   ],
   "source": [
    "import json\n",
    "import pandas as pd\n",
    "import requests\n",
    "\n",
    "import synapseclient\n",
    "from synapseclient import File\n",
    "\n",
    "syn = synapseclient.Synapse()\n",
    "syn.login()"
   ]
  },
  {
   "cell_type": "markdown",
   "metadata": {},
   "source": [
    "Load the categories from the Yelp documentation at https://www.yelp.com/developers/documentation/v3/all_category_list"
   ]
  },
  {
   "cell_type": "code",
   "execution_count": 2,
   "metadata": {
    "ExecuteTime": {
     "end_time": "2018-10-18T19:14:31.807945Z",
     "start_time": "2018-10-18T19:14:31.499417Z"
    },
    "run_control": {
     "marked": false
    }
   },
   "outputs": [],
   "source": [
    "r = requests.get('https://www.yelp.com/developers/documentation/v3/all_category_list/categories.json')\n",
    "if r.ok:\n",
    "    j = r.json()"
   ]
  },
  {
   "cell_type": "markdown",
   "metadata": {},
   "source": [
    "Manual mappings based primarily on the Yelp defined hieararchy but several have been manually tuned."
   ]
  },
  {
   "cell_type": "code",
   "execution_count": 3,
   "metadata": {
    "ExecuteTime": {
     "end_time": "2018-10-18T19:14:31.860393Z",
     "start_time": "2018-10-18T19:14:31.809634Z"
    },
    "code_folding": []
   },
   "outputs": [],
   "source": [
    "YELP_TYPE_MAPPINGS = dict(\n",
    "    government_offices=[\n",
    "        'publicservicesgovt', 'animalshelters', 'government_offices'\n",
    "    ],\n",
    "    place_of_mourning=[\n",
    "        'funeralservices', 'place_of_mourning'\n",
    "    ],\n",
    "    education=[\n",
    "        'education', 'tastingclasses', 'specialtyschools', 'adultedu'\n",
    "    ],\n",
    "    place_of_worship=[\n",
    "        'religiousorgs', 'place_of_worship'\n",
    "    ],\n",
    "    lodging=[\n",
    "        'hotels', 'hotelstravel', 'agriturismi', 'apartments', 'condominiums', 'university_housing',\n",
    "        'homelessshelters', 'lodging'\n",
    "    ],\n",
    "    entertainment=[\n",
    "        'active', 'adultentertainment', 'artclasses', 'arts', 'artsandcrafts', 'entertainment',\n",
    "        'bars', 'breweries', 'diving', 'festivals', 'martialarts', 'movietheaters',\n",
    "        'museums', 'nightlife', 'tours', 'wineries', 'zoos', 'social_clubs', 'localflavor'\n",
    "    ],\n",
    "    health=[\n",
    "        'dentalhygienists', 'dentists', 'fitness', 'gyms', 'health', 'medcenters', 'medicalspa',\n",
    "        'opthamalogists', 'opticians', 'physicians', 'tcm', 'c_and_mh', 'acnetreatment', 'acupuncture',\n",
    "        'addictionmedicine', 'allergist', 'alternativemedicine', 'anesthesiologists',\n",
    "        'animalassistedtherapy'\n",
    "    ],\n",
    "    finance=[\n",
    "        'estateplanning', 'financialservices', 'insurance', 'accountants', 'finance'\n",
    "    ],\n",
    "    repair=[\n",
    "        'autoglass', 'autorepair', 'diagnosticservices', 'itservices', 'homeservices', 'repair',\n",
    "        'junkremovalandhauling', 'laundryservices', 'localservices', 'musicinstrumentservices',\n",
    "        'plumbing', 'professional'\n",
    "    ],\n",
    "    transit=[\n",
    "        'airports', 'transport', 'travelservices', 'carrental', 'motorcycle_rental', 'trainstations', 'transit',\n",
    "    ],\n",
    "    dining_out=[\n",
    "        'cafes', 'food', 'restaurants', 'jpsweets', 'african', 'arabian', 'dining_out',\n",
    "        'belgian', 'brazilian', 'caribbean', 'chinese', 'donburi', 'french', 'german', 'turkish',\n",
    "        'italian', 'japanse', 'latin', 'malaysian', 'mediterranean', 'mexican', 'mideastern', 'polish',\n",
    "        'portugese', 'spanish', 'portuguese', 'japanese'\n",
    "    ],\n",
    "    home_store=[\n",
    "        'gardening', 'homeandgarden', 'professional', 'kitchenandbath', 'landscaping', 'realestate', 'home_store'\n",
    "        'realestateagents', 'realestatesvcs', 'apartmentagents', 'apartments', 'appliances', 'appraisalservices'\n",
    "    ],\n",
    "    supermarket=[\n",
    "        'food, shopping', 'farms', 'wholesale_stores', 'wholesalers', 'gourmet', 'grocery', 'ethicgrocery', 'beverage_stores',\n",
    "        'butcher', 'csa', 'convenience', 'farmersmarket', 'organic_stores', 'supermarket'\n",
    "    ],\n",
    "    automotive=[\n",
    "        'auto', 'automotive'\n",
    "    ],\n",
    "    consumer_goods=[\n",
    "        'flowers', 'bicycles', 'cannabis_clinics', 'fashion', 'shopping', 'partyequipmentrentals',\n",
    "        'sportgoods', 'sportswear', 'wholesalers', 'pets', 'petstore', 'petservices',\n",
    "        'accessories', 'petbreeders', 'antiques', 'shoppingcenters'\n",
    "    ],\n",
    "    personal_services=[\n",
    "        'eventservices', 'beautysvc', 'hair', 'hairremoval', 'othersalons', 'psychic_astrology', 'skincare',\n",
    "        'tanning', 'photographers', 'utilities', 'pet_sitting', 'aestheticians', 'animalholistic',\n",
    "        'animalphysicaltherapy', '3dprinting', 'personal_services', 'lawyers', 'legalservices'\n",
    "    ],\n",
    "    park=[\n",
    "        'parks', 'park'\n",
    "    ],\n",
    "    other_organization=[\n",
    "        'massmedia', 'media', 'nonprofit', 'adoptionservices', 'advertising', 'other', 'other_organization'\n",
    "    ]\n",
    ")"
   ]
  },
  {
   "cell_type": "markdown",
   "metadata": {},
   "source": [
    "Now, we iterate first through each alias looking for a mapping but if the alias isn't already in one of our predefined categories then check the parent. Mostly, the parent will be our source but in some instances we use the alias as it is a 'finer-grained' mapping."
   ]
  },
  {
   "cell_type": "code",
   "execution_count": 4,
   "metadata": {
    "ExecuteTime": {
     "end_time": "2018-10-18T19:14:36.833209Z",
     "start_time": "2018-10-18T19:14:31.862533Z"
    }
   },
   "outputs": [
    {
     "name": "stdout",
     "output_type": "stream",
     "text": [
      "\n",
      "##################################################\n",
      " Uploading file to Synapse storage \n",
      "##################################################\n",
      "\n"
     ]
    }
   ],
   "source": [
    "yelp_mappings = pd.DataFrame(columns=['cat', 'mapping'])\n",
    "\n",
    "for i, r in enumerate(j):\n",
    "    alias = r.get('alias')\n",
    "    parent = r.get('parents')\n",
    "    \n",
    "    mapping = 'none'\n",
    "    for k, v in YELP_TYPE_MAPPINGS.items():\n",
    "        if alias in v:\n",
    "            mapping = k\n",
    "            break\n",
    "    \n",
    "    if mapping == 'none':\n",
    "        for k, v in YELP_TYPE_MAPPINGS.items():\n",
    "            if any([p in v for p in parent]):\n",
    "                mapping = k\n",
    "    \n",
    "    yelp_mappings.loc[i] = (alias, mapping)\n",
    "\n",
    "yelp_mappings.to_csv('yelp_mappings.csv', index=None)\n",
    "t = syn.store(File(name='yelp_mappings', path='yelp_mappings.csv', parent='syn16816579')); del t"
   ]
  },
  {
   "cell_type": "code",
   "execution_count": 5,
   "metadata": {
    "ExecuteTime": {
     "end_time": "2018-10-18T19:14:36.873065Z",
     "start_time": "2018-10-18T19:14:36.835614Z"
    },
    "code_folding": []
   },
   "outputs": [],
   "source": [
    "GMAP_TYPE_MAPPINGS = dict(\n",
    "    government_offices=[\n",
    "        'post_office', 'city_hall', 'courthouse', 'embassy',\n",
    "        'local_government_office', 'police', 'fire_station',\n",
    "        'government_office'\n",
    "    ],\n",
    "    place_of_mourning=[\n",
    "        'cemetery', 'funeral_home', 'place_of_mourning'\n",
    "    ],\n",
    "    education=[\n",
    "        'school', 'university', 'education'\n",
    "    ],\n",
    "    place_of_worship=[\n",
    "        'church', 'hindu_temple', 'mosque', 'synagogue', 'place_of_worship'\n",
    "    ],\n",
    "    lodging=[\n",
    "        'campground', 'lodging', 'rv_park'\n",
    "    ],\n",
    "    entertainment=[\n",
    "        'bar', 'amusement_park', 'aquarium', 'art_gallery', 'bowling_alley',\n",
    "        'casino', 'movie_rental', 'movie_theater', 'museum', 'night_club',\n",
    "        'stadium', 'zoo', 'library', 'entertainment'\n",
    "    ],\n",
    "    health=[\n",
    "        'dentist', 'doctor', 'gym', 'hospital', 'pharmacy', 'physiotherapist', 'health'\n",
    "    ],\n",
    "    finance=[\n",
    "        'atm', 'bank', 'insurance_agency', 'finance', 'accounting'\n",
    "    ],\n",
    "    repair=[\n",
    "        'car_repair', 'car_wash', 'electrician', 'plumber', 'general_contractor',\n",
    "        'roofing_contractor', 'painter', 'locksmith', 'travel_agency', 'repair'\n",
    "    ],\n",
    "    transit=[\n",
    "        'airport', 'bus_station', 'taxi_stand', 'train_station',\n",
    "        'transit_station', 'subway_station', 'travel_agency', 'transit'\n",
    "    ],\n",
    "    dining_out=[\n",
    "        'bakery', 'cafe', 'meal_delivery', 'meal_takeaway', 'restaurant', 'dining_out', 'food'\n",
    "    ],\n",
    "    home_store=[\n",
    "        'furniture_store', 'electronics_store', 'hardware_store',\n",
    "        'home_goods_store', 'moving_company', 'real_estate_agency',\n",
    "        'storage', 'laundry', 'home_store'\n",
    "    ],\n",
    "    supermarket=[\n",
    "        'convenience_store', 'liquor_store', 'supermarket',\n",
    "        'grocery_or_supermarket'\n",
    "    ],\n",
    "    automotive=[\n",
    "        'car_dealer', 'car_rental', 'gas_station', 'parking', 'automotive'\n",
    "    ],\n",
    "    consumer_goods=[\n",
    "        'book_store', 'bicycle_store', 'clothing_store', 'department_store',\n",
    "        'florist', 'jewelry_store', 'pet_store', 'shoe_store', 'shopping_mall',\n",
    "        'consumer_goods', 'store'\n",
    "    ],\n",
    "    personal_services=[\n",
    "        'beauty_salon', 'hair_care', 'spa', 'personal_services', 'lawyer', 'veterinary_care'\n",
    "    ],\n",
    "    other_organization=[\n",
    "        'other'\n",
    "    ],\n",
    "    park=[\n",
    "        'parks', 'park'\n",
    "    ]\n",
    ")"
   ]
  },
  {
   "cell_type": "code",
   "execution_count": 6,
   "metadata": {
    "ExecuteTime": {
     "end_time": "2018-10-18T19:14:40.837020Z",
     "start_time": "2018-10-18T19:14:36.875176Z"
    }
   },
   "outputs": [
    {
     "name": "stdout",
     "output_type": "stream",
     "text": [
      "\n",
      "##################################################\n",
      " Uploading file to Synapse storage \n",
      "##################################################\n",
      "\n"
     ]
    }
   ],
   "source": [
    "gmap_mappings = pd.DataFrame(columns=['cat', 'mapping'])\n",
    "\n",
    "i = 0\n",
    "for k, v in GMAP_TYPE_MAPPINGS.items():    \n",
    "    for vi in v:\n",
    "        gmap_mappings.loc[i] = (vi, k)\n",
    "        i += 1\n",
    "        \n",
    "gmap_mappings.to_csv('gmap_mappings.csv', index=None)\n",
    "t = syn.store(File(name='gmap_mappings', path='gmap_mappings.csv', parent='syn16816579')); del t"
   ]
  }
 ],
 "metadata": {
  "kernelspec": {
   "display_name": "Python [conda env:bright]",
   "language": "python",
   "name": "conda-env-bright-py"
  },
  "language_info": {
   "codemirror_mode": {
    "name": "ipython",
    "version": 3
   },
   "file_extension": ".py",
   "mimetype": "text/x-python",
   "name": "python",
   "nbconvert_exporter": "python",
   "pygments_lexer": "ipython3",
   "version": "3.6.6"
  },
  "varInspector": {
   "cols": {
    "lenName": 16,
    "lenType": 16,
    "lenVar": 40
   },
   "kernels_config": {
    "python": {
     "delete_cmd_postfix": "",
     "delete_cmd_prefix": "del ",
     "library": "var_list.py",
     "varRefreshCmd": "print(var_dic_list())"
    },
    "r": {
     "delete_cmd_postfix": ") ",
     "delete_cmd_prefix": "rm(",
     "library": "var_list.r",
     "varRefreshCmd": "cat(var_dic_list()) "
    }
   },
   "types_to_exclude": [
    "module",
    "function",
    "builtin_function_or_method",
    "instance",
    "_Feature"
   ],
   "window_display": false
  }
 },
 "nbformat": 4,
 "nbformat_minor": 2
}
