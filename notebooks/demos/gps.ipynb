{
 "cells": [
  {
   "cell_type": "code",
   "execution_count": 1,
   "metadata": {
    "ExecuteTime": {
     "end_time": "2018-11-11T17:52:32.848399Z",
     "start_time": "2018-11-11T17:52:16.890381Z"
    },
    "code_folding": []
   },
   "outputs": [
    {
     "name": "stderr",
     "output_type": "stream",
     "text": [
      "/home/luke/anaconda3/envs/bright/lib/python3.6/importlib/_bootstrap.py:219: RuntimeWarning: numpy.dtype size changed, may indicate binary incompatibility. Expected 96, got 88\n",
      "  return f(*args, **kwds)\n",
      "/home/luke/anaconda3/envs/bright/lib/python3.6/importlib/_bootstrap.py:219: RuntimeWarning: numpy.dtype size changed, may indicate binary incompatibility. Expected 96, got 88\n",
      "  return f(*args, **kwds)\n"
     ]
    },
    {
     "name": "stdout",
     "output_type": "stream",
     "text": [
      "Welcome, Luke Waninger!\n",
      "\n",
      "Welcome, Luke Waninger!\n",
      "\n"
     ]
    },
    {
     "data": {
      "text/html": [
       "<div>\n",
       "<style scoped>\n",
       "    .dataframe tbody tr th:only-of-type {\n",
       "        vertical-align: middle;\n",
       "    }\n",
       "\n",
       "    .dataframe tbody tr th {\n",
       "        vertical-align: top;\n",
       "    }\n",
       "\n",
       "    .dataframe thead th {\n",
       "        text-align: right;\n",
       "    }\n",
       "</style>\n",
       "<table border=\"1\" class=\"dataframe\">\n",
       "  <thead>\n",
       "    <tr style=\"text-align: right;\">\n",
       "      <th></th>\n",
       "      <th>lat</th>\n",
       "      <th>lon</th>\n",
       "      <th>ts</th>\n",
       "    </tr>\n",
       "  </thead>\n",
       "  <tbody>\n",
       "    <tr>\n",
       "      <th>0</th>\n",
       "      <td>47.66133</td>\n",
       "      <td>-122.29343</td>\n",
       "      <td>2018-06-07 00:00:08.668</td>\n",
       "    </tr>\n",
       "    <tr>\n",
       "      <th>1</th>\n",
       "      <td>47.66123</td>\n",
       "      <td>-122.29655</td>\n",
       "      <td>2018-06-07 00:00:24.000</td>\n",
       "    </tr>\n",
       "    <tr>\n",
       "      <th>2</th>\n",
       "      <td>47.66125</td>\n",
       "      <td>-122.29673</td>\n",
       "      <td>2018-06-07 00:00:25.000</td>\n",
       "    </tr>\n",
       "    <tr>\n",
       "      <th>3</th>\n",
       "      <td>47.66087</td>\n",
       "      <td>-122.29904</td>\n",
       "      <td>2018-06-07 00:00:40.000</td>\n",
       "    </tr>\n",
       "    <tr>\n",
       "      <th>4</th>\n",
       "      <td>47.66067</td>\n",
       "      <td>-122.29951</td>\n",
       "      <td>2018-06-07 00:00:56.000</td>\n",
       "    </tr>\n",
       "  </tbody>\n",
       "</table>\n",
       "</div>"
      ],
      "text/plain": [
       "        lat        lon                      ts\n",
       "0  47.66133 -122.29343 2018-06-07 00:00:08.668\n",
       "1  47.66123 -122.29655 2018-06-07 00:00:24.000\n",
       "2  47.66125 -122.29673 2018-06-07 00:00:25.000\n",
       "3  47.66087 -122.29904 2018-06-07 00:00:40.000\n",
       "4  47.66067 -122.29951 2018-06-07 00:00:56.000"
      ]
     },
     "execution_count": 1,
     "metadata": {},
     "output_type": "execute_result"
    }
   ],
   "source": [
    "# notebook setup\n",
    "import datetime as dt\n",
    "import os\n",
    "import sys\n",
    "\n",
    "from IPython.core.interactiveshell import InteractiveShell\n",
    "import numpy as np\n",
    "import pandas as pd\n",
    "\n",
    "sys.path.insert(0, os.path.abspath('../..'))\n",
    "\n",
    "import gps\n",
    "\n",
    "InteractiveShell.ast_node_interactivity = 'all'\n",
    "\n",
    "# bottom left, top right of the greater Seattle area\n",
    "min_lat, min_lon = 47.324739, -122.440531\n",
    "max_lat, max_lon = 48.100469, -121.850196\n",
    "\n",
    "dbscan_p1_params = dict(\n",
    "    min_samples=155,\n",
    "    eps=.005,\n",
    "    n_jobs=3\n",
    ")\n",
    "\n",
    "df = pd.read_csv('some_data.csv', parse_dates=['ts'])\n",
    "df.head()"
   ]
  },
  {
   "cell_type": "markdown",
   "metadata": {},
   "source": [
    "## The GSCAP GPS scripts \n",
    "provide a number of  miscellaneous, clustering, and api methods."
   ]
  },
  {
   "cell_type": "markdown",
   "metadata": {},
   "source": [
    "### Miscellaneous"
   ]
  },
  {
   "cell_type": "markdown",
   "metadata": {},
   "source": [
    "#### `as_pydate(str)`\n",
    "Use this method for converting a number of various string representations of dates (all forms in BRIGHTEN raw data) into a Python datetime data type."
   ]
  },
  {
   "cell_type": "code",
   "execution_count": 2,
   "metadata": {
    "ExecuteTime": {
     "end_time": "2018-11-11T17:52:32.858891Z",
     "start_time": "2018-11-11T17:52:32.851141Z"
    }
   },
   "outputs": [
    {
     "name": "stdout",
     "output_type": "stream",
     "text": [
      "<class 'datetime.datetime'> 2016-07-28T05:29:20\n",
      "<class 'datetime.datetime'> 2016-07-28T09:45:18\n"
     ]
    }
   ],
   "source": [
    "str_dates = ['28-07-16 05:29:20', '28-07-16 09:45:18']\n",
    "\n",
    "for sd in str_dates:\n",
    "    d = gps.as_pydate(sd)\n",
    "    print(type(d), d.isoformat())"
   ]
  },
  {
   "cell_type": "markdown",
   "metadata": {},
   "source": [
    "#### `isnum(x)`\n",
    "A common procedure when processing raw data is converting strings to numbers. This method verifies the given x can be converted to a float datatype. This is most useful when converting within a list comprehension."
   ]
  },
  {
   "cell_type": "code",
   "execution_count": 3,
   "metadata": {
    "ExecuteTime": {
     "end_time": "2018-11-11T17:52:32.898473Z",
     "start_time": "2018-11-11T17:52:32.862476Z"
    }
   },
   "outputs": [
    {
     "data": {
      "text/plain": [
       "[1.0, -1.0, nan, 5.4, nan]"
      ]
     },
     "execution_count": 3,
     "metadata": {},
     "output_type": "execute_result"
    }
   ],
   "source": [
    "s = ['1', '-1.', 'a', '5.4', '5.a']\n",
    "t = [float(x) if gps.isnum(x) else np.nan for x in s]; t"
   ]
  },
  {
   "cell_type": "markdown",
   "metadata": {},
   "source": [
    "#### `dd_from_zip(zipcode)` and `zip_from_dd(lat, lon)`\n",
    "A mapping table of zipcodes to latitudes and longitudes is downloaded from the GSCAP source when the script begins. You can take advantage of these two conversion methods to go back and forth between the two. One thing to remember when using these conversion is that you may incur resolution loss. For example, an infinite amount of lat, lon pairs exist within any given zipcode boundary. When converting from lat, lon to zip you lose that resolution. When coming back from zip to lat, lon you'll get the center point for the given zipcode, which no longer has the resolution you would need for performing reliable clustering algorithms or API lookups."
   ]
  },
  {
   "cell_type": "code",
   "execution_count": 4,
   "metadata": {
    "ExecuteTime": {
     "end_time": "2018-11-11T17:52:32.975508Z",
     "start_time": "2018-11-11T17:52:32.901210Z"
    }
   },
   "outputs": [
    {
     "data": {
      "text/plain": [
       "[(47.68575, -122.28159), (45.48321, -122.51051), (38.11094, -86.91513)]"
      ]
     },
     "execution_count": 4,
     "metadata": {},
     "output_type": "execute_result"
    },
    {
     "data": {
      "text/plain": [
       "[98115, 97236, 47579]"
      ]
     },
     "execution_count": 4,
     "metadata": {},
     "output_type": "execute_result"
    }
   ],
   "source": [
    "zips = [98115, 97236, 47579]\n",
    "dds = [gps.dd_from_zip(zc) for zc in zips]\n",
    "dds\n",
    "\n",
    "del zips\n",
    "zips = [gps.zip_from_dd(*coordinate_pair) for coordinate_pair in dds]\n",
    "zips"
   ]
  },
  {
   "cell_type": "markdown",
   "metadata": {},
   "source": [
    "### Stream processing"
   ]
  },
  {
   "cell_type": "markdown",
   "metadata": {},
   "source": [
    "A number of functions are available for preprocessing the GPS stream. All methods taking `gps_records` require the records to be given as a list of `gps.GPS` where as methods taking `records` need a Pandas dataframe containing three collumns: lat, lon, and ts where ts is the timestamp. `gps.GPS` is a namedtuple defined in gps.py and contains the same three fields: lat, lon, and ts."
   ]
  },
  {
   "cell_type": "markdown",
   "metadata": {},
   "source": [
    "#### `resample_gps_intervals(records)`\n",
    "Currently, this method only resamples at one-minute intervals taking the mean of each lat, long within the interval. The timestamp returned is the minute for which the sampling occurred."
   ]
  },
  {
   "cell_type": "code",
   "execution_count": 5,
   "metadata": {
    "ExecuteTime": {
     "end_time": "2018-11-11T17:52:33.010350Z",
     "start_time": "2018-11-11T17:52:32.978659Z"
    }
   },
   "outputs": [
    {
     "data": {
      "text/html": [
       "<div>\n",
       "<style scoped>\n",
       "    .dataframe tbody tr th:only-of-type {\n",
       "        vertical-align: middle;\n",
       "    }\n",
       "\n",
       "    .dataframe tbody tr th {\n",
       "        vertical-align: top;\n",
       "    }\n",
       "\n",
       "    .dataframe thead th {\n",
       "        text-align: right;\n",
       "    }\n",
       "</style>\n",
       "<table border=\"1\" class=\"dataframe\">\n",
       "  <thead>\n",
       "    <tr style=\"text-align: right;\">\n",
       "      <th></th>\n",
       "      <th>lat</th>\n",
       "      <th>lon</th>\n",
       "      <th>ts</th>\n",
       "    </tr>\n",
       "  </thead>\n",
       "  <tbody>\n",
       "    <tr>\n",
       "      <th>0</th>\n",
       "      <td>47.13</td>\n",
       "      <td>122.13</td>\n",
       "      <td>2018-11-11 09:51:00</td>\n",
       "    </tr>\n",
       "    <tr>\n",
       "      <th>1</th>\n",
       "      <td>47.11</td>\n",
       "      <td>122.11</td>\n",
       "      <td>2018-11-11 09:52:00</td>\n",
       "    </tr>\n",
       "  </tbody>\n",
       "</table>\n",
       "</div>"
      ],
      "text/plain": [
       "     lat     lon                  ts\n",
       "0  47.13  122.13 2018-11-11 09:51:00\n",
       "1  47.11  122.11 2018-11-11 09:52:00"
      ]
     },
     "execution_count": 5,
     "metadata": {},
     "output_type": "execute_result"
    }
   ],
   "source": [
    "records = pd.DataFrame([\n",
    "    (47.10, 122.10, dt.datetime.now()),\n",
    "    (47.11, 122.11, dt.datetime.now()-dt.timedelta(seconds=15)),\n",
    "    (47.12, 122.12, dt.datetime.now()-dt.timedelta(seconds=30)),\n",
    "    (47.13, 122.13, dt.datetime.now()-dt.timedelta(seconds=65)),\n",
    "], columns=['lat', 'lon', 'ts'])\n",
    "\n",
    "gps.resample_gps_intervals(records)"
   ]
  },
  {
   "cell_type": "markdown",
   "metadata": {},
   "source": [
    "#### `impute_stationary_coordinates(records, freq, metrics)` \n",
    "This method can be used to upsample the number of points in a stationary location. This is used to account for specific data collection methods that don't take samples if the research participant hasn't moved location. Additionally, this helps when using density based clustering techniques to find a participants frequently visited locations.\n",
    "* freq - is a given interval as defined in the Pandas timeseries methods. Read more in the [Pandas Docs](https://pandas.pydata.org/pandas-docs/stable/timeseries.html)\n",
    "* metrics - is a boolean value which tells the function whether or not to return the records with the velocity metrics used to locate stationary positions."
   ]
  },
  {
   "cell_type": "code",
   "execution_count": 6,
   "metadata": {
    "ExecuteTime": {
     "end_time": "2018-11-11T17:52:33.146822Z",
     "start_time": "2018-11-11T17:52:33.016732Z"
    }
   },
   "outputs": [
    {
     "data": {
      "text/html": [
       "<div>\n",
       "<style scoped>\n",
       "    .dataframe tbody tr th:only-of-type {\n",
       "        vertical-align: middle;\n",
       "    }\n",
       "\n",
       "    .dataframe tbody tr th {\n",
       "        vertical-align: top;\n",
       "    }\n",
       "\n",
       "    .dataframe thead th {\n",
       "        text-align: right;\n",
       "    }\n",
       "</style>\n",
       "<table border=\"1\" class=\"dataframe\">\n",
       "  <thead>\n",
       "    <tr style=\"text-align: right;\">\n",
       "      <th></th>\n",
       "      <th>lat</th>\n",
       "      <th>lon</th>\n",
       "      <th>ts</th>\n",
       "    </tr>\n",
       "  </thead>\n",
       "  <tbody>\n",
       "    <tr>\n",
       "      <th>0</th>\n",
       "      <td>47.1</td>\n",
       "      <td>122.1</td>\n",
       "      <td>2018-11-11 09:22:33.036198</td>\n",
       "    </tr>\n",
       "    <tr>\n",
       "      <th>1</th>\n",
       "      <td>47.1</td>\n",
       "      <td>122.1</td>\n",
       "      <td>2018-11-11 09:32:33.036198</td>\n",
       "    </tr>\n",
       "    <tr>\n",
       "      <th>2</th>\n",
       "      <td>47.1</td>\n",
       "      <td>122.1</td>\n",
       "      <td>2018-11-11 09:42:33.036198</td>\n",
       "    </tr>\n",
       "    <tr>\n",
       "      <th>3</th>\n",
       "      <td>47.1</td>\n",
       "      <td>122.1</td>\n",
       "      <td>2018-11-11 09:52:33.036190</td>\n",
       "    </tr>\n",
       "  </tbody>\n",
       "</table>\n",
       "</div>"
      ],
      "text/plain": [
       "    lat    lon                         ts\n",
       "0  47.1  122.1 2018-11-11 09:22:33.036198\n",
       "1  47.1  122.1 2018-11-11 09:32:33.036198\n",
       "2  47.1  122.1 2018-11-11 09:42:33.036198\n",
       "3  47.1  122.1 2018-11-11 09:52:33.036190"
      ]
     },
     "execution_count": 6,
     "metadata": {},
     "output_type": "execute_result"
    },
    {
     "data": {
      "text/html": [
       "<div>\n",
       "<style scoped>\n",
       "    .dataframe tbody tr th:only-of-type {\n",
       "        vertical-align: middle;\n",
       "    }\n",
       "\n",
       "    .dataframe tbody tr th {\n",
       "        vertical-align: top;\n",
       "    }\n",
       "\n",
       "    .dataframe thead th {\n",
       "        text-align: right;\n",
       "    }\n",
       "</style>\n",
       "<table border=\"1\" class=\"dataframe\">\n",
       "  <thead>\n",
       "    <tr style=\"text-align: right;\">\n",
       "      <th></th>\n",
       "      <th>binning</th>\n",
       "      <th>displacement</th>\n",
       "      <th>lat</th>\n",
       "      <th>lon</th>\n",
       "      <th>time_delta</th>\n",
       "      <th>ts</th>\n",
       "      <th>velocity</th>\n",
       "    </tr>\n",
       "  </thead>\n",
       "  <tbody>\n",
       "    <tr>\n",
       "      <th>0</th>\n",
       "      <td>stationary</td>\n",
       "      <td>NaN</td>\n",
       "      <td>47.1</td>\n",
       "      <td>122.1</td>\n",
       "      <td>NaN</td>\n",
       "      <td>2018-11-11 09:22:33.036198</td>\n",
       "      <td>NaN</td>\n",
       "    </tr>\n",
       "    <tr>\n",
       "      <th>1</th>\n",
       "      <td>stationary</td>\n",
       "      <td>0.0</td>\n",
       "      <td>47.1</td>\n",
       "      <td>122.1</td>\n",
       "      <td>300.0</td>\n",
       "      <td>2018-11-11 09:27:33.036198</td>\n",
       "      <td>0.0</td>\n",
       "    </tr>\n",
       "    <tr>\n",
       "      <th>2</th>\n",
       "      <td>stationary</td>\n",
       "      <td>0.0</td>\n",
       "      <td>47.1</td>\n",
       "      <td>122.1</td>\n",
       "      <td>300.0</td>\n",
       "      <td>2018-11-11 09:32:33.036198</td>\n",
       "      <td>0.0</td>\n",
       "    </tr>\n",
       "    <tr>\n",
       "      <th>3</th>\n",
       "      <td>stationary</td>\n",
       "      <td>0.0</td>\n",
       "      <td>47.1</td>\n",
       "      <td>122.1</td>\n",
       "      <td>300.0</td>\n",
       "      <td>2018-11-11 09:37:33.036198</td>\n",
       "      <td>0.0</td>\n",
       "    </tr>\n",
       "    <tr>\n",
       "      <th>4</th>\n",
       "      <td>stationary</td>\n",
       "      <td>0.0</td>\n",
       "      <td>47.1</td>\n",
       "      <td>122.1</td>\n",
       "      <td>300.0</td>\n",
       "      <td>2018-11-11 09:42:33.036198</td>\n",
       "      <td>0.0</td>\n",
       "    </tr>\n",
       "    <tr>\n",
       "      <th>5</th>\n",
       "      <td>stationary</td>\n",
       "      <td>0.0</td>\n",
       "      <td>47.1</td>\n",
       "      <td>122.1</td>\n",
       "      <td>300.0</td>\n",
       "      <td>2018-11-11 09:47:33.036198</td>\n",
       "      <td>0.0</td>\n",
       "    </tr>\n",
       "    <tr>\n",
       "      <th>6</th>\n",
       "      <td>stationary</td>\n",
       "      <td>0.0</td>\n",
       "      <td>47.1</td>\n",
       "      <td>122.1</td>\n",
       "      <td>299.0</td>\n",
       "      <td>2018-11-11 09:52:33.036190</td>\n",
       "      <td>0.0</td>\n",
       "    </tr>\n",
       "  </tbody>\n",
       "</table>\n",
       "</div>"
      ],
      "text/plain": [
       "      binning  displacement   lat    lon  time_delta  \\\n",
       "0  stationary           NaN  47.1  122.1         NaN   \n",
       "1  stationary           0.0  47.1  122.1       300.0   \n",
       "2  stationary           0.0  47.1  122.1       300.0   \n",
       "3  stationary           0.0  47.1  122.1       300.0   \n",
       "4  stationary           0.0  47.1  122.1       300.0   \n",
       "5  stationary           0.0  47.1  122.1       300.0   \n",
       "6  stationary           0.0  47.1  122.1       299.0   \n",
       "\n",
       "                          ts  velocity  \n",
       "0 2018-11-11 09:22:33.036198       NaN  \n",
       "1 2018-11-11 09:27:33.036198       0.0  \n",
       "2 2018-11-11 09:32:33.036198       0.0  \n",
       "3 2018-11-11 09:37:33.036198       0.0  \n",
       "4 2018-11-11 09:42:33.036198       0.0  \n",
       "5 2018-11-11 09:47:33.036198       0.0  \n",
       "6 2018-11-11 09:52:33.036190       0.0  "
      ]
     },
     "execution_count": 6,
     "metadata": {},
     "output_type": "execute_result"
    }
   ],
   "source": [
    "records = pd.DataFrame([\n",
    "    (47.10, 122.10, dt.datetime.now()),\n",
    "    (47.10, 122.10, dt.datetime.now()-dt.timedelta(minutes=30)),\n",
    "], columns=['lat', 'lon', 'ts'])\n",
    "\n",
    "gps.impute_stationary_coordinates(records, freq='10Min', metrics=False)\n",
    "gps.impute_stationary_coordinates(records, freq='5Min', metrics=True)"
   ]
  },
  {
   "cell_type": "markdown",
   "metadata": {},
   "source": [
    "#### `geo_distance(lat1, lon1, lat2, lon2)` \n",
    "Computes the geographic distance in meters between two latitude, longitude pairs."
   ]
  },
  {
   "cell_type": "code",
   "execution_count": 7,
   "metadata": {
    "ExecuteTime": {
     "end_time": "2018-11-11T17:52:33.159190Z",
     "start_time": "2018-11-11T17:52:33.151230Z"
    }
   },
   "outputs": [
    {
     "data": {
      "text/plain": [
       "13447.27857197738"
      ]
     },
     "execution_count": 7,
     "metadata": {},
     "output_type": "execute_result"
    }
   ],
   "source": [
    "pair1 = (47.1, 122.1)\n",
    "pair2 = (47.2, 122.2)\n",
    "\n",
    "gps.geo_distance(*pair1, *pair2)"
   ]
  },
  {
   "cell_type": "markdown",
   "metadata": {},
   "source": [
    "#### `geo_pairwise_distances(x, n_jobs)`\n",
    "Accepts a list of coordinate pairs and computes the pairwise geographic distance between each pair. Set `n_jobs` to -1 to use all available cores."
   ]
  },
  {
   "cell_type": "code",
   "execution_count": 8,
   "metadata": {
    "ExecuteTime": {
     "end_time": "2018-11-11T17:52:34.267427Z",
     "start_time": "2018-11-11T17:52:33.164329Z"
    }
   },
   "outputs": [
    {
     "data": {
      "text/html": [
       "<div>\n",
       "<style scoped>\n",
       "    .dataframe tbody tr th:only-of-type {\n",
       "        vertical-align: middle;\n",
       "    }\n",
       "\n",
       "    .dataframe tbody tr th {\n",
       "        vertical-align: top;\n",
       "    }\n",
       "\n",
       "    .dataframe thead th {\n",
       "        text-align: right;\n",
       "    }\n",
       "</style>\n",
       "<table border=\"1\" class=\"dataframe\">\n",
       "  <thead>\n",
       "    <tr style=\"text-align: right;\">\n",
       "      <th></th>\n",
       "      <th>lat1</th>\n",
       "      <th>lon1</th>\n",
       "      <th>lat2</th>\n",
       "      <th>lon2</th>\n",
       "      <th>distance</th>\n",
       "    </tr>\n",
       "  </thead>\n",
       "  <tbody>\n",
       "    <tr>\n",
       "      <th>0</th>\n",
       "      <td>47.111</td>\n",
       "      <td>122</td>\n",
       "      <td>47.112</td>\n",
       "      <td>122</td>\n",
       "      <td>111.2</td>\n",
       "    </tr>\n",
       "    <tr>\n",
       "      <th>1</th>\n",
       "      <td>47.111</td>\n",
       "      <td>122</td>\n",
       "      <td>47.113</td>\n",
       "      <td>122</td>\n",
       "      <td>222.4</td>\n",
       "    </tr>\n",
       "    <tr>\n",
       "      <th>2</th>\n",
       "      <td>47.112</td>\n",
       "      <td>122</td>\n",
       "      <td>47.113</td>\n",
       "      <td>122</td>\n",
       "      <td>111.2</td>\n",
       "    </tr>\n",
       "  </tbody>\n",
       "</table>\n",
       "</div>"
      ],
      "text/plain": [
       "     lat1  lon1    lat2  lon2  distance\n",
       "0  47.111   122  47.112   122     111.2\n",
       "1  47.111   122  47.113   122     222.4\n",
       "2  47.112   122  47.113   122     111.2"
      ]
     },
     "execution_count": 8,
     "metadata": {},
     "output_type": "execute_result"
    },
    {
     "data": {
      "text/plain": [
       "array([111.2, 111.2, 222.4])"
      ]
     },
     "execution_count": 8,
     "metadata": {},
     "output_type": "execute_result"
    }
   ],
   "source": [
    "x = [\n",
    "    (47.111, 122), \n",
    "    (47.112, 122),\n",
    "    (47.113, 122)\n",
    "]\n",
    "\n",
    "gps.geo_pairwise_distances(x, as_array=False, n_jobs=-1)\n",
    "gps.geo_pairwise_distances(x, as_array=True, n_jobs=-1)"
   ]
  },
  {
   "cell_type": "markdown",
   "metadata": {
    "collapsed": true
   },
   "source": [
    "#### `discrete_velocity(coordinate_a, coordinate_b)`\n",
    "Calculate the velocity binning between two coordinate pairs."
   ]
  },
  {
   "cell_type": "code",
   "execution_count": 9,
   "metadata": {
    "ExecuteTime": {
     "end_time": "2018-11-11T17:52:34.331239Z",
     "start_time": "2018-11-11T17:52:34.278945Z"
    }
   },
   "outputs": [
    {
     "data": {
      "text/plain": [
       "{'displacement': 14.5,\n",
       " 'time_delta': 60,\n",
       " 'velocity': 0.241,\n",
       " 'binning': 'stationary'}"
      ]
     },
     "execution_count": 9,
     "metadata": {},
     "output_type": "execute_result"
    },
    {
     "data": {
      "text/plain": [
       "{'displacement': 144.5,\n",
       " 'time_delta': 60,\n",
       " 'velocity': 2.409,\n",
       " 'binning': 'active'}"
      ]
     },
     "execution_count": 9,
     "metadata": {},
     "output_type": "execute_result"
    },
    {
     "data": {
      "text/plain": [
       "{'displacement': 1445.3,\n",
       " 'time_delta': 60,\n",
       " 'velocity': 24.089,\n",
       " 'binning': 'powered_vehicle'}"
      ]
     },
     "execution_count": 9,
     "metadata": {},
     "output_type": "execute_result"
    },
    {
     "data": {
      "text/plain": [
       "{'displacement': 14456.5,\n",
       " 'time_delta': 60,\n",
       " 'velocity': 240.941,\n",
       " 'binning': 'high_speed_transportation'}"
      ]
     },
     "execution_count": 9,
     "metadata": {},
     "output_type": "execute_result"
    },
    {
     "data": {
      "text/plain": [
       "{'displacement': 144872.1,\n",
       " 'time_delta': 60,\n",
       " 'velocity': 2414.535,\n",
       " 'binning': 'anomaly'}"
      ]
     },
     "execution_count": 9,
     "metadata": {},
     "output_type": "execute_result"
    }
   ],
   "source": [
    "now, td = dt.datetime.now(), dt.timedelta(minutes=1)\n",
    "lat, lon = -33.8666199, 151.1958527\n",
    "coordinate_pairs = []\n",
    "\n",
    "a, b = (lat, lon, now), (lat + 0.0001, lon + 0.0001, now+td)\n",
    "coordinate_pairs.append(a)\n",
    "coordinate_pairs.append(b)\n",
    "gps.discrete_velocity(a, b)\n",
    "\n",
    "a, b = (lat, lon, now), (lat + 0.001, lon + 0.001, now+td)\n",
    "coordinate_pairs.append(a)\n",
    "coordinate_pairs.append(b)\n",
    "gps.discrete_velocity(a, b)\n",
    "\n",
    "a, b = (lat, lon, now), (lat + 0.01, lon + 0.01, now+td)\n",
    "coordinate_pairs.append(a)\n",
    "coordinate_pairs.append(b)\n",
    "gps.discrete_velocity(a, b)\n",
    "\n",
    "a, b = (lat, lon, now), (lat + 0.1, lon + 0.1, now+td)\n",
    "coordinate_pairs.append(a)\n",
    "coordinate_pairs.append(b)\n",
    "gps.discrete_velocity(a, b)\n",
    "\n",
    "a, b = (lat, lon, now), (lat + 1, lon + 1, now+td)\n",
    "coordinate_pairs.append(a)\n",
    "coordinate_pairs.append(b)\n",
    "gps.discrete_velocity(a, b)"
   ]
  },
  {
   "cell_type": "markdown",
   "metadata": {},
   "source": [
    "#### `process_velocities(gps_records)`\n",
    "Use this to calculate distance, time_deltas, and velocities - continuous and semantic - between a list of gps records."
   ]
  },
  {
   "cell_type": "code",
   "execution_count": 10,
   "metadata": {
    "ExecuteTime": {
     "end_time": "2018-11-11T17:52:34.398479Z",
     "start_time": "2018-11-11T17:52:34.334969Z"
    }
   },
   "outputs": [
    {
     "data": {
      "text/html": [
       "<div>\n",
       "<style scoped>\n",
       "    .dataframe tbody tr th:only-of-type {\n",
       "        vertical-align: middle;\n",
       "    }\n",
       "\n",
       "    .dataframe tbody tr th {\n",
       "        vertical-align: top;\n",
       "    }\n",
       "\n",
       "    .dataframe thead th {\n",
       "        text-align: right;\n",
       "    }\n",
       "</style>\n",
       "<table border=\"1\" class=\"dataframe\">\n",
       "  <thead>\n",
       "    <tr style=\"text-align: right;\">\n",
       "      <th></th>\n",
       "      <th>lat</th>\n",
       "      <th>lon</th>\n",
       "      <th>ts</th>\n",
       "      <th>binning</th>\n",
       "      <th>displacement</th>\n",
       "      <th>time_delta</th>\n",
       "      <th>velocity</th>\n",
       "    </tr>\n",
       "  </thead>\n",
       "  <tbody>\n",
       "    <tr>\n",
       "      <th>0</th>\n",
       "      <td>-33.86662</td>\n",
       "      <td>151.195853</td>\n",
       "      <td>2018-11-11 09:52:34.294985</td>\n",
       "      <td>stationary</td>\n",
       "      <td>NaN</td>\n",
       "      <td>NaN</td>\n",
       "      <td>NaN</td>\n",
       "    </tr>\n",
       "    <tr>\n",
       "      <th>1</th>\n",
       "      <td>-33.86652</td>\n",
       "      <td>151.195953</td>\n",
       "      <td>2018-11-11 09:53:34.294985</td>\n",
       "      <td>stationary</td>\n",
       "      <td>14.5</td>\n",
       "      <td>60.0</td>\n",
       "      <td>0.241</td>\n",
       "    </tr>\n",
       "    <tr>\n",
       "      <th>2</th>\n",
       "      <td>-33.86662</td>\n",
       "      <td>151.195853</td>\n",
       "      <td>2018-11-11 09:52:34.294985</td>\n",
       "      <td>stationary</td>\n",
       "      <td>14.5</td>\n",
       "      <td>60.0</td>\n",
       "      <td>0.241</td>\n",
       "    </tr>\n",
       "    <tr>\n",
       "      <th>3</th>\n",
       "      <td>-33.86562</td>\n",
       "      <td>151.196853</td>\n",
       "      <td>2018-11-11 09:53:34.294985</td>\n",
       "      <td>active</td>\n",
       "      <td>144.5</td>\n",
       "      <td>60.0</td>\n",
       "      <td>2.409</td>\n",
       "    </tr>\n",
       "    <tr>\n",
       "      <th>4</th>\n",
       "      <td>-33.86662</td>\n",
       "      <td>151.195853</td>\n",
       "      <td>2018-11-11 09:52:34.294985</td>\n",
       "      <td>active</td>\n",
       "      <td>144.5</td>\n",
       "      <td>60.0</td>\n",
       "      <td>2.409</td>\n",
       "    </tr>\n",
       "    <tr>\n",
       "      <th>5</th>\n",
       "      <td>-33.85662</td>\n",
       "      <td>151.205853</td>\n",
       "      <td>2018-11-11 09:53:34.294985</td>\n",
       "      <td>powered_vehicle</td>\n",
       "      <td>1445.3</td>\n",
       "      <td>60.0</td>\n",
       "      <td>24.089</td>\n",
       "    </tr>\n",
       "    <tr>\n",
       "      <th>6</th>\n",
       "      <td>-33.86662</td>\n",
       "      <td>151.195853</td>\n",
       "      <td>2018-11-11 09:52:34.294985</td>\n",
       "      <td>powered_vehicle</td>\n",
       "      <td>1445.3</td>\n",
       "      <td>60.0</td>\n",
       "      <td>24.089</td>\n",
       "    </tr>\n",
       "    <tr>\n",
       "      <th>7</th>\n",
       "      <td>-33.76662</td>\n",
       "      <td>151.295853</td>\n",
       "      <td>2018-11-11 09:53:34.294985</td>\n",
       "      <td>high_speed_transportation</td>\n",
       "      <td>14456.5</td>\n",
       "      <td>60.0</td>\n",
       "      <td>240.941</td>\n",
       "    </tr>\n",
       "    <tr>\n",
       "      <th>8</th>\n",
       "      <td>-33.86662</td>\n",
       "      <td>151.195853</td>\n",
       "      <td>2018-11-11 09:52:34.294985</td>\n",
       "      <td>high_speed_transportation</td>\n",
       "      <td>14456.5</td>\n",
       "      <td>60.0</td>\n",
       "      <td>240.941</td>\n",
       "    </tr>\n",
       "    <tr>\n",
       "      <th>9</th>\n",
       "      <td>-32.86662</td>\n",
       "      <td>152.195853</td>\n",
       "      <td>2018-11-11 09:53:34.294985</td>\n",
       "      <td>anomaly</td>\n",
       "      <td>144872.1</td>\n",
       "      <td>60.0</td>\n",
       "      <td>2414.535</td>\n",
       "    </tr>\n",
       "  </tbody>\n",
       "</table>\n",
       "</div>"
      ],
      "text/plain": [
       "        lat         lon                         ts                    binning  \\\n",
       "0 -33.86662  151.195853 2018-11-11 09:52:34.294985                 stationary   \n",
       "1 -33.86652  151.195953 2018-11-11 09:53:34.294985                 stationary   \n",
       "2 -33.86662  151.195853 2018-11-11 09:52:34.294985                 stationary   \n",
       "3 -33.86562  151.196853 2018-11-11 09:53:34.294985                     active   \n",
       "4 -33.86662  151.195853 2018-11-11 09:52:34.294985                     active   \n",
       "5 -33.85662  151.205853 2018-11-11 09:53:34.294985            powered_vehicle   \n",
       "6 -33.86662  151.195853 2018-11-11 09:52:34.294985            powered_vehicle   \n",
       "7 -33.76662  151.295853 2018-11-11 09:53:34.294985  high_speed_transportation   \n",
       "8 -33.86662  151.195853 2018-11-11 09:52:34.294985  high_speed_transportation   \n",
       "9 -32.86662  152.195853 2018-11-11 09:53:34.294985                    anomaly   \n",
       "\n",
       "   displacement  time_delta  velocity  \n",
       "0           NaN         NaN       NaN  \n",
       "1          14.5        60.0     0.241  \n",
       "2          14.5        60.0     0.241  \n",
       "3         144.5        60.0     2.409  \n",
       "4         144.5        60.0     2.409  \n",
       "5        1445.3        60.0    24.089  \n",
       "6        1445.3        60.0    24.089  \n",
       "7       14456.5        60.0   240.941  \n",
       "8       14456.5        60.0   240.941  \n",
       "9      144872.1        60.0  2414.535  "
      ]
     },
     "execution_count": 10,
     "metadata": {},
     "output_type": "execute_result"
    }
   ],
   "source": [
    "records = pd.DataFrame(coordinate_pairs, columns=['lat', 'lon', 'ts'])\n",
    "gps.process_velocities(records)"
   ]
  },
  {
   "cell_type": "markdown",
   "metadata": {},
   "source": [
    "### Clustering"
   ]
  },
  {
   "cell_type": "markdown",
   "metadata": {},
   "source": [
    "#### `gps_dbscan(gps_records, parameters)`\n",
    "This function is used to perform the unsupervised clustering algorithm DBSCAN and the provided records. Parameters should be a dict and contain both min_samples and eps. See the [scikit-learn docs](http://scikit-learn.org/stable/modules/generated/sklearn.cluster.DBSCAN.html) for more information."
   ]
  },
  {
   "cell_type": "code",
   "execution_count": 11,
   "metadata": {
    "ExecuteTime": {
     "end_time": "2018-11-11T17:52:34.634329Z",
     "start_time": "2018-11-11T17:52:34.400817Z"
    }
   },
   "outputs": [
    {
     "data": {
      "text/plain": [
       "array([-1, -1, -1, ...,  0,  0,  0])"
      ]
     },
     "execution_count": 11,
     "metadata": {},
     "output_type": "execute_result"
    },
    {
     "data": {
      "text/html": [
       "<div>\n",
       "<style scoped>\n",
       "    .dataframe tbody tr th:only-of-type {\n",
       "        vertical-align: middle;\n",
       "    }\n",
       "\n",
       "    .dataframe tbody tr th {\n",
       "        vertical-align: top;\n",
       "    }\n",
       "\n",
       "    .dataframe thead th {\n",
       "        text-align: right;\n",
       "    }\n",
       "</style>\n",
       "<table border=\"1\" class=\"dataframe\">\n",
       "  <thead>\n",
       "    <tr style=\"text-align: right;\">\n",
       "      <th></th>\n",
       "      <th>cid</th>\n",
       "      <th>lat</th>\n",
       "      <th>lat_IQR</th>\n",
       "      <th>lat_max</th>\n",
       "      <th>lat_min</th>\n",
       "      <th>lat_range</th>\n",
       "      <th>lat_std</th>\n",
       "      <th>lon</th>\n",
       "      <th>lon_IQR</th>\n",
       "      <th>lon_max</th>\n",
       "      <th>lon_min</th>\n",
       "      <th>lon_range</th>\n",
       "      <th>lon_std</th>\n",
       "      <th>max_distance_from_center</th>\n",
       "    </tr>\n",
       "  </thead>\n",
       "  <tbody>\n",
       "    <tr>\n",
       "      <th>0</th>\n",
       "      <td>0</td>\n",
       "      <td>47.67723</td>\n",
       "      <td>0.00018</td>\n",
       "      <td>47.68021</td>\n",
       "      <td>47.66950</td>\n",
       "      <td>0.01071</td>\n",
       "      <td>0.00144</td>\n",
       "      <td>-122.31961</td>\n",
       "      <td>0.00241</td>\n",
       "      <td>-122.31308</td>\n",
       "      <td>-122.32822</td>\n",
       "      <td>0.01514</td>\n",
       "      <td>0.00117</td>\n",
       "      <td>884.632</td>\n",
       "    </tr>\n",
       "    <tr>\n",
       "      <th>1</th>\n",
       "      <td>1</td>\n",
       "      <td>45.56460</td>\n",
       "      <td>0.00061</td>\n",
       "      <td>45.56508</td>\n",
       "      <td>45.56088</td>\n",
       "      <td>0.00420</td>\n",
       "      <td>0.00043</td>\n",
       "      <td>-122.53376</td>\n",
       "      <td>0.00036</td>\n",
       "      <td>-122.53304</td>\n",
       "      <td>-122.53645</td>\n",
       "      <td>0.00341</td>\n",
       "      <td>0.00037</td>\n",
       "      <td>464.019</td>\n",
       "    </tr>\n",
       "    <tr>\n",
       "      <th>2</th>\n",
       "      <td>2</td>\n",
       "      <td>45.49465</td>\n",
       "      <td>0.00053</td>\n",
       "      <td>45.50092</td>\n",
       "      <td>45.48952</td>\n",
       "      <td>0.01140</td>\n",
       "      <td>0.00098</td>\n",
       "      <td>-122.47981</td>\n",
       "      <td>0.00041</td>\n",
       "      <td>-122.47438</td>\n",
       "      <td>-122.48696</td>\n",
       "      <td>0.01258</td>\n",
       "      <td>0.00156</td>\n",
       "      <td>776.458</td>\n",
       "    </tr>\n",
       "  </tbody>\n",
       "</table>\n",
       "</div>"
      ],
      "text/plain": [
       "   cid       lat  lat_IQR   lat_max   lat_min  lat_range  lat_std        lon  \\\n",
       "0    0  47.67723  0.00018  47.68021  47.66950    0.01071  0.00144 -122.31961   \n",
       "1    1  45.56460  0.00061  45.56508  45.56088    0.00420  0.00043 -122.53376   \n",
       "2    2  45.49465  0.00053  45.50092  45.48952    0.01140  0.00098 -122.47981   \n",
       "\n",
       "   lon_IQR    lon_max    lon_min  lon_range  lon_std  max_distance_from_center  \n",
       "0  0.00241 -122.31308 -122.32822    0.01514  0.00117                   884.632  \n",
       "1  0.00036 -122.53304 -122.53645    0.00341  0.00037                   464.019  \n",
       "2  0.00041 -122.47438 -122.48696    0.01258  0.00156                   776.458  "
      ]
     },
     "execution_count": 11,
     "metadata": {},
     "output_type": "execute_result"
    }
   ],
   "source": [
    "gps_records = [\n",
    "    gps.GPS(t.lat, t.lon, t.ts) for t in df.itertuples()\n",
    "]\n",
    "\n",
    "labels, clusters = gps.gps_dbscan(gps_records, dbscan_p1_params)\n",
    "\n",
    "labels\n",
    "pd.DataFrame(clusters)"
   ]
  },
  {
   "cell_type": "markdown",
   "metadata": {},
   "source": [
    "#### `estimate_home_location(records, parameters)`\n",
    "This method takes the same parameters as gps_dbscan above but only uses the points with timestamps between midnight and 6am for the clustering. Returns two variables, the first is the cluster and second is the list of indices assigned to the home location."
   ]
  },
  {
   "cell_type": "code",
   "execution_count": 12,
   "metadata": {
    "ExecuteTime": {
     "end_time": "2018-11-11T17:52:34.841092Z",
     "start_time": "2018-11-11T17:52:34.636383Z"
    }
   },
   "outputs": [
    {
     "data": {
      "text/html": [
       "<div>\n",
       "<style scoped>\n",
       "    .dataframe tbody tr th:only-of-type {\n",
       "        vertical-align: middle;\n",
       "    }\n",
       "\n",
       "    .dataframe tbody tr th {\n",
       "        vertical-align: top;\n",
       "    }\n",
       "\n",
       "    .dataframe thead th {\n",
       "        text-align: right;\n",
       "    }\n",
       "</style>\n",
       "<table border=\"1\" class=\"dataframe\">\n",
       "  <thead>\n",
       "    <tr style=\"text-align: right;\">\n",
       "      <th></th>\n",
       "      <th>lat</th>\n",
       "      <th>lon</th>\n",
       "      <th>cid</th>\n",
       "      <th>lat_range</th>\n",
       "      <th>lat_IQR</th>\n",
       "      <th>lat_min</th>\n",
       "      <th>lat_max</th>\n",
       "      <th>lat_std</th>\n",
       "      <th>lon_range</th>\n",
       "      <th>lon_IQR</th>\n",
       "      <th>lon_min</th>\n",
       "      <th>lon_max</th>\n",
       "      <th>lon_std</th>\n",
       "      <th>max_distance_from_center</th>\n",
       "    </tr>\n",
       "  </thead>\n",
       "  <tbody>\n",
       "    <tr>\n",
       "      <th>1</th>\n",
       "      <td>47.67723</td>\n",
       "      <td>-122.31961</td>\n",
       "      <td>0</td>\n",
       "      <td>0.01071</td>\n",
       "      <td>0.00018</td>\n",
       "      <td>47.6695</td>\n",
       "      <td>47.68021</td>\n",
       "      <td>0.00144</td>\n",
       "      <td>0.01514</td>\n",
       "      <td>0.00241</td>\n",
       "      <td>-122.32822</td>\n",
       "      <td>-122.31308</td>\n",
       "      <td>0.00117</td>\n",
       "      <td>884.632</td>\n",
       "    </tr>\n",
       "  </tbody>\n",
       "</table>\n",
       "</div>"
      ],
      "text/plain": [
       "        lat        lon  cid  lat_range  lat_IQR  lat_min   lat_max  lat_std  \\\n",
       "1  47.67723 -122.31961    0    0.01071  0.00018  47.6695  47.68021  0.00144   \n",
       "\n",
       "   lon_range  lon_IQR    lon_min    lon_max  lon_std  max_distance_from_center  \n",
       "1    0.01514  0.00241 -122.32822 -122.31308  0.00117                   884.632  "
      ]
     },
     "execution_count": 12,
     "metadata": {},
     "output_type": "execute_result"
    },
    {
     "data": {
      "text/plain": [
       "[582, 583, 584, 585, 586, 587, 588, 589, 590, 591]"
      ]
     },
     "execution_count": 12,
     "metadata": {},
     "output_type": "execute_result"
    }
   ],
   "source": [
    "home, idx = gps.estimate_home_location(df, dbscan_p1_params)\n",
    "\n",
    "pd.DataFrame(home, index=[1])\n",
    "idx[:10]"
   ]
  },
  {
   "cell_type": "markdown",
   "metadata": {},
   "source": [
    "#### `estimate_work_location(records, parameters)`\n",
    "This method takes the same parameters as gps_dbscan above but only uses the points with timestamps between 9am and 5pm during weekdays for the clustering. Returns two variables, the first is the cluster and second is the list of indices assigned to the work location."
   ]
  },
  {
   "cell_type": "code",
   "execution_count": 13,
   "metadata": {
    "ExecuteTime": {
     "end_time": "2018-11-11T17:52:34.906928Z",
     "start_time": "2018-11-11T17:52:34.843891Z"
    }
   },
   "outputs": [
    {
     "data": {
      "text/html": [
       "<div>\n",
       "<style scoped>\n",
       "    .dataframe tbody tr th:only-of-type {\n",
       "        vertical-align: middle;\n",
       "    }\n",
       "\n",
       "    .dataframe tbody tr th {\n",
       "        vertical-align: top;\n",
       "    }\n",
       "\n",
       "    .dataframe thead th {\n",
       "        text-align: right;\n",
       "    }\n",
       "</style>\n",
       "<table border=\"1\" class=\"dataframe\">\n",
       "  <thead>\n",
       "    <tr style=\"text-align: right;\">\n",
       "      <th></th>\n",
       "      <th>lat</th>\n",
       "      <th>lon</th>\n",
       "      <th>cid</th>\n",
       "      <th>lat_range</th>\n",
       "      <th>lat_IQR</th>\n",
       "      <th>lat_min</th>\n",
       "      <th>lat_max</th>\n",
       "      <th>lat_std</th>\n",
       "      <th>lon_range</th>\n",
       "      <th>lon_IQR</th>\n",
       "      <th>lon_min</th>\n",
       "      <th>lon_max</th>\n",
       "      <th>lon_std</th>\n",
       "      <th>max_distance_from_center</th>\n",
       "    </tr>\n",
       "  </thead>\n",
       "  <tbody>\n",
       "    <tr>\n",
       "      <th>1</th>\n",
       "      <td>47.67764</td>\n",
       "      <td>-122.31958</td>\n",
       "      <td>0</td>\n",
       "      <td>0.00353</td>\n",
       "      <td>0.00042</td>\n",
       "      <td>47.67441</td>\n",
       "      <td>47.67794</td>\n",
       "      <td>0.00045</td>\n",
       "      <td>0.0046</td>\n",
       "      <td>0.00145</td>\n",
       "      <td>-122.32264</td>\n",
       "      <td>-122.31804</td>\n",
       "      <td>0.00034</td>\n",
       "      <td>369.511</td>\n",
       "    </tr>\n",
       "  </tbody>\n",
       "</table>\n",
       "</div>"
      ],
      "text/plain": [
       "        lat        lon  cid  lat_range  lat_IQR   lat_min   lat_max  lat_std  \\\n",
       "1  47.67764 -122.31958    0    0.00353  0.00042  47.67441  47.67794  0.00045   \n",
       "\n",
       "   lon_range  lon_IQR    lon_min    lon_max  lon_std  max_distance_from_center  \n",
       "1     0.0046  0.00145 -122.32264 -122.31804  0.00034                   369.511  "
      ]
     },
     "execution_count": 13,
     "metadata": {},
     "output_type": "execute_result"
    },
    {
     "data": {
      "text/plain": [
       "[601, 602, 603, 604, 605, 606, 607, 608, 609, 610]"
      ]
     },
     "execution_count": 13,
     "metadata": {},
     "output_type": "execute_result"
    }
   ],
   "source": [
    "work, idx = gps.estimate_work_location(df, dbscan_p1_params)\n",
    "\n",
    "pd.DataFrame(work, index=[1])\n",
    "idx[:10]"
   ]
  },
  {
   "cell_type": "markdown",
   "metadata": {},
   "source": [
    "#### `get_clusters_with_context(records, parameters)`\n",
    "Again, this takes the same arguments as above.  This method partitions the records into three sets - home, work, and everything else. - and performs the separate clustering on each partition. Two variables are returned, the records supplied with an additional row assigning cluster cids and the clusters themselves."
   ]
  },
  {
   "cell_type": "code",
   "execution_count": 14,
   "metadata": {
    "ExecuteTime": {
     "end_time": "2018-11-11T17:52:42.292406Z",
     "start_time": "2018-11-11T17:52:34.911290Z"
    }
   },
   "outputs": [
    {
     "data": {
      "text/html": [
       "<div>\n",
       "<style scoped>\n",
       "    .dataframe tbody tr th:only-of-type {\n",
       "        vertical-align: middle;\n",
       "    }\n",
       "\n",
       "    .dataframe tbody tr th {\n",
       "        vertical-align: top;\n",
       "    }\n",
       "\n",
       "    .dataframe thead th {\n",
       "        text-align: right;\n",
       "    }\n",
       "</style>\n",
       "<table border=\"1\" class=\"dataframe\">\n",
       "  <thead>\n",
       "    <tr style=\"text-align: right;\">\n",
       "      <th></th>\n",
       "      <th>binning</th>\n",
       "      <th>cid</th>\n",
       "      <th>displacement</th>\n",
       "      <th>lat</th>\n",
       "      <th>lon</th>\n",
       "      <th>time_delta</th>\n",
       "      <th>ts</th>\n",
       "      <th>velocity</th>\n",
       "      <th>distance_from_home</th>\n",
       "    </tr>\n",
       "  </thead>\n",
       "  <tbody>\n",
       "    <tr>\n",
       "      <th>585</th>\n",
       "      <td>stationary</td>\n",
       "      <td>home</td>\n",
       "      <td>26.7</td>\n",
       "      <td>47.67695</td>\n",
       "      <td>-122.32147</td>\n",
       "      <td>122.0</td>\n",
       "      <td>2018-06-07 08:18:05.846</td>\n",
       "      <td>0.219</td>\n",
       "      <td>152.912</td>\n",
       "    </tr>\n",
       "    <tr>\n",
       "      <th>587</th>\n",
       "      <td>stationary</td>\n",
       "      <td>home</td>\n",
       "      <td>42.3</td>\n",
       "      <td>47.67790</td>\n",
       "      <td>-122.31966</td>\n",
       "      <td>121.0</td>\n",
       "      <td>2018-06-07 08:22:07.862</td>\n",
       "      <td>0.349</td>\n",
       "      <td>58.635</td>\n",
       "    </tr>\n",
       "    <tr>\n",
       "      <th>588</th>\n",
       "      <td>stationary</td>\n",
       "      <td>home</td>\n",
       "      <td>14.5</td>\n",
       "      <td>47.67777</td>\n",
       "      <td>-122.31966</td>\n",
       "      <td>133.0</td>\n",
       "      <td>2018-06-07 08:24:21.799</td>\n",
       "      <td>0.109</td>\n",
       "      <td>44.445</td>\n",
       "    </tr>\n",
       "    <tr>\n",
       "      <th>589</th>\n",
       "      <td>stationary</td>\n",
       "      <td>home</td>\n",
       "      <td>4.0</td>\n",
       "      <td>47.67774</td>\n",
       "      <td>-122.31963</td>\n",
       "      <td>121.0</td>\n",
       "      <td>2018-06-07 08:26:22.830</td>\n",
       "      <td>0.033</td>\n",
       "      <td>40.724</td>\n",
       "    </tr>\n",
       "    <tr>\n",
       "      <th>590</th>\n",
       "      <td>stationary</td>\n",
       "      <td>home</td>\n",
       "      <td>0.0</td>\n",
       "      <td>47.67774</td>\n",
       "      <td>-122.31963</td>\n",
       "      <td>161.0</td>\n",
       "      <td>2018-06-07 08:29:04.764</td>\n",
       "      <td>0.000</td>\n",
       "      <td>40.724</td>\n",
       "    </tr>\n",
       "  </tbody>\n",
       "</table>\n",
       "</div>"
      ],
      "text/plain": [
       "        binning   cid  displacement       lat        lon  time_delta  \\\n",
       "585  stationary  home          26.7  47.67695 -122.32147       122.0   \n",
       "587  stationary  home          42.3  47.67790 -122.31966       121.0   \n",
       "588  stationary  home          14.5  47.67777 -122.31966       133.0   \n",
       "589  stationary  home           4.0  47.67774 -122.31963       121.0   \n",
       "590  stationary  home           0.0  47.67774 -122.31963       161.0   \n",
       "\n",
       "                         ts  velocity  distance_from_home  \n",
       "585 2018-06-07 08:18:05.846     0.219             152.912  \n",
       "587 2018-06-07 08:22:07.862     0.349              58.635  \n",
       "588 2018-06-07 08:24:21.799     0.109              44.445  \n",
       "589 2018-06-07 08:26:22.830     0.033              40.724  \n",
       "590 2018-06-07 08:29:04.764     0.000              40.724  "
      ]
     },
     "execution_count": 14,
     "metadata": {},
     "output_type": "execute_result"
    },
    {
     "data": {
      "text/html": [
       "<div>\n",
       "<style scoped>\n",
       "    .dataframe tbody tr th:only-of-type {\n",
       "        vertical-align: middle;\n",
       "    }\n",
       "\n",
       "    .dataframe tbody tr th {\n",
       "        vertical-align: top;\n",
       "    }\n",
       "\n",
       "    .dataframe thead th {\n",
       "        text-align: right;\n",
       "    }\n",
       "</style>\n",
       "<table border=\"1\" class=\"dataframe\">\n",
       "  <thead>\n",
       "    <tr style=\"text-align: right;\">\n",
       "      <th></th>\n",
       "      <th>cid</th>\n",
       "      <th>lat</th>\n",
       "      <th>lon</th>\n",
       "      <th>name</th>\n",
       "      <th>categories</th>\n",
       "    </tr>\n",
       "  </thead>\n",
       "  <tbody>\n",
       "    <tr>\n",
       "      <th>0</th>\n",
       "      <td>x0</td>\n",
       "      <td>45.49469</td>\n",
       "      <td>-122.47984</td>\n",
       "      <td>nap</td>\n",
       "      <td>nap</td>\n",
       "    </tr>\n",
       "    <tr>\n",
       "      <th>1</th>\n",
       "      <td>home</td>\n",
       "      <td>47.67738</td>\n",
       "      <td>-122.31953</td>\n",
       "      <td>home</td>\n",
       "      <td>home</td>\n",
       "    </tr>\n",
       "    <tr>\n",
       "      <th>2</th>\n",
       "      <td>work</td>\n",
       "      <td>47.67769</td>\n",
       "      <td>-122.31957</td>\n",
       "      <td>work</td>\n",
       "      <td>work</td>\n",
       "    </tr>\n",
       "  </tbody>\n",
       "</table>\n",
       "</div>"
      ],
      "text/plain": [
       "    cid       lat        lon  name categories\n",
       "0    x0  45.49469 -122.47984   nap        nap\n",
       "1  home  47.67738 -122.31953  home       home\n",
       "2  work  47.67769 -122.31957  work       work"
      ]
     },
     "execution_count": 14,
     "metadata": {},
     "output_type": "execute_result"
    }
   ],
   "source": [
    "records = gps.process_velocities(df)\n",
    "records, clusters = gps.get_clusters_with_context(records, dbscan_p1_params)\n",
    "\n",
    "records.head()\n",
    "clusters"
   ]
  },
  {
   "cell_type": "markdown",
   "metadata": {},
   "source": [
    "####  `get_next_phase_clusters(records, clusters, params)`\n",
    "To find clusters with less prominence you may want to do a second round of clustering with the remaining unlabeled, stationary points. "
   ]
  },
  {
   "cell_type": "code",
   "execution_count": 15,
   "metadata": {
    "ExecuteTime": {
     "end_time": "2018-11-11T17:52:43.496183Z",
     "start_time": "2018-11-11T17:52:42.294477Z"
    },
    "scrolled": false
   },
   "outputs": [
    {
     "data": {
      "text/html": [
       "<div>\n",
       "<style scoped>\n",
       "    .dataframe tbody tr th:only-of-type {\n",
       "        vertical-align: middle;\n",
       "    }\n",
       "\n",
       "    .dataframe tbody tr th {\n",
       "        vertical-align: top;\n",
       "    }\n",
       "\n",
       "    .dataframe thead th {\n",
       "        text-align: right;\n",
       "    }\n",
       "</style>\n",
       "<table border=\"1\" class=\"dataframe\">\n",
       "  <thead>\n",
       "    <tr style=\"text-align: right;\">\n",
       "      <th></th>\n",
       "      <th>cid</th>\n",
       "      <th>lat</th>\n",
       "      <th>lon</th>\n",
       "      <th>name</th>\n",
       "      <th>categories</th>\n",
       "    </tr>\n",
       "  </thead>\n",
       "  <tbody>\n",
       "    <tr>\n",
       "      <th>0</th>\n",
       "      <td>x0</td>\n",
       "      <td>45.49469</td>\n",
       "      <td>-122.47984</td>\n",
       "      <td>nap</td>\n",
       "      <td>nap</td>\n",
       "    </tr>\n",
       "    <tr>\n",
       "      <th>1</th>\n",
       "      <td>home</td>\n",
       "      <td>47.67738</td>\n",
       "      <td>-122.31953</td>\n",
       "      <td>home</td>\n",
       "      <td>home</td>\n",
       "    </tr>\n",
       "    <tr>\n",
       "      <th>2</th>\n",
       "      <td>work</td>\n",
       "      <td>47.67769</td>\n",
       "      <td>-122.31957</td>\n",
       "      <td>work</td>\n",
       "      <td>work</td>\n",
       "    </tr>\n",
       "    <tr>\n",
       "      <th>0</th>\n",
       "      <td>x1</td>\n",
       "      <td>47.54944</td>\n",
       "      <td>-121.99346</td>\n",
       "      <td>nap</td>\n",
       "      <td>nap</td>\n",
       "    </tr>\n",
       "    <tr>\n",
       "      <th>0</th>\n",
       "      <td>x2</td>\n",
       "      <td>45.51253</td>\n",
       "      <td>-122.67882</td>\n",
       "      <td>nap</td>\n",
       "      <td>nap</td>\n",
       "    </tr>\n",
       "    <tr>\n",
       "      <th>0</th>\n",
       "      <td>x3</td>\n",
       "      <td>45.50082</td>\n",
       "      <td>-122.67771</td>\n",
       "      <td>nap</td>\n",
       "      <td>nap</td>\n",
       "    </tr>\n",
       "    <tr>\n",
       "      <th>0</th>\n",
       "      <td>x4</td>\n",
       "      <td>45.56460</td>\n",
       "      <td>-122.53374</td>\n",
       "      <td>nap</td>\n",
       "      <td>nap</td>\n",
       "    </tr>\n",
       "  </tbody>\n",
       "</table>\n",
       "</div>"
      ],
      "text/plain": [
       "    cid       lat        lon  name categories\n",
       "0    x0  45.49469 -122.47984   nap        nap\n",
       "1  home  47.67738 -122.31953  home       home\n",
       "2  work  47.67769 -122.31957  work       work\n",
       "0    x1  47.54944 -121.99346   nap        nap\n",
       "0    x2  45.51253 -122.67882   nap        nap\n",
       "0    x3  45.50082 -122.67771   nap        nap\n",
       "0    x4  45.56460 -122.53374   nap        nap"
      ]
     },
     "execution_count": 15,
     "metadata": {},
     "output_type": "execute_result"
    }
   ],
   "source": [
    "dbscan_p2_params = dict(\n",
    "    min_samples=75,\n",
    "    eps=.01,\n",
    "    n_jobs=3\n",
    ")\n",
    "\n",
    "records, clusters = gps.get_next_phase_clusters(records, clusters, dbscan_p2_params, min_distance=1)\n",
    "clusters"
   ]
  },
  {
   "cell_type": "markdown",
   "metadata": {},
   "source": [
    "### Place lookup"
   ]
  },
  {
   "cell_type": "markdown",
   "metadata": {},
   "source": [
    "The place methods are currently built to allow calls to either Yelp or Google for contextual lookup. Both are processed via the same call and require either to be given with in the form of a list of `gps.PlaceRequest`. Each request is cached to a backend sqlite file so that the same request doesn't have to be submitted more than once. Results are returned a dictionary containing three keys:\n",
    "1. `hits` tells you how many of your requests were returned from the cache\n",
    "2. `misses` tells you how many went through the API endpoint \n",
    "3. `request` is a dataframe of the resulting places\n",
    "\n",
    "An API key must be supplied with each request as they are never cached within the GPS module.\n",
    "\n",
    "An enum is implemented within the gps module that allows easy selection of an API source. The possibilities are: \n",
    "1. `gps.ApiSource.YELP` \n",
    "2. `gps.ApiSource.GOOGLE'\n",
    "\n",
    "With either, a value for `rankby` should also be supplied.  For Google, only prominence is currently implemented - `gps.GmapsRankBy.PROMINENCE`. A number of options are available for Yelp:\n",
    "* `gps.YelpRankBy.BEST_MATCH`\n",
    "* `gps.YelpRankBy.RATING`\n",
    "* `gps.YelpRankBy.REVIEW_COUNT`\n",
    "* `gps.YelpRankBy.DISTANCE`"
   ]
  },
  {
   "cell_type": "markdown",
   "metadata": {},
   "source": [
    "#### `request_nearby_places(request, n_jobs, force, progress_qu)`\n",
    "* `n_jobs`, as always, specificies the number of cores to use of simultaneous calls.\n",
    "* set `force` to true in order to make the request and overwrite whatever may exist in the cache.\n",
    "* supply a multiprocessing.Queue from the utils.progress_qu method as the progress_qu in order to track completion."
   ]
  },
  {
   "cell_type": "code",
   "execution_count": 16,
   "metadata": {
    "ExecuteTime": {
     "end_time": "2018-11-11T17:52:43.829052Z",
     "start_time": "2018-11-11T17:52:43.498847Z"
    }
   },
   "outputs": [
    {
     "name": "stdout",
     "output_type": "stream",
     "text": [
      "hits: 5, misses: 0\n"
     ]
    },
    {
     "data": {
      "text/html": [
       "<div>\n",
       "<style scoped>\n",
       "    .dataframe tbody tr th:only-of-type {\n",
       "        vertical-align: middle;\n",
       "    }\n",
       "\n",
       "    .dataframe tbody tr th {\n",
       "        vertical-align: top;\n",
       "    }\n",
       "\n",
       "    .dataframe thead th {\n",
       "        text-align: right;\n",
       "    }\n",
       "</style>\n",
       "<table border=\"1\" class=\"dataframe\">\n",
       "  <thead>\n",
       "    <tr style=\"text-align: right;\">\n",
       "      <th></th>\n",
       "      <th>dtRetrieved</th>\n",
       "      <th>lat</th>\n",
       "      <th>lon</th>\n",
       "      <th>radius</th>\n",
       "      <th>source</th>\n",
       "      <th>name</th>\n",
       "      <th>rank_order</th>\n",
       "      <th>categories</th>\n",
       "      <th>major_categories</th>\n",
       "    </tr>\n",
       "  </thead>\n",
       "  <tbody>\n",
       "    <tr>\n",
       "      <th>0</th>\n",
       "      <td>2018-11-11 09:52:43.704567</td>\n",
       "      <td>45.49469</td>\n",
       "      <td>-122.47984</td>\n",
       "      <td>50.0</td>\n",
       "      <td>Yelp</td>\n",
       "      <td>not found</td>\n",
       "      <td>-1.0</td>\n",
       "      <td>none</td>\n",
       "      <td>none</td>\n",
       "    </tr>\n",
       "    <tr>\n",
       "      <th>1</th>\n",
       "      <td>2018-11-11 09:52:43.708266</td>\n",
       "      <td>47.54944</td>\n",
       "      <td>-121.99346</td>\n",
       "      <td>50.0</td>\n",
       "      <td>Yelp</td>\n",
       "      <td>not found</td>\n",
       "      <td>-1.0</td>\n",
       "      <td>none</td>\n",
       "      <td>none</td>\n",
       "    </tr>\n",
       "    <tr>\n",
       "      <th>2</th>\n",
       "      <td>2018-11-11 09:52:43.717772</td>\n",
       "      <td>45.51253</td>\n",
       "      <td>-122.67882</td>\n",
       "      <td>50.0</td>\n",
       "      <td>Yelp</td>\n",
       "      <td>Keller Fountain Park</td>\n",
       "      <td>0.0</td>\n",
       "      <td>parks</td>\n",
       "      <td>park</td>\n",
       "    </tr>\n",
       "    <tr>\n",
       "      <th>3</th>\n",
       "      <td>2018-11-11 09:52:43.720934</td>\n",
       "      <td>45.50082</td>\n",
       "      <td>-122.67771</td>\n",
       "      <td>50.0</td>\n",
       "      <td>Yelp</td>\n",
       "      <td>not found</td>\n",
       "      <td>-1.0</td>\n",
       "      <td>none</td>\n",
       "      <td>none</td>\n",
       "    </tr>\n",
       "    <tr>\n",
       "      <th>4</th>\n",
       "      <td>2018-11-11 09:52:43.729173</td>\n",
       "      <td>45.56460</td>\n",
       "      <td>-122.53374</td>\n",
       "      <td>50.0</td>\n",
       "      <td>Yelp</td>\n",
       "      <td>Starbucks</td>\n",
       "      <td>0.0</td>\n",
       "      <td>coffee</td>\n",
       "      <td>dining_out</td>\n",
       "    </tr>\n",
       "  </tbody>\n",
       "</table>\n",
       "</div>"
      ],
      "text/plain": [
       "                 dtRetrieved       lat        lon  radius source  \\\n",
       "0 2018-11-11 09:52:43.704567  45.49469 -122.47984    50.0   Yelp   \n",
       "1 2018-11-11 09:52:43.708266  47.54944 -121.99346    50.0   Yelp   \n",
       "2 2018-11-11 09:52:43.717772  45.51253 -122.67882    50.0   Yelp   \n",
       "3 2018-11-11 09:52:43.720934  45.50082 -122.67771    50.0   Yelp   \n",
       "4 2018-11-11 09:52:43.729173  45.56460 -122.53374    50.0   Yelp   \n",
       "\n",
       "                   name  rank_order categories major_categories  \n",
       "0             not found        -1.0       none             none  \n",
       "1             not found        -1.0       none             none  \n",
       "2  Keller Fountain Park         0.0      parks             park  \n",
       "3             not found        -1.0       none             none  \n",
       "4             Starbucks         0.0     coffee       dining_out  "
      ]
     },
     "execution_count": 16,
     "metadata": {},
     "output_type": "execute_result"
    }
   ],
   "source": [
    "yelp_key = ''\n",
    "\n",
    "# setup a list of requests to query the nearby places from \n",
    "# Yelp within a range of 50 meters and order by the BEST_MATCH\n",
    "request = [\n",
    "    gps.PlaceRequest(\n",
    "        lat=t.lat, lon=t.lon, radius=50, \n",
    "        source=gps.ApiSource.YELP,\n",
    "        rankby=gps.YelpRankBy.BEST_MATCH,\n",
    "        key=yelp_key\n",
    "    )\n",
    "    for t in clusters.loc[\n",
    "        (clusters.cid != 'home') & (clusters.cid != 'work')\n",
    "    ].itertuples()\n",
    "]\n",
    "\n",
    "results = gps.request_nearby_places(request)\n",
    "print(f'hits: {results[\"hits\"]}, misses: {results[\"misses\"]}')\n",
    "results['request']"
   ]
  },
  {
   "cell_type": "code",
   "execution_count": 19,
   "metadata": {
    "ExecuteTime": {
     "end_time": "2018-11-11T17:54:04.180974Z",
     "start_time": "2018-11-11T17:54:03.853920Z"
    }
   },
   "outputs": [
    {
     "name": "stdout",
     "output_type": "stream",
     "text": [
      "hits: 5, misses: 0\n"
     ]
    },
    {
     "data": {
      "text/html": [
       "<div>\n",
       "<style scoped>\n",
       "    .dataframe tbody tr th:only-of-type {\n",
       "        vertical-align: middle;\n",
       "    }\n",
       "\n",
       "    .dataframe tbody tr th {\n",
       "        vertical-align: top;\n",
       "    }\n",
       "\n",
       "    .dataframe thead th {\n",
       "        text-align: right;\n",
       "    }\n",
       "</style>\n",
       "<table border=\"1\" class=\"dataframe\">\n",
       "  <thead>\n",
       "    <tr style=\"text-align: right;\">\n",
       "      <th></th>\n",
       "      <th>dtRetrieved</th>\n",
       "      <th>lat</th>\n",
       "      <th>lon</th>\n",
       "      <th>radius</th>\n",
       "      <th>source</th>\n",
       "      <th>name</th>\n",
       "      <th>rank_order</th>\n",
       "      <th>categories</th>\n",
       "      <th>major_categories</th>\n",
       "    </tr>\n",
       "  </thead>\n",
       "  <tbody>\n",
       "    <tr>\n",
       "      <th>0</th>\n",
       "      <td>2018-11-11 09:54:04.076878</td>\n",
       "      <td>45.49469</td>\n",
       "      <td>-122.47984</td>\n",
       "      <td>50.0</td>\n",
       "      <td>Google Places</td>\n",
       "      <td>Peregrin Co</td>\n",
       "      <td>1.0</td>\n",
       "      <td>finance</td>\n",
       "      <td>finance</td>\n",
       "    </tr>\n",
       "    <tr>\n",
       "      <th>1</th>\n",
       "      <td>2018-11-11 09:54:04.080093</td>\n",
       "      <td>47.54944</td>\n",
       "      <td>-121.99346</td>\n",
       "      <td>50.0</td>\n",
       "      <td>Google Places</td>\n",
       "      <td>not found</td>\n",
       "      <td>-1.0</td>\n",
       "      <td>none</td>\n",
       "      <td>none</td>\n",
       "    </tr>\n",
       "    <tr>\n",
       "      <th>2</th>\n",
       "      <td>2018-11-11 09:54:04.087619</td>\n",
       "      <td>45.51253</td>\n",
       "      <td>-122.67882</td>\n",
       "      <td>50.0</td>\n",
       "      <td>Google Places</td>\n",
       "      <td>Keller Auditorium</td>\n",
       "      <td>1.0</td>\n",
       "      <td>other</td>\n",
       "      <td>other</td>\n",
       "    </tr>\n",
       "    <tr>\n",
       "      <th>3</th>\n",
       "      <td>2018-11-11 09:54:04.090122</td>\n",
       "      <td>45.50082</td>\n",
       "      <td>-122.67771</td>\n",
       "      <td>50.0</td>\n",
       "      <td>Google Places</td>\n",
       "      <td>not found</td>\n",
       "      <td>-1.0</td>\n",
       "      <td>none</td>\n",
       "      <td>none</td>\n",
       "    </tr>\n",
       "    <tr>\n",
       "      <th>4</th>\n",
       "      <td>2018-11-11 09:54:04.096825</td>\n",
       "      <td>45.56460</td>\n",
       "      <td>-122.53374</td>\n",
       "      <td>50.0</td>\n",
       "      <td>Google Places</td>\n",
       "      <td>Specialty Building Products NW</td>\n",
       "      <td>1.0</td>\n",
       "      <td>general_contractor</td>\n",
       "      <td>repair</td>\n",
       "    </tr>\n",
       "  </tbody>\n",
       "</table>\n",
       "</div>"
      ],
      "text/plain": [
       "                 dtRetrieved       lat        lon  radius         source  \\\n",
       "0 2018-11-11 09:54:04.076878  45.49469 -122.47984    50.0  Google Places   \n",
       "1 2018-11-11 09:54:04.080093  47.54944 -121.99346    50.0  Google Places   \n",
       "2 2018-11-11 09:54:04.087619  45.51253 -122.67882    50.0  Google Places   \n",
       "3 2018-11-11 09:54:04.090122  45.50082 -122.67771    50.0  Google Places   \n",
       "4 2018-11-11 09:54:04.096825  45.56460 -122.53374    50.0  Google Places   \n",
       "\n",
       "                             name  rank_order          categories  \\\n",
       "0                     Peregrin Co         1.0             finance   \n",
       "1                       not found        -1.0                none   \n",
       "2               Keller Auditorium         1.0               other   \n",
       "3                       not found        -1.0                none   \n",
       "4  Specialty Building Products NW         1.0  general_contractor   \n",
       "\n",
       "  major_categories  \n",
       "0          finance  \n",
       "1             none  \n",
       "2            other  \n",
       "3             none  \n",
       "4           repair  "
      ]
     },
     "execution_count": 19,
     "metadata": {},
     "output_type": "execute_result"
    }
   ],
   "source": [
    "gmaps_key = ''\n",
    "\n",
    "# setup a list of requests to query the nearby places from \n",
    "# Google within a range of 50 meters and order by the PROMINENCE\n",
    "request = [\n",
    "    gps.PlaceRequest(\n",
    "        lat=t.lat, lon=t.lon, radius=50, \n",
    "        source=gps.ApiSource.GMAPS,\n",
    "        rankby=gps.GmapsRankBy.PROMINENCE,\n",
    "        key=gmaps_key\n",
    "    )\n",
    "    for t in clusters.loc[\n",
    "        (clusters.cid != 'home') & (clusters.cid != 'work')\n",
    "    ].itertuples()\n",
    "]\n",
    "\n",
    "results = gps.request_nearby_places(request)\n",
    "\n",
    "print(f'hits: {results[\"hits\"]}, misses: {results[\"misses\"]}')\n",
    "results['request']"
   ]
  },
  {
   "cell_type": "markdown",
   "metadata": {},
   "source": [
    "### Clustering and daily features"
   ]
  },
  {
   "cell_type": "markdown",
   "metadata": {},
   "source": [
    "#### `get_cluster_times(records, clusters)`\n",
    "Calculates daily entry and exit times a research participant makes into their defined clusters."
   ]
  },
  {
   "cell_type": "code",
   "execution_count": 20,
   "metadata": {
    "ExecuteTime": {
     "end_time": "2018-11-11T17:54:32.905497Z",
     "start_time": "2018-11-11T17:54:29.629872Z"
    }
   },
   "outputs": [
    {
     "data": {
      "text/html": [
       "<div>\n",
       "<style scoped>\n",
       "    .dataframe tbody tr th:only-of-type {\n",
       "        vertical-align: middle;\n",
       "    }\n",
       "\n",
       "    .dataframe tbody tr th {\n",
       "        vertical-align: top;\n",
       "    }\n",
       "\n",
       "    .dataframe thead th {\n",
       "        text-align: right;\n",
       "    }\n",
       "</style>\n",
       "<table border=\"1\" class=\"dataframe\">\n",
       "  <thead>\n",
       "    <tr style=\"text-align: right;\">\n",
       "      <th></th>\n",
       "      <th>cid</th>\n",
       "      <th>lat</th>\n",
       "      <th>lon</th>\n",
       "      <th>time_in</th>\n",
       "      <th>time_out</th>\n",
       "      <th>duration</th>\n",
       "      <th>midpoint</th>\n",
       "      <th>date</th>\n",
       "      <th>tod</th>\n",
       "      <th>tod_bin</th>\n",
       "      <th>cname</th>\n",
       "      <th>category</th>\n",
       "    </tr>\n",
       "  </thead>\n",
       "  <tbody>\n",
       "    <tr>\n",
       "      <th>0</th>\n",
       "      <td>x1</td>\n",
       "      <td>47.54944</td>\n",
       "      <td>-121.99346</td>\n",
       "      <td>2018-06-07 04:13:16.587</td>\n",
       "      <td>2018-06-07 07:23:47.797</td>\n",
       "      <td>03:10:31.210000</td>\n",
       "      <td>2018-06-07 05:48:32.192000</td>\n",
       "      <td>2018-06-07</td>\n",
       "      <td>05:48:32.192000</td>\n",
       "      <td>early_morning</td>\n",
       "      <td>nap</td>\n",
       "      <td>nap</td>\n",
       "    </tr>\n",
       "    <tr>\n",
       "      <th>1</th>\n",
       "      <td>home</td>\n",
       "      <td>47.67738</td>\n",
       "      <td>-122.31953</td>\n",
       "      <td>2018-06-07 08:22:07.862</td>\n",
       "      <td>2018-06-07 09:00:00.009</td>\n",
       "      <td>00:37:52.147000</td>\n",
       "      <td>2018-06-07 08:41:03.935500</td>\n",
       "      <td>2018-06-07</td>\n",
       "      <td>08:41:03.935500</td>\n",
       "      <td>early_morning</td>\n",
       "      <td>home</td>\n",
       "      <td>home</td>\n",
       "    </tr>\n",
       "    <tr>\n",
       "      <th>2</th>\n",
       "      <td>work</td>\n",
       "      <td>47.67769</td>\n",
       "      <td>-122.31957</td>\n",
       "      <td>2018-06-07 09:05:34.984</td>\n",
       "      <td>2018-06-07 09:07:16.824</td>\n",
       "      <td>00:01:41.840000</td>\n",
       "      <td>2018-06-07 09:06:25.904000</td>\n",
       "      <td>2018-06-07</td>\n",
       "      <td>09:06:25.904000</td>\n",
       "      <td>morning</td>\n",
       "      <td>work</td>\n",
       "      <td>work</td>\n",
       "    </tr>\n",
       "    <tr>\n",
       "      <th>3</th>\n",
       "      <td>home</td>\n",
       "      <td>47.67738</td>\n",
       "      <td>-122.31953</td>\n",
       "      <td>2018-06-07 09:52:56.891</td>\n",
       "      <td>2018-06-07 10:32:11.729</td>\n",
       "      <td>00:39:14.838000</td>\n",
       "      <td>2018-06-07 10:12:34.310000</td>\n",
       "      <td>2018-06-07</td>\n",
       "      <td>10:12:34.310000</td>\n",
       "      <td>morning</td>\n",
       "      <td>home</td>\n",
       "      <td>home</td>\n",
       "    </tr>\n",
       "    <tr>\n",
       "      <th>4</th>\n",
       "      <td>work</td>\n",
       "      <td>47.67769</td>\n",
       "      <td>-122.31957</td>\n",
       "      <td>2018-06-07 11:15:03.200</td>\n",
       "      <td>2018-06-07 11:53:16.910</td>\n",
       "      <td>00:38:13.710000</td>\n",
       "      <td>2018-06-07 11:34:10.055000</td>\n",
       "      <td>2018-06-07</td>\n",
       "      <td>11:34:10.055000</td>\n",
       "      <td>morning</td>\n",
       "      <td>work</td>\n",
       "      <td>work</td>\n",
       "    </tr>\n",
       "  </tbody>\n",
       "</table>\n",
       "</div>"
      ],
      "text/plain": [
       "    cid       lat        lon                 time_in                time_out  \\\n",
       "0    x1  47.54944 -121.99346 2018-06-07 04:13:16.587 2018-06-07 07:23:47.797   \n",
       "1  home  47.67738 -122.31953 2018-06-07 08:22:07.862 2018-06-07 09:00:00.009   \n",
       "2  work  47.67769 -122.31957 2018-06-07 09:05:34.984 2018-06-07 09:07:16.824   \n",
       "3  home  47.67738 -122.31953 2018-06-07 09:52:56.891 2018-06-07 10:32:11.729   \n",
       "4  work  47.67769 -122.31957 2018-06-07 11:15:03.200 2018-06-07 11:53:16.910   \n",
       "\n",
       "         duration                   midpoint        date              tod  \\\n",
       "0 03:10:31.210000 2018-06-07 05:48:32.192000  2018-06-07  05:48:32.192000   \n",
       "1 00:37:52.147000 2018-06-07 08:41:03.935500  2018-06-07  08:41:03.935500   \n",
       "2 00:01:41.840000 2018-06-07 09:06:25.904000  2018-06-07  09:06:25.904000   \n",
       "3 00:39:14.838000 2018-06-07 10:12:34.310000  2018-06-07  10:12:34.310000   \n",
       "4 00:38:13.710000 2018-06-07 11:34:10.055000  2018-06-07  11:34:10.055000   \n",
       "\n",
       "         tod_bin cname category  \n",
       "0  early_morning   nap      nap  \n",
       "1  early_morning  home     home  \n",
       "2        morning  work     work  \n",
       "3        morning  home     home  \n",
       "4        morning  work     work  "
      ]
     },
     "execution_count": 20,
     "metadata": {},
     "output_type": "execute_result"
    }
   ],
   "source": [
    "entries = gps.get_cluster_times(records, clusters)\n",
    "entries.head()"
   ]
  },
  {
   "cell_type": "markdown",
   "metadata": {},
   "source": [
    "#### `get_daily_metrics(records, entries)`\n",
    "Uses the records set and  daily features"
   ]
  },
  {
   "cell_type": "code",
   "execution_count": 21,
   "metadata": {
    "ExecuteTime": {
     "end_time": "2018-11-11T17:54:33.405919Z",
     "start_time": "2018-11-11T17:54:32.908024Z"
    }
   },
   "outputs": [
    {
     "data": {
      "text/html": [
       "<div>\n",
       "<style scoped>\n",
       "    .dataframe tbody tr th:only-of-type {\n",
       "        vertical-align: middle;\n",
       "    }\n",
       "\n",
       "    .dataframe tbody tr th {\n",
       "        vertical-align: top;\n",
       "    }\n",
       "\n",
       "    .dataframe thead th {\n",
       "        text-align: right;\n",
       "    }\n",
       "</style>\n",
       "<table border=\"1\" class=\"dataframe\">\n",
       "  <thead>\n",
       "    <tr style=\"text-align: right;\">\n",
       "      <th></th>\n",
       "      <th>came_to_work</th>\n",
       "      <th>date</th>\n",
       "      <th>distance_brunch</th>\n",
       "      <th>distance_high_speed_transportation</th>\n",
       "      <th>distance_powered_vehicle</th>\n",
       "      <th>distance_walking</th>\n",
       "      <th>hours_accounted_for</th>\n",
       "      <th>hours_at_home</th>\n",
       "      <th>hours_at_work</th>\n",
       "      <th>hours_brunch</th>\n",
       "      <th>...</th>\n",
       "      <th>hours_of_sleep</th>\n",
       "      <th>hours_powered_vehicle</th>\n",
       "      <th>hours_spent_in_top_3_clusters</th>\n",
       "      <th>hours_stationary</th>\n",
       "      <th>hours_stationary_non_home_work</th>\n",
       "      <th>hours_walking</th>\n",
       "      <th>hours_without_data</th>\n",
       "      <th>location_variance</th>\n",
       "      <th>max_distance_from_home</th>\n",
       "      <th>number_of_clusters</th>\n",
       "    </tr>\n",
       "  </thead>\n",
       "  <tbody>\n",
       "    <tr>\n",
       "      <th>0</th>\n",
       "      <td>True</td>\n",
       "      <td>2018-06-07</td>\n",
       "      <td>0.0</td>\n",
       "      <td>34906.5</td>\n",
       "      <td>339727.4</td>\n",
       "      <td>3752.0</td>\n",
       "      <td>24</td>\n",
       "      <td>2.745</td>\n",
       "      <td>1.673</td>\n",
       "      <td>0.0</td>\n",
       "      <td>...</td>\n",
       "      <td>NaN</td>\n",
       "      <td>3.521</td>\n",
       "      <td>0.0</td>\n",
       "      <td>23.612</td>\n",
       "      <td>7.110</td>\n",
       "      <td>1.024</td>\n",
       "      <td>0</td>\n",
       "      <td>-1.081595</td>\n",
       "      <td>73764.184</td>\n",
       "      <td>3</td>\n",
       "    </tr>\n",
       "    <tr>\n",
       "      <th>1</th>\n",
       "      <td>True</td>\n",
       "      <td>2018-06-08</td>\n",
       "      <td>0.0</td>\n",
       "      <td>0.0</td>\n",
       "      <td>12224.0</td>\n",
       "      <td>1515.0</td>\n",
       "      <td>23</td>\n",
       "      <td>7.686</td>\n",
       "      <td>0.597</td>\n",
       "      <td>0.0</td>\n",
       "      <td>...</td>\n",
       "      <td>0.600</td>\n",
       "      <td>0.335</td>\n",
       "      <td>0.0</td>\n",
       "      <td>30.377</td>\n",
       "      <td>4.865</td>\n",
       "      <td>0.393</td>\n",
       "      <td>1</td>\n",
       "      <td>-3.872976</td>\n",
       "      <td>3090.939</td>\n",
       "      <td>2</td>\n",
       "    </tr>\n",
       "    <tr>\n",
       "      <th>2</th>\n",
       "      <td>False</td>\n",
       "      <td>2018-06-09</td>\n",
       "      <td>0.0</td>\n",
       "      <td>0.0</td>\n",
       "      <td>1001.1</td>\n",
       "      <td>226.0</td>\n",
       "      <td>21</td>\n",
       "      <td>18.689</td>\n",
       "      <td>0.000</td>\n",
       "      <td>0.0</td>\n",
       "      <td>...</td>\n",
       "      <td>0.200</td>\n",
       "      <td>0.014</td>\n",
       "      <td>0.0</td>\n",
       "      <td>23.951</td>\n",
       "      <td>0.000</td>\n",
       "      <td>0.064</td>\n",
       "      <td>3</td>\n",
       "      <td>-6.115475</td>\n",
       "      <td>547.313</td>\n",
       "      <td>1</td>\n",
       "    </tr>\n",
       "    <tr>\n",
       "      <th>3</th>\n",
       "      <td>False</td>\n",
       "      <td>2018-06-10</td>\n",
       "      <td>0.0</td>\n",
       "      <td>0.0</td>\n",
       "      <td>276.3</td>\n",
       "      <td>2297.0</td>\n",
       "      <td>17</td>\n",
       "      <td>22.781</td>\n",
       "      <td>0.000</td>\n",
       "      <td>0.0</td>\n",
       "      <td>...</td>\n",
       "      <td>0.317</td>\n",
       "      <td>0.006</td>\n",
       "      <td>0.0</td>\n",
       "      <td>23.359</td>\n",
       "      <td>0.000</td>\n",
       "      <td>0.551</td>\n",
       "      <td>7</td>\n",
       "      <td>-5.467346</td>\n",
       "      <td>758.101</td>\n",
       "      <td>1</td>\n",
       "    </tr>\n",
       "    <tr>\n",
       "      <th>4</th>\n",
       "      <td>True</td>\n",
       "      <td>2018-06-11</td>\n",
       "      <td>0.0</td>\n",
       "      <td>3986.0</td>\n",
       "      <td>78507.9</td>\n",
       "      <td>476.0</td>\n",
       "      <td>22</td>\n",
       "      <td>12.278</td>\n",
       "      <td>1.784</td>\n",
       "      <td>0.0</td>\n",
       "      <td>...</td>\n",
       "      <td>NaN</td>\n",
       "      <td>1.045</td>\n",
       "      <td>0.0</td>\n",
       "      <td>30.463</td>\n",
       "      <td>1.775</td>\n",
       "      <td>0.127</td>\n",
       "      <td>2</td>\n",
       "      <td>-1.520118</td>\n",
       "      <td>32636.472</td>\n",
       "      <td>2</td>\n",
       "    </tr>\n",
       "  </tbody>\n",
       "</table>\n",
       "<p>5 rows × 21 columns</p>\n",
       "</div>"
      ],
      "text/plain": [
       "   came_to_work        date  distance_brunch  \\\n",
       "0          True  2018-06-07              0.0   \n",
       "1          True  2018-06-08              0.0   \n",
       "2         False  2018-06-09              0.0   \n",
       "3         False  2018-06-10              0.0   \n",
       "4          True  2018-06-11              0.0   \n",
       "\n",
       "   distance_high_speed_transportation  distance_powered_vehicle  \\\n",
       "0                             34906.5                  339727.4   \n",
       "1                                 0.0                   12224.0   \n",
       "2                                 0.0                    1001.1   \n",
       "3                                 0.0                     276.3   \n",
       "4                              3986.0                   78507.9   \n",
       "\n",
       "   distance_walking  hours_accounted_for  hours_at_home  hours_at_work  \\\n",
       "0            3752.0                   24          2.745          1.673   \n",
       "1            1515.0                   23          7.686          0.597   \n",
       "2             226.0                   21         18.689          0.000   \n",
       "3            2297.0                   17         22.781          0.000   \n",
       "4             476.0                   22         12.278          1.784   \n",
       "\n",
       "   hours_brunch         ...          hours_of_sleep  hours_powered_vehicle  \\\n",
       "0           0.0         ...                     NaN                  3.521   \n",
       "1           0.0         ...                   0.600                  0.335   \n",
       "2           0.0         ...                   0.200                  0.014   \n",
       "3           0.0         ...                   0.317                  0.006   \n",
       "4           0.0         ...                     NaN                  1.045   \n",
       "\n",
       "   hours_spent_in_top_3_clusters  hours_stationary  \\\n",
       "0                            0.0            23.612   \n",
       "1                            0.0            30.377   \n",
       "2                            0.0            23.951   \n",
       "3                            0.0            23.359   \n",
       "4                            0.0            30.463   \n",
       "\n",
       "   hours_stationary_non_home_work  hours_walking  hours_without_data  \\\n",
       "0                           7.110          1.024                   0   \n",
       "1                           4.865          0.393                   1   \n",
       "2                           0.000          0.064                   3   \n",
       "3                           0.000          0.551                   7   \n",
       "4                           1.775          0.127                   2   \n",
       "\n",
       "   location_variance  max_distance_from_home  number_of_clusters  \n",
       "0          -1.081595               73764.184                   3  \n",
       "1          -3.872976                3090.939                   2  \n",
       "2          -6.115475                 547.313                   1  \n",
       "3          -5.467346                 758.101                   1  \n",
       "4          -1.520118               32636.472                   2  \n",
       "\n",
       "[5 rows x 21 columns]"
      ]
     },
     "execution_count": 21,
     "metadata": {},
     "output_type": "execute_result"
    }
   ],
   "source": [
    "daily_metrics = gps.get_daily_metrics(records, entries)\n",
    "daily_metrics.head()"
   ]
  }
 ],
 "metadata": {
  "kernelspec": {
   "display_name": "Python [conda env:bright]",
   "language": "python",
   "name": "conda-env-bright-py"
  },
  "language_info": {
   "codemirror_mode": {
    "name": "ipython",
    "version": 3
   },
   "file_extension": ".py",
   "mimetype": "text/x-python",
   "name": "python",
   "nbconvert_exporter": "python",
   "pygments_lexer": "ipython3",
   "version": "3.6.6"
  },
  "varInspector": {
   "cols": {
    "lenName": 16,
    "lenType": 16,
    "lenVar": 40
   },
   "kernels_config": {
    "python": {
     "delete_cmd_postfix": "",
     "delete_cmd_prefix": "del ",
     "library": "var_list.py",
     "varRefreshCmd": "print(var_dic_list())"
    },
    "r": {
     "delete_cmd_postfix": ") ",
     "delete_cmd_prefix": "rm(",
     "library": "var_list.r",
     "varRefreshCmd": "cat(var_dic_list()) "
    }
   },
   "types_to_exclude": [
    "module",
    "function",
    "builtin_function_or_method",
    "instance",
    "_Feature"
   ],
   "window_display": false
  }
 },
 "nbformat": 4,
 "nbformat_minor": 1
}
