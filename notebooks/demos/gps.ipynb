{
 "cells": [
  {
   "cell_type": "code",
   "execution_count": null,
   "metadata": {
    "ExecuteTime": {
     "end_time": "2018-08-17T17:59:22.630062Z",
     "start_time": "2018-08-17T17:59:21.458231Z"
    },
    "code_folding": []
   },
   "outputs": [],
   "source": [
    "# notebook setup\n",
    "import datetime as dt\n",
    "import os\n",
    "import sys\n",
    "\n",
    "from IPython.core.interactiveshell import InteractiveShell\n",
    "import numpy as np\n",
    "import pandas as pd\n",
    "\n",
    "sys.path.insert(0, os.path.abspath('../..'))\n",
    "\n",
    "import brightenv2.utils.gps as gps\n",
    "\n",
    "InteractiveShell.ast_node_interactivity = 'all'\n",
    "\n",
    "# bottom left, top right of the greater Seattle area\n",
    "min_lat, min_lon = 47.324739, -122.440531\n",
    "max_lat, max_lon = 48.100469, -121.850196\n",
    "\n",
    "place_id = 'ChIJQ6ZdDwY4tokRfTVsHLUigJI'"
   ]
  },
  {
   "cell_type": "markdown",
   "metadata": {},
   "source": [
    "### All `gps_records` as a parameter should be a list of `gps.GPS` which is a Python `namedtuple`."
   ]
  },
  {
   "cell_type": "code",
   "execution_count": null,
   "metadata": {
    "ExecuteTime": {
     "end_time": "2018-08-17T17:59:26.692754Z",
     "start_time": "2018-08-17T17:59:26.677007Z"
    }
   },
   "outputs": [],
   "source": [
    "gps_records[:5]"
   ]
  },
  {
   "cell_type": "markdown",
   "metadata": {},
   "source": [
    "### Impute stationary GPS records at a specific time interval"
   ]
  },
  {
   "cell_type": "code",
   "execution_count": null,
   "metadata": {
    "ExecuteTime": {
     "end_time": "2018-08-17T17:59:37.397971Z",
     "start_time": "2018-08-17T17:59:37.313942Z"
    }
   },
   "outputs": [],
   "source": [
    "now = dt.datetime.now()\n",
    "now = dt.datetime(year=now.year, month=now.month, day=now.day, hour=12)\n",
    "\n",
    "gps_records_ = [\n",
    "    gps.GPS(lat=0, lon=0, ts=now+dt.timedelta(hours=i))\n",
    "    for i in range(3)\n",
    "]\n",
    "\n",
    "pd.DataFrame(gps_records_).head()\n",
    "\n",
    "gps_records_1 = gps.impute_stationary_coordinates(gps_records_)\n",
    "pd.DataFrame(gps_records_1)\n",
    "\n",
    "gps_records_2 = gps.impute_stationary_coordinates(gps_records_, freq='30Min')\n",
    "pd.DataFrame(gps_records_2)"
   ]
  },
  {
   "cell_type": "markdown",
   "metadata": {
    "collapsed": true
   },
   "source": [
    "### Determine semantic velocity"
   ]
  },
  {
   "cell_type": "code",
   "execution_count": null,
   "metadata": {
    "ExecuteTime": {
     "end_time": "2018-08-17T17:59:44.056524Z",
     "start_time": "2018-08-17T17:59:44.043389Z"
    }
   },
   "outputs": [],
   "source": [
    "import brightenv2.utils.gps as gps\n",
    "\n",
    "now, td = dt.datetime.now(), dt.timedelta(minutes=1)\n",
    "lat, lon = -33.8666199, 151.1958527\n",
    "\n",
    "a, b = (lat, lon, now), (lat + 0.0001, lon + 0.0001, now+td)\n",
    "gps.discrete_velocity(a, b)\n",
    "\n",
    "a, b = (lat, lon, now), (lat + 0.001, lon + 0.001, now+td)\n",
    "gps.discrete_velocity(a, b)\n",
    "\n",
    "a, b = (lat, lon, now), (lat + 0.01, lon + 0.01, now+td)\n",
    "gps.discrete_velocity(a, b)\n",
    "\n",
    "a, b = (lat, lon, now), (lat + 0.1, lon + 0.1, now+td)\n",
    "gps.discrete_velocity(a, b)\n",
    "\n",
    "a, b = (lat, lon, now), (lat + 1, lon + 1, now+td)\n",
    "gps.discrete_velocity(a, b)"
   ]
  },
  {
   "cell_type": "markdown",
   "metadata": {},
   "source": [
    "### Estimate home and work locations from a sequence of GPS points"
   ]
  },
  {
   "cell_type": "code",
   "execution_count": null,
   "metadata": {
    "ExecuteTime": {
     "end_time": "2018-08-17T17:59:46.422918Z",
     "start_time": "2018-08-17T17:59:46.196608Z"
    }
   },
   "outputs": [],
   "source": [
    "gps.estimate_home_location(gps_records)[0]\n",
    "gps.estimate_work_location(gps_records)[0]"
   ]
  },
  {
   "cell_type": "markdown",
   "metadata": {},
   "source": [
    "### Calculate the geographic distance between two coordinates"
   ]
  },
  {
   "cell_type": "code",
   "execution_count": null,
   "metadata": {
    "ExecuteTime": {
     "end_time": "2018-08-16T22:00:27.325414Z",
     "start_time": "2018-08-16T22:00:27.322175Z"
    }
   },
   "outputs": [],
   "source": [
    "a, b = (-45, 122), (-45, 100)\n",
    "gps.geo_distance(*a, *b)"
   ]
  },
  {
   "cell_type": "markdown",
   "metadata": {},
   "source": [
    "### Find clusters from a sequence of GPS points"
   ]
  },
  {
   "cell_type": "code",
   "execution_count": null,
   "metadata": {
    "ExecuteTime": {
     "end_time": "2018-08-16T22:00:27.634398Z",
     "start_time": "2018-08-16T22:00:27.327097Z"
    }
   },
   "outputs": [],
   "source": [
    "# a basic request with default parameters\n",
    "labels, clusters = gps.gps_dbscan(gps_records)\n",
    "pd.DataFrame(clusters).head()"
   ]
  },
  {
   "cell_type": "code",
   "execution_count": null,
   "metadata": {
    "ExecuteTime": {
     "end_time": "2018-08-16T22:00:27.832106Z",
     "start_time": "2018-08-16T22:00:27.635926Z"
    }
   },
   "outputs": [],
   "source": [
    "# an advance request with optional scikit-learn parameters\n",
    "parameters = {\n",
    "    'eps': 0.001,\n",
    "    'min_samples': 4,\n",
    "    'metric': 'euclidean',\n",
    "    'n_jobs': -1\n",
    "}\n",
    "\n",
    "labels, clusters = gps.gps_dbscan(gps_records, parameters=parameters)\n",
    "pd.DataFrame(clusters).head()"
   ]
  },
  {
   "cell_type": "markdown",
   "metadata": {},
   "source": [
    "### Find clusters and add references as columns in an existing dataframe of gps records"
   ]
  },
  {
   "cell_type": "code",
   "execution_count": null,
   "metadata": {
    "ExecuteTime": {
     "end_time": "2018-08-16T22:00:28.355694Z",
     "start_time": "2018-08-16T22:00:27.833707Z"
    }
   },
   "outputs": [],
   "source": [
    "records, clusters = gps.get_clusters_with_context(pd.DataFrame(gps_records))\n",
    "\n",
    "records.loc[records.cid != '-1'].head()\n",
    "clusters.head()"
   ]
  },
  {
   "cell_type": "markdown",
   "metadata": {},
   "source": [
    "### Find the times a subject entered and exited a cluster"
   ]
  },
  {
   "cell_type": "code",
   "execution_count": null,
   "metadata": {
    "ExecuteTime": {
     "end_time": "2018-08-16T22:01:14.740865Z",
     "start_time": "2018-08-16T22:01:12.217527Z"
    }
   },
   "outputs": [],
   "source": [
    "cluster_entries = gps.get_cluster_times(clusters, records)\n",
    "cluster_entries.head()"
   ]
  },
  {
   "cell_type": "markdown",
   "metadata": {},
   "source": [
    "### Calculate basic cluster metrics"
   ]
  },
  {
   "cell_type": "code",
   "execution_count": null,
   "metadata": {},
   "outputs": [],
   "source": []
  },
  {
   "cell_type": "markdown",
   "metadata": {},
   "source": [
    "### Find nearby places"
   ]
  },
  {
   "cell_type": "code",
   "execution_count": null,
   "metadata": {
    "ExecuteTime": {
     "end_time": "2018-08-16T22:00:30.879283Z",
     "start_time": "2018-08-16T22:00:30.877645Z"
    }
   },
   "outputs": [],
   "source": [
    "# lat, lon = clusters[0].get('lat'), clusters[0].get('lon')\n",
    "# nearby = gps.request_nearby_places(lat, lon); nearby[0].as_dict"
   ]
  }
 ],
 "metadata": {
  "kernelspec": {
   "display_name": "Python [conda env:bright]",
   "language": "python",
   "name": "conda-env-bright-py"
  },
  "language_info": {
   "codemirror_mode": {
    "name": "ipython",
    "version": 3
   },
   "file_extension": ".py",
   "mimetype": "text/x-python",
   "name": "python",
   "nbconvert_exporter": "python",
   "pygments_lexer": "ipython3",
   "version": "3.6.6"
  },
  "varInspector": {
   "cols": {
    "lenName": 16,
    "lenType": 16,
    "lenVar": 40
   },
   "kernels_config": {
    "python": {
     "delete_cmd_postfix": "",
     "delete_cmd_prefix": "del ",
     "library": "var_list.py",
     "varRefreshCmd": "print(var_dic_list())"
    },
    "r": {
     "delete_cmd_postfix": ") ",
     "delete_cmd_prefix": "rm(",
     "library": "var_list.r",
     "varRefreshCmd": "cat(var_dic_list()) "
    }
   },
   "types_to_exclude": [
    "module",
    "function",
    "builtin_function_or_method",
    "instance",
    "_Feature"
   ],
   "window_display": false
  }
 },
 "nbformat": 4,
 "nbformat_minor": 1
}
