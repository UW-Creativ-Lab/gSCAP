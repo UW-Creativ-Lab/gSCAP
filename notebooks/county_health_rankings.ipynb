{
 "cells": [
  {
   "cell_type": "code",
   "execution_count": 1,
   "metadata": {
    "ExecuteTime": {
     "end_time": "2018-10-04T17:27:33.556419Z",
     "start_time": "2018-10-04T17:27:22.526789Z"
    },
    "code_folding": [
     32,
     39
    ]
   },
   "outputs": [
    {
     "name": "stdout",
     "output_type": "stream",
     "text": [
      "Welcome, Luke Waninger!\n",
      "\n"
     ]
    },
    {
     "data": {
      "text/html": [
       "<script>requirejs.config({paths: { 'plotly': ['https://cdn.plot.ly/plotly-latest.min']},});if(!window.Plotly) {{require(['plotly'],function(plotly) {window.Plotly=plotly;});}}</script>"
      ],
      "text/vnd.plotly.v1+html": [
       "<script>requirejs.config({paths: { 'plotly': ['https://cdn.plot.ly/plotly-latest.min']},});if(!window.Plotly) {{require(['plotly'],function(plotly) {window.Plotly=plotly;});}}</script>"
      ]
     },
     "metadata": {},
     "output_type": "display_data"
    }
   ],
   "source": [
    "import io\n",
    "import multiprocessing as mul\n",
    "import os\n",
    "from pathlib import Path\n",
    "import requests\n",
    "import zipfile\n",
    "\n",
    "from IPython.core.interactiveshell import InteractiveShell\n",
    "import numpy as np\n",
    "import pandas as pd\n",
    "import plotly.graph_objs as go\n",
    "from plotly import tools\n",
    "import plotly.figure_factory as figf\n",
    "from plotly.offline import download_plotlyjs, init_notebook_mode, plot, iplot\n",
    "import synapseclient\n",
    "from synapseclient import Activity, Project, Folder, File, Table, Schema, as_table_columns\n",
    "\n",
    "# set the user's home directory as the data directory\n",
    "data_dir = os.path.join(str(Path.home()), '.gscap')\n",
    "if not os.path.exists(data_dir):\n",
    "    os.mkdir(data_dir)\n",
    "    \n",
    "syn = synapseclient.Synapse()\n",
    "syn.login()\n",
    "\n",
    "init_notebook_mode(connected=True)\n",
    "InteractiveShell.ast_node_interactivity = 'all'\n",
    "\n",
    "def isnum(x):\n",
    "    try:\n",
    "        float(x)\n",
    "        return True\n",
    "    except ValueError:\n",
    "        return False\n",
    "\n",
    "def isstr(x):\n",
    "    try:\n",
    "        str(x)\n",
    "        return True\n",
    "    except ValueError:\n",
    "        return False"
   ]
  },
  {
   "cell_type": "code",
   "execution_count": 2,
   "metadata": {
    "ExecuteTime": {
     "end_time": "2018-10-04T17:27:34.029088Z",
     "start_time": "2018-10-04T17:27:33.562617Z"
    }
   },
   "outputs": [],
   "source": [
    "fips = pd.read_csv(syn.get('syn16975424').path)\n",
    "\n",
    "# states\n",
    "state_abbr_syn = syn.get('syn16816613')\n",
    "states = pd.read_csv(state_abbr_syn.path)\n",
    "states.columns = ['state', 'stabbr']\n",
    "\n",
    "states = states.merge(\n",
    "    fips.loc[fips.summary_level=='state', ['name', 'state_fips']], \n",
    "    left_on='state', \n",
    "    right_on='name', \n",
    "    how='left'\n",
    ").drop(columns='name').rename(columns={'state_fips':'fips'})\n",
    "\n",
    "# counties\n",
    "counties = fips.loc[fips.summary_level == 'county'].merge(\n",
    "    states,\n",
    "    left_on='state_fips',\n",
    "    right_on='fips'\n",
    ").drop(columns=['county_subdivision_fips', 'place_fips', 'city_fips', 'summary_level', 'fips'])\n",
    "\n",
    "counties['fips'] = [str(x.state_fips).zfill(2)+str(x.county_fips).zfill(3) for x in counties.itertuples()]\n",
    "counties = counties.drop(columns=['state_fips', 'county_fips'])"
   ]
  },
  {
   "cell_type": "code",
   "execution_count": 3,
   "metadata": {
    "ExecuteTime": {
     "end_time": "2018-10-04T17:27:36.846376Z",
     "start_time": "2018-10-04T17:27:34.234653Z"
    }
   },
   "outputs": [],
   "source": [
    "hr_syn = syn.get('syn16971220')\n",
    "hr = pd.read_excel(hr_syn.path, sheet_name=[\n",
    "    'Outcomes & Factors Rankings',\n",
    "    'Outcomes & Factors SubRankings',\n",
    "    'Ranked Measure Data',\n",
    "    'Additional Measure Data'\n",
    "])\n",
    "\n",
    "hr['Outcomes & Factors Rankings'].reset_index(inplace=True)\n",
    "hr['Outcomes & Factors SubRankings'].reset_index(inplace=True)\n",
    "hr['Ranked Measure Data'].reset_index(inplace=True)\n",
    "hr['Additional Measure Data'].reset_index(inplace=True)"
   ]
  },
  {
   "cell_type": "markdown",
   "metadata": {},
   "source": [
    "### Outcomes & Factors Rankings"
   ]
  },
  {
   "cell_type": "code",
   "execution_count": null,
   "metadata": {
    "ExecuteTime": {
     "end_time": "2018-10-04T02:26:54.266394Z",
     "start_time": "2018-10-04T02:26:54.257112Z"
    }
   },
   "outputs": [],
   "source": [
    "cols = [\n",
    "    'fips', 'state', 'county', 'num_of_ranked_counties', 'health_outcomes_rank', \n",
    "    'health_outcomes_quartile', 'health_factors_rank', 'health_factors_quartile'\n",
    "]\n",
    "hr['Outcomes & Factors Rankings'].columns = cols\n",
    "hr['Outcomes & Factors Rankings'] = hr['Outcomes & Factors Rankings'].loc[1:, [c for c in cols if c not in ['state', 'county']]]\n",
    "\n",
    "county_rankings = counties.merge(hr['Outcomes & Factors Rankings'], on='fips', how='left')"
   ]
  },
  {
   "cell_type": "code",
   "execution_count": null,
   "metadata": {
    "ExecuteTime": {
     "end_time": "2018-10-04T02:26:46.507785Z",
     "start_time": "2018-10-04T02:26:38.639926Z"
    }
   },
   "outputs": [],
   "source": [
    "outcomes_and_factors_syn = syn.setProvenance(\n",
    "    syn.store(Table(\n",
    "        Schema(\n",
    "            name='County Health Rankings (Summarized)', \n",
    "            columns=as_table_columns(county_rankings), parent='syn16816579'), county_rankings)\n",
    "    ),\n",
    "    activity=Activity(\n",
    "        name='County Health Rankings',\n",
    "        description='Overall inner-state county health rankings.',\n",
    "        used=[           \n",
    "            dict(\n",
    "                name='County Health Rankings and Roadmaps',\n",
    "                url='http://www.countyhealthrankings.org/explore-health-rankings/rankings-data-documentation'\n",
    "            )\n",
    "        ]\n",
    "    )\n",
    ")"
   ]
  },
  {
   "cell_type": "markdown",
   "metadata": {
    "heading_collapsed": true
   },
   "source": [
    "### Outcomes & Factors SubRankings"
   ]
  },
  {
   "cell_type": "code",
   "execution_count": null,
   "metadata": {
    "ExecuteTime": {
     "end_time": "2018-10-04T02:33:11.744050Z",
     "start_time": "2018-10-04T02:33:11.733119Z"
    },
    "hidden": true
   },
   "outputs": [],
   "source": [
    "cols = [\n",
    "    'fips', 'state', 'county', 'num_of_ranked_counties',\n",
    "    'length_of_life_rank', 'length_of_life_quartile',\n",
    "    'quality_of_life_rank', 'quality_of_life_quartile', \n",
    "    'health_behaviors_rank', 'health_behaviors_quartile',\n",
    "    'clinical_care_rank', 'clinical_care_quartile', \n",
    "    'social_and_economic_factors_rank', 'social_and_economic_factors_quartile', \n",
    "    'physical_environment_rank', 'physical_environment_quartile'\n",
    "]\n",
    "hr['Outcomes & Factors SubRankings'].columns = cols\n",
    "hr['Outcomes & Factors SubRankings'] = hr['Outcomes & Factors SubRankings'].loc[1:, [c for c in cols if c not in ['state', 'county']]]\n",
    "\n",
    "county_rankings_sub = counties.merge(hr['Outcomes & Factors SubRankings'], on='fips', how='left')"
   ]
  },
  {
   "cell_type": "code",
   "execution_count": null,
   "metadata": {
    "ExecuteTime": {
     "end_time": "2018-10-04T02:33:25.013331Z",
     "start_time": "2018-10-04T02:33:14.613772Z"
    },
    "hidden": true
   },
   "outputs": [],
   "source": [
    "subrankings = syn.setProvenance(\n",
    "    syn.store(Table(\n",
    "        Schema(\n",
    "            name='County Health Rankings (SubMeasures)', \n",
    "            columns=as_table_columns(county_rankings_sub), parent='syn16816579'), county_rankings_sub)\n",
    "    ),\n",
    "    activity=Activity(\n",
    "        name='Parse Into Synapse Table',\n",
    "        description='Extract Excel sheets from original data source into Synapse table.',\n",
    "        used=[           \n",
    "            dict(\n",
    "                name='County Health Rankings and Roadmaps',\n",
    "                url='http://www.countyhealthrankings.org/explore-health-rankings/rankings-data-documentation'\n",
    "            )\n",
    "        ]\n",
    "    )\n",
    ")"
   ]
  },
  {
   "cell_type": "markdown",
   "metadata": {},
   "source": [
    "### Ranked Measure Data"
   ]
  },
  {
   "cell_type": "code",
   "execution_count": 4,
   "metadata": {
    "ExecuteTime": {
     "end_time": "2018-10-04T17:28:04.716455Z",
     "start_time": "2018-10-04T17:28:04.620682Z"
    },
    "code_folding": [
     3,
     31,
     35
    ]
   },
   "outputs": [],
   "source": [
    "base_cols = [\n",
    "    'fips', 'state', 'county'\n",
    "]\n",
    "health_cols = [\n",
    "    'premature_death_yopllr', 'premature_death_yopllr_cilow', 'premature_death_yopllr_ciup', 'premature_death_yopllr_quartile',\n",
    "    'premature_death_yopllr_black', 'premature_death_yopllr_hispanic', 'premature_death_yopllr_white',\n",
    "    'poor_or_fair_health', 'poor_or_fair_health_cilow', 'poor_or_fair_health_ciup', 'poor_or_fair_health_quartile',\n",
    "    'physically_unhealthy_days', 'physically_unhealthy_days_cilow', 'physically_unhealthy_days_ciup', 'physically_unhealthy_days_quartile',\n",
    "    'mentally_unhealthy_days', 'mentally_unhealthy_days_cilow', 'mentally_unhealthy_days_ciup', 'mentally_unhealthy_days_quartile',\n",
    "    'low_birthweight_unreliable', 'low_birthweight', 'low_birthweight_cilow', 'low_birthweight_ciup', 'low_birthweight_quartile',\n",
    "    'low_birthweight_black', 'low_birthweight_hispanic', 'low_birthweight_white',\n",
    "    'adult_smokers', 'adult_smokers_cilow', 'adult_smokers_ciup', 'adult_smokers_quartile',\n",
    "    'adult_obesity', 'adult_obesity_cilow', 'adult_obesity_ciup', 'adult_obesity_quartile',\n",
    "    'food_environment_index', 'food_environment_index_quartile',\n",
    "    'physically_inactive', 'physically_inactive_cilow', 'physically_inactive_ciup', 'physically_inactive_quartile',\n",
    "    'access_to_exercise', 'access_to_exercise_quartile',\n",
    "    'excessive_drinking', 'excessive_drinking_cilow', 'excessive_drinking_ciup', 'excessive_drinking_quartile',\n",
    "    'num_alchohol_impaired_driving_deaths', 'num_driving_deaths', 'perc_alchohol_impaired', 'perc_alchohol_impaired_cilow', 'perc_alchohol_impaired_ciup', 'perc_alchohol_impaired_quartile',\n",
    "    'num_chlamydia_cases', 'chlamydia_rate', 'chlamydia_quartile',\n",
    "    'teen_birth_rate', 'teen_birth_rate_cilow', 'teen_birth_rate_ciup', 'teen_birth_rate_quartile', \n",
    "    'teen_birth_rate_black', 'teen_birth_rate_white', 'teen_birth_rate_hispanic',\n",
    "    'num_uninsured', 'perc_uninsured', 'perc_uninsured_cilow', 'perc_uninsured_ciup', 'perc_uninsured_quartile',\n",
    "    'num_primary_care_physicians', 'pcp_rate', 'pcp_ratio', 'pcp_quartile',\n",
    "    'num_dentists', 'dentist_rate', 'dentist_ratio', 'dentist_quartile',\n",
    "    'num_mental_health_providers', 'mhp_rate', 'mhp_ratio', 'mhp_quartile',\n",
    "    'preventable_hospital_rate_num_medicare_enrollees', 'preventable_hospital_rate', 'preventable_hospital_rate_cilow', 'preventable_hospital_rate_ciup', 'preventable_hospital_rate_quartile',\n",
    "    'num_diabetics', 'perc_of_diabetics_receiving_hba1c', 'perc_of_diabetics_receiving_hba1c_cilow', 'perc_of_diabetics_receiving_hba1c_ciup', 'perc_of_diabetics_receiving_hba1c_quartile',\n",
    "    'perc_of_diabetics_receiving_hba1c_black', 'perc_of_diabetics_receiving_hba1c_white',\n",
    "    'mammography_screening_num_medicare_enrollees', 'perc_mammography', 'perc_mammography_cilow', 'perc_mammography_ciup', 'perc_mammography_quartile',\n",
    "    'perc_mammography_black', 'perc_mammography_white'\n",
    "]\n",
    "education_cols = [\n",
    "    'high_school_grad_cohort_size', 'high_school_grad_rate', 'high_school_grad_quartile',\n",
    "    'num_some_college', 'population', 'perc_some_college', 'perc_some_college_cilow', 'perc_some_college_ciup', 'perc_some_college_quartile',\n",
    "]\n",
    "social_factor_cols = [\n",
    "    'num_unemployed', 'labor_force', 'perc_unemployed', 'perc_unemployed_quartile',\n",
    "    'perc_children_in_poverty', 'perc_children_in_poverty_cilow', 'perc_children_in_poverty_ciup', 'perc_children_in_poverty_quartile',\n",
    "    'perc_children_in_poverty_black', 'perc_children_in_poverty_hispanic', 'perc_children_in_poverty_white',\n",
    "    '80th_percentile_income', '20th_percentile_income', 'income_inequality_ratio', 'income_inquality_quartile',\n",
    "    'num_single_parent_households', 'num_households', 'perc_single_parent_households', 'perc_single_parent_households_cilow', 'perc_single_parent_households_ciup', 'perc_single_parent_households_quartile',\n",
    "    'num_social_associations', 'social_association_rate', 'social_association_quartile',\n",
    "    'num_violent_crimes', 'violent_crime_rate', 'violent_crime_quartile',\n",
    "    'num_injury_deaths', 'injury_death_rate', 'injury_death_rate_cilow', 'injury_death_rate_ciup', 'injury_death_rate_quartile',\n",
    "    'average_daily_pm2p5', 'average_daily_pm2p5_quartile',\n",
    "    'presence_of_drinking_water_violation', 'presence_of_drinking_water_violation_quartile',\n",
    "    'num_households_with_severe_housing_problems', 'perc_of_households_with_severe_housing_problems', 'perc_of_households_with_severe_housing_problems_cilow',\n",
    "    'perc_of_households_with_severe_housing_problems_ciup', 'perc_of_households_with_severe_housing_problems_quartile',\n",
    "    'perc_drive_alone_to_work', 'perc_drive_alone_to_work_cilow', 'perc_drive_alone_to_work_ciup', 'perc_drive_alone_to_work_quartile',\n",
    "    'perc_drive_alone_to_work_black', 'perc_drive_alone_to_work_hispanic', 'perc_drive_alone_to_work_white',\n",
    "    'num_of_workers_who_drive_alone', 'perc_of_long_commutes_alone', 'perc_of_long_commutes_alone_cilow', 'perc_of_long_commutes_alone_ciup', 'perc_of_long_commutes_alone_quartile'\n",
    "]\n",
    "all_cols = base_cols + health_cols + education_cols + social_factor_cols\n",
    "\n",
    "hr['Ranked Measure Data'].columns = all_cols\n",
    "hr['Ranked Measure Data'] = hr['Ranked Measure Data'].loc[1:, [c for c in all_cols if c not in ['state', 'name']]]\n",
    "\n",
    "chr_measures = counties.merge(hr['Ranked Measure Data'], on='fips', how='left')"
   ]
  },
  {
   "cell_type": "code",
   "execution_count": 5,
   "metadata": {
    "ExecuteTime": {
     "end_time": "2018-10-04T17:28:34.885601Z",
     "start_time": "2018-10-04T17:28:31.022208Z"
    },
    "scrolled": false
   },
   "outputs": [],
   "source": [
    "def fx(x):\n",
    "    if isnum(x):\n",
    "        return np.round(x, 2)\n",
    "    else:\n",
    "        return x\n",
    "    \n",
    "for c in chr_measures.columns:\n",
    "    if c in ['name', 'state', 'stabbr', 'fips', 'county']:\n",
    "        continue\n",
    "    \n",
    "    chr_measures[c] = chr_measures[c].apply(fx)"
   ]
  },
  {
   "cell_type": "code",
   "execution_count": 6,
   "metadata": {
    "ExecuteTime": {
     "end_time": "2018-10-04T17:28:45.874092Z",
     "start_time": "2018-10-04T17:28:37.091644Z"
    },
    "code_folding": [
     4,
     21,
     38
    ]
   },
   "outputs": [],
   "source": [
    "#chr_health = chr_measures.loc[:, base_cols + health_cols]\n",
    "chr_education = chr_measures.loc[:, base_cols + education_cols]\n",
    "#chr_social = chr_measures.loc[:, base_cols + social_factor_cols]\n",
    "\n",
    "# chr_health = syn.setProvenance(\n",
    "#     syn.store(Table(\n",
    "#         Schema(\n",
    "#             name='County Health Rankings (Health Measures)', \n",
    "#             columns=as_table_columns(chr_health), parent='syn16816579'), chr_health)\n",
    "#     ),\n",
    "#     activity=Activity(\n",
    "#         name='Parse Into Synapse Table',\n",
    "#         description='Extract Excel sheets from original data source into Synapse table.',\n",
    "#         used=[           \n",
    "#             dict(\n",
    "#                 name='County Health Rankings and Roadmaps',\n",
    "#                 url='http://www.countyhealthrankings.org/explore-health-rankings/rankings-data-documentation'\n",
    "#             )\n",
    "#         ]\n",
    "#     )\n",
    "# )\n",
    "chr_education = syn.setProvenance(\n",
    "    syn.store(Table(\n",
    "        Schema(\n",
    "            name='County Health Rankings (Education Measures)', \n",
    "            columns=as_table_columns(chr_education), parent='syn16816579'), chr_education)\n",
    "    ),\n",
    "    activity=Activity(\n",
    "        name='Parse Into Synapse Table',\n",
    "        description='Extract Excel sheets from original data source into Synapse table.',\n",
    "        used=[           \n",
    "            dict(\n",
    "                name='County Health Rankings and Roadmaps',\n",
    "                url='http://www.countyhealthrankings.org/explore-health-rankings/rankings-data-documentation'\n",
    "            )\n",
    "        ]\n",
    "    )\n",
    ")\n",
    "# chr_social = syn.setProvenance(\n",
    "#     syn.store(Table(\n",
    "#         Schema(\n",
    "#             name='County Health Rankings (Social Measures)', \n",
    "#             columns=as_table_columns(chr_social), parent='syn16816579'), chr_social)\n",
    "#     ),\n",
    "#     activity=Activity(\n",
    "#         name='Parse Into Synapse Table',\n",
    "#         description='Extract Excel sheets from original data source into Synapse table.',\n",
    "#         used=[           \n",
    "#             dict(\n",
    "#                 name='County Health Rankings and Roadmaps',\n",
    "#                 url='http://www.countyhealthrankings.org/explore-health-rankings/rankings-data-documentation'\n",
    "#             )\n",
    "#         ]\n",
    "#     )\n",
    "# )"
   ]
  },
  {
   "cell_type": "code",
   "execution_count": null,
   "metadata": {},
   "outputs": [],
   "source": []
  }
 ],
 "metadata": {
  "kernelspec": {
   "display_name": "Python [conda env:bright]",
   "language": "python",
   "name": "conda-env-bright-py"
  },
  "language_info": {
   "codemirror_mode": {
    "name": "ipython",
    "version": 3
   },
   "file_extension": ".py",
   "mimetype": "text/x-python",
   "name": "python",
   "nbconvert_exporter": "python",
   "pygments_lexer": "ipython3",
   "version": "3.6.6"
  },
  "varInspector": {
   "cols": {
    "lenName": 16,
    "lenType": 16,
    "lenVar": 40
   },
   "kernels_config": {
    "python": {
     "delete_cmd_postfix": "",
     "delete_cmd_prefix": "del ",
     "library": "var_list.py",
     "varRefreshCmd": "print(var_dic_list())"
    },
    "r": {
     "delete_cmd_postfix": ") ",
     "delete_cmd_prefix": "rm(",
     "library": "var_list.r",
     "varRefreshCmd": "cat(var_dic_list()) "
    }
   },
   "types_to_exclude": [
    "module",
    "function",
    "builtin_function_or_method",
    "instance",
    "_Feature"
   ],
   "window_display": false
  }
 },
 "nbformat": 4,
 "nbformat_minor": 2
}
