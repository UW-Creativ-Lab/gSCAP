{
 "cells": [
  {
   "cell_type": "code",
   "execution_count": 74,
   "metadata": {
    "ExecuteTime": {
     "end_time": "2018-09-25T00:28:41.335806Z",
     "start_time": "2018-09-25T00:28:35.607919Z"
    }
   },
   "outputs": [
    {
     "name": "stdout",
     "output_type": "stream",
     "text": [
      "Welcome, Luke Waninger!\n",
      "\n"
     ]
    }
   ],
   "source": [
    "import io\n",
    "import os\n",
    "from pathlib import Path\n",
    "import requests\n",
    "import zipfile\n",
    "\n",
    "import pandas as pd\n",
    "import synapseclient\n",
    "from synapseclient import Activity, Project, Folder, File\n",
    "\n",
    "# set the user's home directory as the data directory\n",
    "data_dir = os.path.join(str(Path.home()), '.mhealth')\n",
    "if not os.path.exists(data_dir):\n",
    "    os.mkdir(data_dir)\n",
    "    \n",
    "syn = synapseclient.Synapse()\n",
    "syn.login()\n",
    "\n",
    "storage = syn.get(Project(name='GSCAP Data'))\n",
    "source_files = syn.store(Folder(name='source_files', parent=storage, downloadPath=data_dir))\n",
    "dpath = lambda s: os.path.join(data_dir, s)"
   ]
  },
  {
   "cell_type": "markdown",
   "metadata": {},
   "source": [
    "### Get the national zipcode listing"
   ]
  },
  {
   "cell_type": "code",
   "execution_count": 79,
   "metadata": {
    "ExecuteTime": {
     "end_time": "2018-09-25T00:33:07.482582Z",
     "start_time": "2018-09-25T00:32:55.088305Z"
    }
   },
   "outputs": [
    {
     "name": "stdout",
     "output_type": "stream",
     "text": [
      "\n",
      "##################################################\n",
      " Uploading file to Synapse storage \n",
      "##################################################\n",
      "\n"
     ]
    }
   ],
   "source": [
    "link = 'http://www2.census.gov/econ2016/CB/sector00/CB1600CZ11.zip'\n",
    "\n",
    "response = requests.get(link)\n",
    "if response.ok:\n",
    "    f = io.BytesIO(response.content)\n",
    "\n",
    "    with zipfile.ZipFile(f, 'r') as f:\n",
    "        contents = [\n",
    "            dict(\n",
    "                name=name[:name.find('.')],\n",
    "                data=f.read(name),\n",
    "                ext=name[name.find('.')+1:]\n",
    "            )\n",
    "            for name in f.namelist()\n",
    "        ]\n",
    "\n",
    "    for fi in contents:        \n",
    "        with io.BytesIO(fi['data']) as fi_:\n",
    "            a = pd.read_csv(fi_, sep='|')\n",
    "        \n",
    "        name = 'CB1600CZ11.csv'\n",
    "        a.to_csv(dpath(name))\n",
    "        syn.setProvenance(\n",
    "            syn.store(File(name=name, path=dpath(name), parent=source_files)),\n",
    "            activity=Activity(used=[dict(name='US Census Bureau', url=link)])\n",
    "        )\n",
    "        \n",
    "        a.columns = [s.strip().lower() for s in a.columns]\n",
    "        a = a.loc[:, ['zipcode', 'geo_ttl']] \n",
    "        \n",
    "        a.geo_ttl  = [ti[ti.find('(')+1:ti.find(')')] for ti in a.geo_ttl]\n",
    "        a['city']  = [ti[:ti.find(',')].title() for ti in a.geo_ttl]\n",
    "        a['state'] = [ti[ti.find(',')+1:] for ti in a.geo_ttl]\n",
    "        a.drop(columns=['geo_ttl'], inplace=True)"
   ]
  },
  {
   "cell_type": "code",
   "execution_count": 80,
   "metadata": {
    "ExecuteTime": {
     "end_time": "2018-09-25T00:34:34.782709Z",
     "start_time": "2018-09-25T00:34:25.087799Z"
    }
   },
   "outputs": [
    {
     "name": "stdout",
     "output_type": "stream",
     "text": [
      "\n",
      "##################################################\n",
      " Uploading file to Synapse storage \n",
      "##################################################\n",
      "\n"
     ]
    }
   ],
   "source": [
    "zname = '2017_national_zipcodes.csv'\n",
    "url =  'http://www2.census.gov/geo/docs/maps-data/data/gazetteer/2017_Gazetteer/2017_Gaz_zcta_national.zip'\n",
    "\n",
    "response = requests.get(url)\n",
    "if response.ok:\n",
    "    t_path = dpath('2017_Gaz_zcta_national.txt')\n",
    "    f = io.BytesIO(response.content)\n",
    "\n",
    "    with zipfile.ZipFile(f, 'r') as f:\n",
    "        f.extractall(path=data_dir)\n",
    "\n",
    "    b = pd.read_csv(t_path, sep='\\t')\n",
    "    \n",
    "    name = '2017_Gaz_zcta_national.csv'    \n",
    "    b.to_csv(dpath(name))\n",
    "    syn.setProvenance(\n",
    "        syn.store(File(name=name, path=dpath(name), parent=source_files)),\n",
    "        activity=Activity(used=[dict(name='US Census Bureau', url=link)])\n",
    "    )\n",
    "\n",
    "    b.columns = [s.strip() for s in t.columns]\n",
    "    b = b.loc[:, ['GEOID', 'INTPTLAT', 'INTPTLONG']]\n",
    "    b.columns = ['zipcode', 'lat', 'lon']"
   ]
  },
  {
   "cell_type": "code",
   "execution_count": 81,
   "metadata": {
    "ExecuteTime": {
     "end_time": "2018-09-25T00:35:05.111252Z",
     "start_time": "2018-09-25T00:35:05.088899Z"
    }
   },
   "outputs": [
    {
     "data": {
      "text/html": [
       "<div>\n",
       "<style scoped>\n",
       "    .dataframe tbody tr th:only-of-type {\n",
       "        vertical-align: middle;\n",
       "    }\n",
       "\n",
       "    .dataframe tbody tr th {\n",
       "        vertical-align: top;\n",
       "    }\n",
       "\n",
       "    .dataframe thead th {\n",
       "        text-align: right;\n",
       "    }\n",
       "</style>\n",
       "<table border=\"1\" class=\"dataframe\">\n",
       "  <thead>\n",
       "    <tr style=\"text-align: right;\">\n",
       "      <th></th>\n",
       "      <th>zipcode</th>\n",
       "      <th>city</th>\n",
       "      <th>state</th>\n",
       "      <th>lat</th>\n",
       "      <th>lon</th>\n",
       "    </tr>\n",
       "  </thead>\n",
       "  <tbody>\n",
       "    <tr>\n",
       "      <th>0</th>\n",
       "      <td>35004</td>\n",
       "      <td>Moody</td>\n",
       "      <td>AL</td>\n",
       "      <td>33.603431</td>\n",
       "      <td>-86.493783</td>\n",
       "    </tr>\n",
       "    <tr>\n",
       "      <th>1</th>\n",
       "      <td>35005</td>\n",
       "      <td>Adamsville</td>\n",
       "      <td>AL</td>\n",
       "      <td>33.595950</td>\n",
       "      <td>-87.000649</td>\n",
       "    </tr>\n",
       "    <tr>\n",
       "      <th>2</th>\n",
       "      <td>35006</td>\n",
       "      <td>Adger</td>\n",
       "      <td>AL</td>\n",
       "      <td>33.422751</td>\n",
       "      <td>-87.209751</td>\n",
       "    </tr>\n",
       "  </tbody>\n",
       "</table>\n",
       "</div>"
      ],
      "text/plain": [
       "   zipcode        city state        lat        lon\n",
       "0    35004       Moody    AL  33.603431 -86.493783\n",
       "1    35005  Adamsville    AL  33.595950 -87.000649\n",
       "2    35006       Adger    AL  33.422751 -87.209751"
      ]
     },
     "execution_count": 81,
     "metadata": {},
     "output_type": "execute_result"
    }
   ],
   "source": [
    "c = pd.merge(a,b, on='zipcode')\n",
    "c.head(3)"
   ]
  },
  {
   "cell_type": "markdown",
   "metadata": {},
   "source": [
    "### Weather cache"
   ]
  },
  {
   "cell_type": "code",
   "execution_count": null,
   "metadata": {
    "ExecuteTime": {
     "end_time": "2018-09-24T22:50:51.434312Z",
     "start_time": "2018-09-24T22:50:41.206Z"
    }
   },
   "outputs": [],
   "source": [
    "db_name = \"weather_cache.sqlite\"\n",
    "weather_cache = syn.setProvenance(\n",
    "    syn.get(File(name=db_name, path=dpath(db_name), parent=syn_project)),\n",
    "    activity=Activity(\n",
    "        used=[dict(name='DarkSky API', url='https://darksky.net/dev/docs')],\n",
    "        executed=[dict(name='weather.py', url='https://github.com/lukeWaninger/mHealthFeaturization/blob/master/weather.py')]\n",
    "    )\n",
    ")"
   ]
  },
  {
   "cell_type": "markdown",
   "metadata": {},
   "source": [
    "### GoogleMaps cache"
   ]
  },
  {
   "cell_type": "code",
   "execution_count": null,
   "metadata": {},
   "outputs": [],
   "source": []
  }
 ],
 "metadata": {
  "kernelspec": {
   "display_name": "Python [conda env:bright]",
   "language": "python",
   "name": "conda-env-bright-py"
  },
  "language_info": {
   "codemirror_mode": {
    "name": "ipython",
    "version": 3
   },
   "file_extension": ".py",
   "mimetype": "text/x-python",
   "name": "python",
   "nbconvert_exporter": "python",
   "pygments_lexer": "ipython3",
   "version": "3.6.6"
  },
  "varInspector": {
   "cols": {
    "lenName": 16,
    "lenType": 16,
    "lenVar": 40
   },
   "kernels_config": {
    "python": {
     "delete_cmd_postfix": "",
     "delete_cmd_prefix": "del ",
     "library": "var_list.py",
     "varRefreshCmd": "print(var_dic_list())"
    },
    "r": {
     "delete_cmd_postfix": ") ",
     "delete_cmd_prefix": "rm(",
     "library": "var_list.r",
     "varRefreshCmd": "cat(var_dic_list()) "
    }
   },
   "types_to_exclude": [
    "module",
    "function",
    "builtin_function_or_method",
    "instance",
    "_Feature"
   ],
   "window_display": false
  }
 },
 "nbformat": 4,
 "nbformat_minor": 1
}
