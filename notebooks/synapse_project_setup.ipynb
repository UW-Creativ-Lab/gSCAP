{
 "cells": [
  {
   "cell_type": "code",
   "execution_count": 1,
   "metadata": {
    "ExecuteTime": {
     "end_time": "2018-09-24T21:17:36.992335Z",
     "start_time": "2018-09-24T21:17:32.702694Z"
    }
   },
   "outputs": [
    {
     "name": "stdout",
     "output_type": "stream",
     "text": [
      "Welcome, Luke Waninger!\n",
      "\n"
     ]
    }
   ],
   "source": [
    "import io\n",
    "import os\n",
    "from pathlib import Path\n",
    "import requests\n",
    "import zipfile\n",
    "\n",
    "import pandas as pd\n",
    "import synapseclient\n",
    "from synapseclient import Activity, Project, Folder, File\n",
    "\n",
    "syn = synapseclient.Synapse()\n",
    "syn.login()\n",
    "\n",
    "syn_project = syn.get(Project(name='mHealthFeaturization'))\n",
    "dpath = lambda s: os.path.join(data_dir, s)\n",
    "\n",
    "# set the user's home directory as the data directory\n",
    "data_dir = os.path.join(str(Path.home()), '.mhealth')\n",
    "if not os.path.exists(data_dir):\n",
    "    os.mkdir(data_dir)"
   ]
  },
  {
   "cell_type": "markdown",
   "metadata": {},
   "source": [
    "### Get the national zipcode listing"
   ]
  },
  {
   "cell_type": "code",
   "execution_count": 2,
   "metadata": {
    "ExecuteTime": {
     "end_time": "2018-09-24T21:17:46.083018Z",
     "start_time": "2018-09-24T21:17:39.900753Z"
    }
   },
   "outputs": [
    {
     "name": "stdout",
     "output_type": "stream",
     "text": [
      "\n",
      "##################################################\n",
      " Uploading file to Synapse storage \n",
      "##################################################\n",
      "\n"
     ]
    }
   ],
   "source": [
    "zname = '2017_national_zipcodes.csv'\n",
    "url =  'http://www2.census.gov/geo/docs/maps-data/data/gazetteer/2017_Gazetteer/2017_Gaz_zcta_national.zip'\n",
    "\n",
    "# download the file from the US Census Bureau\n",
    "response = requests.get(url)\n",
    "if response.ok:\n",
    "    t_path = dpath('2017_Gaz_zcta_national.txt')\n",
    "    f = io.BytesIO(response.content)\n",
    "\n",
    "    with zipfile.ZipFile(f, 'r') as f:\n",
    "        f.extractall(path=data_dir)\n",
    "\n",
    "    t = pd.read_csv(t_path, sep='\\t')\n",
    "    t.columns = [s.strip() for s in t.columns]\n",
    "    t = t.loc[:, ['GEOID', 'INTPTLAT', 'INTPTLONG']]\n",
    "    t.columns = ['zipcode', 'lat', 'lon']\n",
    "\n",
    "    t.to_csv(dpath(zname), index=None)\n",
    "    os.remove(t_path)\n",
    "\n",
    "    sfile = syn.setProvenance(\n",
    "        syn.store(File(name=zname, path=dpath(zname), parent=syn_project)),\n",
    "        activity=Activity(\n",
    "            used=[dict(name='US Census Bureau Gaz', url=url)]\n",
    "            executed=[di]\n",
    "        )\n",
    "    )"
   ]
  }
 ],
 "metadata": {
  "kernelspec": {
   "display_name": "Python [conda env:bright]",
   "language": "python",
   "name": "conda-env-bright-py"
  },
  "language_info": {
   "codemirror_mode": {
    "name": "ipython",
    "version": 3
   },
   "file_extension": ".py",
   "mimetype": "text/x-python",
   "name": "python",
   "nbconvert_exporter": "python",
   "pygments_lexer": "ipython3",
   "version": "3.6.6"
  },
  "varInspector": {
   "cols": {
    "lenName": 16,
    "lenType": 16,
    "lenVar": 40
   },
   "kernels_config": {
    "python": {
     "delete_cmd_postfix": "",
     "delete_cmd_prefix": "del ",
     "library": "var_list.py",
     "varRefreshCmd": "print(var_dic_list())"
    },
    "r": {
     "delete_cmd_postfix": ") ",
     "delete_cmd_prefix": "rm(",
     "library": "var_list.r",
     "varRefreshCmd": "cat(var_dic_list()) "
    }
   },
   "types_to_exclude": [
    "module",
    "function",
    "builtin_function_or_method",
    "instance",
    "_Feature"
   ],
   "window_display": false
  }
 },
 "nbformat": 4,
 "nbformat_minor": 1
}
