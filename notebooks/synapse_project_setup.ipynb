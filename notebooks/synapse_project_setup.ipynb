{
 "cells": [
  {
   "cell_type": "code",
   "execution_count": 21,
   "metadata": {
    "ExecuteTime": {
     "end_time": "2018-09-25T18:14:24.498009Z",
     "start_time": "2018-09-25T18:13:55.701857Z"
    },
    "code_folding": [
     23,
     30
    ]
   },
   "outputs": [
    {
     "name": "stdout",
     "output_type": "stream",
     "text": [
      "Welcome, Luke Waninger!\n",
      "\n"
     ]
    },
    {
     "data": {
      "text/html": [
       "<script>requirejs.config({paths: { 'plotly': ['https://cdn.plot.ly/plotly-latest.min']},});if(!window.Plotly) {{require(['plotly'],function(plotly) {window.Plotly=plotly;});}}</script>"
      ],
      "text/vnd.plotly.v1+html": [
       "<script>requirejs.config({paths: { 'plotly': ['https://cdn.plot.ly/plotly-latest.min']},});if(!window.Plotly) {{require(['plotly'],function(plotly) {window.Plotly=plotly;});}}</script>"
      ]
     },
     "metadata": {},
     "output_type": "display_data"
    },
    {
     "ename": "NameError",
     "evalue": "name 'InteractiveShell' is not defined",
     "output_type": "error",
     "traceback": [
      "\u001b[0;31m---------------------------------------------------------------------------\u001b[0m",
      "\u001b[0;31mNameError\u001b[0m                                 Traceback (most recent call last)",
      "\u001b[0;32m<ipython-input-21-bee99080950c>\u001b[0m in \u001b[0;36m<module>\u001b[0;34m()\u001b[0m\n\u001b[1;32m     28\u001b[0m \u001b[0;34m\u001b[0m\u001b[0m\n\u001b[1;32m     29\u001b[0m \u001b[0minit_notebook_mode\u001b[0m\u001b[0;34m(\u001b[0m\u001b[0mconnected\u001b[0m\u001b[0;34m=\u001b[0m\u001b[0;32mTrue\u001b[0m\u001b[0;34m)\u001b[0m\u001b[0;34m\u001b[0m\u001b[0m\n\u001b[0;32m---> 30\u001b[0;31m \u001b[0mInteractiveShell\u001b[0m\u001b[0;34m.\u001b[0m\u001b[0mast_node_interactivity\u001b[0m \u001b[0;34m=\u001b[0m \u001b[0;34m'all'\u001b[0m\u001b[0;34m\u001b[0m\u001b[0m\n\u001b[0m\u001b[1;32m     31\u001b[0m \u001b[0;34m\u001b[0m\u001b[0m\n\u001b[1;32m     32\u001b[0m \u001b[0;32mdef\u001b[0m \u001b[0misnum\u001b[0m\u001b[0;34m(\u001b[0m\u001b[0mx\u001b[0m\u001b[0;34m)\u001b[0m\u001b[0;34m:\u001b[0m\u001b[0;34m\u001b[0m\u001b[0m\n",
      "\u001b[0;31mNameError\u001b[0m: name 'InteractiveShell' is not defined"
     ]
    }
   ],
   "source": [
    "import io\n",
    "import multiprocessing as mul\n",
    "import os\n",
    "from pathlib import Path\n",
    "import requests\n",
    "import zipfile\n",
    "\n",
    "import numpy as np\n",
    "import pandas as pd\n",
    "import plotly.graph_objs as go\n",
    "from plotly import tools\n",
    "import plotly.figure_factory as figf\n",
    "from plotly.offline import download_plotlyjs, init_notebook_mode, plot, iplot\n",
    "import synapseclient\n",
    "from synapseclient import Activity, Project, Folder, File, Table, Schema, as_table_columns\n",
    "\n",
    "# set the user's home directory as the data directory\n",
    "data_dir = os.path.join(str(Path.home()), '.gscat')\n",
    "if not os.path.exists(data_dir):\n",
    "    os.mkdir(data_dir)\n",
    "    \n",
    "syn = synapseclient.Synapse()\n",
    "syn.login()\n",
    "\n",
    "storage = syn.get(Project(name='GSCAP Data'))\n",
    "source_files = syn.store(Folder(name='source_files', parent=storage, downloadPath=data_dir))\n",
    "dpath = lambda s: os.path.join(data_dir, s)\n",
    "\n",
    "init_notebook_mode(connected=True)\n",
    "InteractiveShell.ast_node_interactivity = 'all'\n",
    "\n",
    "def isnum(x):\n",
    "    try:\n",
    "        float(x)\n",
    "        return True\n",
    "    except ValueError:\n",
    "        return False\n",
    "\n",
    "def isstr(x):\n",
    "    try:\n",
    "        str(x)\n",
    "        return True\n",
    "    except ValueError:\n",
    "        return False"
   ]
  },
  {
   "cell_type": "markdown",
   "metadata": {},
   "source": [
    "### Zipcodes"
   ]
  },
  {
   "cell_type": "code",
   "execution_count": 2,
   "metadata": {
    "ExecuteTime": {
     "end_time": "2018-09-25T18:04:20.261261Z",
     "start_time": "2018-09-25T18:04:14.758808Z"
    }
   },
   "outputs": [
    {
     "name": "stdout",
     "output_type": "stream",
     "text": [
      "\n",
      "##################################################\n",
      " Uploading file to Synapse storage \n",
      "##################################################\n",
      "\n"
     ]
    }
   ],
   "source": [
    "zname = 'zb16totals'\n",
    "url =  'https://www2.census.gov/programs-surveys/cbp/datasets/2016/zbp16totals.zip'\n",
    "\n",
    "response = requests.get(url)\n",
    "if response.ok:\n",
    "    t_path = dpath('2017_Gaz_zcta_national.txt')\n",
    "    f = io.BytesIO(response.content)\n",
    "\n",
    "    with zipfile.ZipFile(f, 'r') as f:\n",
    "        contents = [\n",
    "            dict(\n",
    "                name=name[:name.find('.')],\n",
    "                data=f.read(name),\n",
    "                ext=name[name.find('.')+1:]\n",
    "            )\n",
    "            for name in f.namelist()\n",
    "        ]\n",
    "\n",
    "    for fi in contents:        \n",
    "        with io.BytesIO(fi['data']) as fi_:\n",
    "            a = pd.read_csv(fi_)  \n",
    "        \n",
    "        a.to_csv(dpath(zname))\n",
    "        cbp_totals_syn = syn.setProvenance(\n",
    "            syn.store(File(name=zname, path=dpath(zname), parent=source_files)),\n",
    "            activity=Activity(used=[dict(name='US Census Bureau', url=url)])\n",
    "        )\n",
    "        \n",
    "        a.drop(columns=['name', 'empflag', 'emp_nf', 'emp', 'qp1_nf', 'qp1', 'ap_nf', 'ap', 'est'], inplace=True)\n",
    "        a.rename(columns={'cty_name':'county', 'zip':'zipcode'}, inplace=True)\n",
    "        \n",
    "        a.city = [str(x).title() if isstr(x) else x for x in a.city]\n",
    "        a.county = [str(x).title() if isstr(x) else x for x in a.county]"
   ]
  },
  {
   "cell_type": "code",
   "execution_count": 3,
   "metadata": {
    "ExecuteTime": {
     "end_time": "2018-09-25T18:04:25.637694Z",
     "start_time": "2018-09-25T18:04:20.263257Z"
    }
   },
   "outputs": [
    {
     "name": "stdout",
     "output_type": "stream",
     "text": [
      "\n",
      "##################################################\n",
      " Uploading file to Synapse storage \n",
      "##################################################\n",
      "\n"
     ]
    }
   ],
   "source": [
    "zname = '2017_national_zipcodes.csv'\n",
    "url =  'http://www2.census.gov/geo/docs/maps-data/data/gazetteer/2017_Gazetteer/2017_Gaz_zcta_national.zip'\n",
    "\n",
    "response = requests.get(url)\n",
    "if response.ok:\n",
    "    t_path = dpath('2017_Gaz_zcta_national.txt')\n",
    "    f = io.BytesIO(response.content)\n",
    "\n",
    "    with zipfile.ZipFile(f, 'r') as f:\n",
    "        f.extractall(path=data_dir)\n",
    "\n",
    "    b = pd.read_csv(t_path, sep='\\t')\n",
    "    \n",
    "    name = '2017_Gaz_zcta_national.csv'    \n",
    "    b.to_csv(dpath(name))\n",
    "    \n",
    "    zips_syn = syn.setProvenance(\n",
    "        syn.store(File(name=name, path=dpath(name), parent=source_files)),\n",
    "        activity=Activity(used=[dict(name='US Census Bureau', url=url)])\n",
    "    )\n",
    "    \n",
    "    b.columns = [s.strip() for s in b.columns]\n",
    "    b = b.loc[:, ['GEOID', 'INTPTLAT', 'INTPTLONG']]\n",
    "    b.columns = ['zipcode', 'lat', 'lon']"
   ]
  },
  {
   "cell_type": "code",
   "execution_count": 4,
   "metadata": {
    "ExecuteTime": {
     "end_time": "2018-09-25T18:04:28.171491Z",
     "start_time": "2018-09-25T18:04:25.639899Z"
    }
   },
   "outputs": [],
   "source": [
    "sname = 'state_codes.csv'\n",
    "state_codes = pd.read_csv(dpath(sname))\n",
    "state_codes_syn = syn.store(File(name=sname, path=dpath(sname), parent=source_files))"
   ]
  },
  {
   "cell_type": "code",
   "execution_count": 5,
   "metadata": {
    "ExecuteTime": {
     "end_time": "2018-09-25T18:04:28.217833Z",
     "start_time": "2018-09-25T18:04:28.174064Z"
    }
   },
   "outputs": [],
   "source": [
    "d = pd.merge(a, b, on='zipcode')\n",
    "d = pd.merge(d, state_codes, left_on='stabbr', right_on='Code')\n",
    "d = d.drop(columns='Code')\n",
    "d = d.rename(columns={'State':'state'})\n",
    "\n",
    "d.lat = np.round(d.lat, 5)\n",
    "d.lon = np.round(d.lon, 5)\n",
    "\n",
    "d = d[['zipcode', 'city', 'county', 'state', 'stabbr', 'lat', 'lon']]"
   ]
  },
  {
   "cell_type": "code",
   "execution_count": 6,
   "metadata": {
    "ExecuteTime": {
     "end_time": "2018-09-25T18:04:28.905730Z",
     "start_time": "2018-09-25T18:04:28.219819Z"
    }
   },
   "outputs": [
    {
     "data": {
      "text/html": [
       "<div>\n",
       "<style scoped>\n",
       "    .dataframe tbody tr th:only-of-type {\n",
       "        vertical-align: middle;\n",
       "    }\n",
       "\n",
       "    .dataframe tbody tr th {\n",
       "        vertical-align: top;\n",
       "    }\n",
       "\n",
       "    .dataframe thead th {\n",
       "        text-align: right;\n",
       "    }\n",
       "</style>\n",
       "<table border=\"1\" class=\"dataframe\">\n",
       "  <thead>\n",
       "    <tr style=\"text-align: right;\">\n",
       "      <th></th>\n",
       "      <th>zipcode</th>\n",
       "      <th>city</th>\n",
       "      <th>county</th>\n",
       "      <th>state</th>\n",
       "      <th>stabbr</th>\n",
       "      <th>lat</th>\n",
       "      <th>lon</th>\n",
       "      <th>timezone</th>\n",
       "    </tr>\n",
       "  </thead>\n",
       "  <tbody>\n",
       "    <tr>\n",
       "      <th>0</th>\n",
       "      <td>1001</td>\n",
       "      <td>Agawam</td>\n",
       "      <td>Hampden</td>\n",
       "      <td>Massachusetts</td>\n",
       "      <td>MA</td>\n",
       "      <td>42.06237</td>\n",
       "      <td>-72.62575</td>\n",
       "      <td>America/New_York</td>\n",
       "    </tr>\n",
       "    <tr>\n",
       "      <th>1</th>\n",
       "      <td>1002</td>\n",
       "      <td>Amherst</td>\n",
       "      <td>Hampshire</td>\n",
       "      <td>Massachusetts</td>\n",
       "      <td>MA</td>\n",
       "      <td>42.36406</td>\n",
       "      <td>-72.45874</td>\n",
       "      <td>America/New_York</td>\n",
       "    </tr>\n",
       "    <tr>\n",
       "      <th>2</th>\n",
       "      <td>1003</td>\n",
       "      <td>Amherst</td>\n",
       "      <td>Hampshire</td>\n",
       "      <td>Massachusetts</td>\n",
       "      <td>MA</td>\n",
       "      <td>42.38970</td>\n",
       "      <td>-72.52401</td>\n",
       "      <td>America/New_York</td>\n",
       "    </tr>\n",
       "    <tr>\n",
       "      <th>3</th>\n",
       "      <td>1005</td>\n",
       "      <td>Barre</td>\n",
       "      <td>Worcester</td>\n",
       "      <td>Massachusetts</td>\n",
       "      <td>MA</td>\n",
       "      <td>42.41885</td>\n",
       "      <td>-72.10660</td>\n",
       "      <td>America/New_York</td>\n",
       "    </tr>\n",
       "    <tr>\n",
       "      <th>4</th>\n",
       "      <td>1007</td>\n",
       "      <td>Belchertown</td>\n",
       "      <td>Hampshire</td>\n",
       "      <td>Massachusetts</td>\n",
       "      <td>MA</td>\n",
       "      <td>42.27901</td>\n",
       "      <td>-72.40047</td>\n",
       "      <td>America/New_York</td>\n",
       "    </tr>\n",
       "  </tbody>\n",
       "</table>\n",
       "</div>"
      ],
      "text/plain": [
       "   zipcode         city     county          state stabbr       lat       lon  \\\n",
       "0     1001       Agawam    Hampden  Massachusetts     MA  42.06237 -72.62575   \n",
       "1     1002      Amherst  Hampshire  Massachusetts     MA  42.36406 -72.45874   \n",
       "2     1003      Amherst  Hampshire  Massachusetts     MA  42.38970 -72.52401   \n",
       "3     1005        Barre  Worcester  Massachusetts     MA  42.41885 -72.10660   \n",
       "4     1007  Belchertown  Hampshire  Massachusetts     MA  42.27901 -72.40047   \n",
       "\n",
       "           timezone  \n",
       "0  America/New_York  \n",
       "1  America/New_York  \n",
       "2  America/New_York  \n",
       "3  America/New_York  \n",
       "4  America/New_York  "
      ]
     },
     "execution_count": 6,
     "metadata": {},
     "output_type": "execute_result"
    }
   ],
   "source": [
    "timezones = syn.get('syn16810024')\n",
    "tz = pd.read_csv(timezones.path)\n",
    "tz = tz.rename(columns={'zip':'zipcode'})\n",
    "\n",
    "e = pd.merge(d, tz.loc[:, ['zipcode', 'timezone']], on=['zipcode'])"
   ]
  },
  {
   "cell_type": "code",
   "execution_count": 16,
   "metadata": {
    "ExecuteTime": {
     "end_time": "2018-09-25T18:11:26.537743Z",
     "start_time": "2018-09-25T18:11:24.582432Z"
    }
   },
   "outputs": [
    {
     "data": {
      "text/html": [
       "<div>\n",
       "<style scoped>\n",
       "    .dataframe tbody tr th:only-of-type {\n",
       "        vertical-align: middle;\n",
       "    }\n",
       "\n",
       "    .dataframe tbody tr th {\n",
       "        vertical-align: top;\n",
       "    }\n",
       "\n",
       "    .dataframe thead th {\n",
       "        text-align: right;\n",
       "    }\n",
       "</style>\n",
       "<table border=\"1\" class=\"dataframe\">\n",
       "  <thead>\n",
       "    <tr style=\"text-align: right;\">\n",
       "      <th></th>\n",
       "      <th>UACE</th>\n",
       "      <th>NAME</th>\n",
       "      <th>POP</th>\n",
       "      <th>HU</th>\n",
       "      <th>AREALAND</th>\n",
       "      <th>AREALANDSQMI</th>\n",
       "      <th>AREAWATER</th>\n",
       "      <th>AREAWATERSQMI</th>\n",
       "      <th>POPDEN</th>\n",
       "      <th>LSADC</th>\n",
       "      <th>city</th>\n",
       "      <th>stabbr</th>\n",
       "    </tr>\n",
       "  </thead>\n",
       "  <tbody>\n",
       "    <tr>\n",
       "      <th>0</th>\n",
       "      <td>37</td>\n",
       "      <td>Abbeville, LA</td>\n",
       "      <td>19824</td>\n",
       "      <td>8460</td>\n",
       "      <td>29222871</td>\n",
       "      <td>11.28</td>\n",
       "      <td>300497</td>\n",
       "      <td>0.12</td>\n",
       "      <td>1757.0</td>\n",
       "      <td>76</td>\n",
       "      <td>Abbeville</td>\n",
       "      <td>LA</td>\n",
       "    </tr>\n",
       "    <tr>\n",
       "      <th>1</th>\n",
       "      <td>64</td>\n",
       "      <td>Abbeville, SC</td>\n",
       "      <td>5243</td>\n",
       "      <td>2578</td>\n",
       "      <td>11315197</td>\n",
       "      <td>4.37</td>\n",
       "      <td>19786</td>\n",
       "      <td>0.01</td>\n",
       "      <td>1200.1</td>\n",
       "      <td>76</td>\n",
       "      <td>Abbeville</td>\n",
       "      <td>SC</td>\n",
       "    </tr>\n",
       "    <tr>\n",
       "      <th>2</th>\n",
       "      <td>91</td>\n",
       "      <td>Abbotsford, WI</td>\n",
       "      <td>3966</td>\n",
       "      <td>1616</td>\n",
       "      <td>5363441</td>\n",
       "      <td>2.07</td>\n",
       "      <td>13221</td>\n",
       "      <td>0.01</td>\n",
       "      <td>1915.2</td>\n",
       "      <td>76</td>\n",
       "      <td>Abbotsford</td>\n",
       "      <td>WI</td>\n",
       "    </tr>\n",
       "    <tr>\n",
       "      <th>3</th>\n",
       "      <td>118</td>\n",
       "      <td>Aberdeen, MS</td>\n",
       "      <td>4666</td>\n",
       "      <td>2050</td>\n",
       "      <td>7416616</td>\n",
       "      <td>2.86</td>\n",
       "      <td>52732</td>\n",
       "      <td>0.02</td>\n",
       "      <td>1629.4</td>\n",
       "      <td>76</td>\n",
       "      <td>Aberdeen</td>\n",
       "      <td>MS</td>\n",
       "    </tr>\n",
       "    <tr>\n",
       "      <th>4</th>\n",
       "      <td>145</td>\n",
       "      <td>Aberdeen, SD</td>\n",
       "      <td>25977</td>\n",
       "      <td>12114</td>\n",
       "      <td>33002447</td>\n",
       "      <td>12.74</td>\n",
       "      <td>247597</td>\n",
       "      <td>0.10</td>\n",
       "      <td>2038.6</td>\n",
       "      <td>76</td>\n",
       "      <td>Aberdeen</td>\n",
       "      <td>SD</td>\n",
       "    </tr>\n",
       "  </tbody>\n",
       "</table>\n",
       "</div>"
      ],
      "text/plain": [
       "   UACE            NAME    POP     HU  AREALAND  AREALANDSQMI  AREAWATER  \\\n",
       "0    37   Abbeville, LA  19824   8460  29222871         11.28     300497   \n",
       "1    64   Abbeville, SC   5243   2578  11315197          4.37      19786   \n",
       "2    91  Abbotsford, WI   3966   1616   5363441          2.07      13221   \n",
       "3   118    Aberdeen, MS   4666   2050   7416616          2.86      52732   \n",
       "4   145    Aberdeen, SD  25977  12114  33002447         12.74     247597   \n",
       "\n",
       "   AREAWATERSQMI  POPDEN  LSADC        city stabbr  \n",
       "0           0.12  1757.0     76   Abbeville     LA  \n",
       "1           0.01  1200.1     76   Abbeville     SC  \n",
       "2           0.01  1915.2     76  Abbotsford     WI  \n",
       "3           0.02  1629.4     76    Aberdeen     MS  \n",
       "4           0.10  2038.6     76    Aberdeen     SD  "
      ]
     },
     "execution_count": 16,
     "metadata": {},
     "output_type": "execute_result"
    }
   ],
   "source": [
    "ua = syn.get('syn16816765')\n",
    "ualist = pd.read_csv(ua.path)\n",
    "\n",
    "ualist['city']   = [x[:x.find(',')].strip() for x in ualist.NAME]\n",
    "ualist['stabbr'] = [x[x.find(',')+1:].strip() for x in ualist.NAME]"
   ]
  },
  {
   "cell_type": "code",
   "execution_count": 18,
   "metadata": {
    "ExecuteTime": {
     "end_time": "2018-09-25T18:11:50.348031Z",
     "start_time": "2018-09-25T18:11:41.907817Z"
    }
   },
   "outputs": [
    {
     "data": {
      "text/html": [
       "<div>\n",
       "<style scoped>\n",
       "    .dataframe tbody tr th:only-of-type {\n",
       "        vertical-align: middle;\n",
       "    }\n",
       "\n",
       "    .dataframe tbody tr th {\n",
       "        vertical-align: top;\n",
       "    }\n",
       "\n",
       "    .dataframe thead th {\n",
       "        text-align: right;\n",
       "    }\n",
       "</style>\n",
       "<table border=\"1\" class=\"dataframe\">\n",
       "  <thead>\n",
       "    <tr style=\"text-align: right;\">\n",
       "      <th></th>\n",
       "      <th>zipcode</th>\n",
       "      <th>city</th>\n",
       "      <th>county</th>\n",
       "      <th>state</th>\n",
       "      <th>stabbr</th>\n",
       "      <th>lat</th>\n",
       "      <th>lon</th>\n",
       "      <th>timezone</th>\n",
       "      <th>geo_designation</th>\n",
       "    </tr>\n",
       "  </thead>\n",
       "  <tbody>\n",
       "    <tr>\n",
       "      <th>0</th>\n",
       "      <td>1001</td>\n",
       "      <td>Agawam</td>\n",
       "      <td>Hampden</td>\n",
       "      <td>Massachusetts</td>\n",
       "      <td>MA</td>\n",
       "      <td>42.06237</td>\n",
       "      <td>-72.62575</td>\n",
       "      <td>America/New_York</td>\n",
       "      <td>rural</td>\n",
       "    </tr>\n",
       "    <tr>\n",
       "      <th>1</th>\n",
       "      <td>1002</td>\n",
       "      <td>Amherst</td>\n",
       "      <td>Hampshire</td>\n",
       "      <td>Massachusetts</td>\n",
       "      <td>MA</td>\n",
       "      <td>42.36406</td>\n",
       "      <td>-72.45874</td>\n",
       "      <td>America/New_York</td>\n",
       "      <td>rural</td>\n",
       "    </tr>\n",
       "    <tr>\n",
       "      <th>2</th>\n",
       "      <td>1003</td>\n",
       "      <td>Amherst</td>\n",
       "      <td>Hampshire</td>\n",
       "      <td>Massachusetts</td>\n",
       "      <td>MA</td>\n",
       "      <td>42.38970</td>\n",
       "      <td>-72.52401</td>\n",
       "      <td>America/New_York</td>\n",
       "      <td>rural</td>\n",
       "    </tr>\n",
       "    <tr>\n",
       "      <th>3</th>\n",
       "      <td>1005</td>\n",
       "      <td>Barre</td>\n",
       "      <td>Worcester</td>\n",
       "      <td>Massachusetts</td>\n",
       "      <td>MA</td>\n",
       "      <td>42.41885</td>\n",
       "      <td>-72.10660</td>\n",
       "      <td>America/New_York</td>\n",
       "      <td>rural</td>\n",
       "    </tr>\n",
       "    <tr>\n",
       "      <th>4</th>\n",
       "      <td>1007</td>\n",
       "      <td>Belchertown</td>\n",
       "      <td>Hampshire</td>\n",
       "      <td>Massachusetts</td>\n",
       "      <td>MA</td>\n",
       "      <td>42.27901</td>\n",
       "      <td>-72.40047</td>\n",
       "      <td>America/New_York</td>\n",
       "      <td>rural</td>\n",
       "    </tr>\n",
       "  </tbody>\n",
       "</table>\n",
       "</div>"
      ],
      "text/plain": [
       "   zipcode         city     county          state stabbr       lat       lon  \\\n",
       "0     1001       Agawam    Hampden  Massachusetts     MA  42.06237 -72.62575   \n",
       "1     1002      Amherst  Hampshire  Massachusetts     MA  42.36406 -72.45874   \n",
       "2     1003      Amherst  Hampshire  Massachusetts     MA  42.38970 -72.52401   \n",
       "3     1005        Barre  Worcester  Massachusetts     MA  42.41885 -72.10660   \n",
       "4     1007  Belchertown  Hampshire  Massachusetts     MA  42.27901 -72.40047   \n",
       "\n",
       "           timezone geo_designation  \n",
       "0  America/New_York           rural  \n",
       "1  America/New_York           rural  \n",
       "2  America/New_York           rural  \n",
       "3  America/New_York           rural  \n",
       "4  America/New_York           rural  "
      ]
     },
     "execution_count": 18,
     "metadata": {},
     "output_type": "execute_result"
    }
   ],
   "source": [
    "def ua_designation(args):\n",
    "    city, stabbr = args\n",
    "    \n",
    "    r = ualist.loc[(ualist.city == city) & (ualist.stabbr == stabbr)]\n",
    "    d = 'rural'\n",
    "    \n",
    "    if len(r) > 0:\n",
    "        d = r.iloc[0].LSADC\n",
    "        d = 'urban_area' if d == 75 else 'urban_cluster'\n",
    "\n",
    "    return d\n",
    "\n",
    "\n",
    "pool = mul.Pool(mul.cpu_count())\n",
    "e['geo_designation'] = list(pool.map(ua_designation, [(r.city, r.stabbr) for r in e.itertuples()]))\n",
    "pool.close(); pool.join()\n",
    "\n",
    "e.head()"
   ]
  },
  {
   "cell_type": "code",
   "execution_count": 24,
   "metadata": {
    "ExecuteTime": {
     "end_time": "2018-09-25T18:16:06.401007Z",
     "start_time": "2018-09-25T18:16:06.360318Z"
    }
   },
   "outputs": [
    {
     "data": {
      "application/vnd.plotly.v1+json": {
       "data": [
        {
         "text": [
          "26972",
          "2893",
          "2526"
         ],
         "textposition": "outside",
         "type": "bar",
         "uid": "11d68426-c0ef-11e8-a799-d8cb8a70e6ff",
         "x": [
          "rural",
          "urban_cluster",
          "urban_area"
         ],
         "y": [
          26972,
          2893,
          2526
         ]
        }
       ],
       "layout": {}
      },
      "text/html": [
       "<div id=\"dd6b9390-dfeb-4d33-9331-8d535e880c90\" style=\"height: 525px; width: 100%;\" class=\"plotly-graph-div\"></div><script type=\"text/javascript\">require([\"plotly\"], function(Plotly) { window.PLOTLYENV=window.PLOTLYENV || {};window.PLOTLYENV.BASE_URL=\"https://plot.ly\";\n",
       "        Plotly.plot(\n",
       "            'dd6b9390-dfeb-4d33-9331-8d535e880c90',\n",
       "            [{\"text\": [\"26972\", \"2893\", \"2526\"], \"textposition\": \"outside\", \"x\": [\"rural\", \"urban_cluster\", \"urban_area\"], \"y\": [26972.0, 2893.0, 2526.0], \"type\": \"bar\", \"uid\": \"11d68426-c0ef-11e8-a799-d8cb8a70e6ff\"}],\n",
       "            {},\n",
       "            {\"showLink\": true, \"linkText\": \"Export to plot.ly\"}\n",
       "        ).then(function () {return Plotly.addFrames('dd6b9390-dfeb-4d33-9331-8d535e880c90',{});}).then(function(){Plotly.animate('dd6b9390-dfeb-4d33-9331-8d535e880c90');})\n",
       "        });</script>"
      ],
      "text/vnd.plotly.v1+html": [
       "<div id=\"dd6b9390-dfeb-4d33-9331-8d535e880c90\" style=\"height: 525px; width: 100%;\" class=\"plotly-graph-div\"></div><script type=\"text/javascript\">require([\"plotly\"], function(Plotly) { window.PLOTLYENV=window.PLOTLYENV || {};window.PLOTLYENV.BASE_URL=\"https://plot.ly\";\n",
       "        Plotly.plot(\n",
       "            'dd6b9390-dfeb-4d33-9331-8d535e880c90',\n",
       "            [{\"text\": [\"26972\", \"2893\", \"2526\"], \"textposition\": \"outside\", \"x\": [\"rural\", \"urban_cluster\", \"urban_area\"], \"y\": [26972.0, 2893.0, 2526.0], \"type\": \"bar\", \"uid\": \"11d68426-c0ef-11e8-a799-d8cb8a70e6ff\"}],\n",
       "            {},\n",
       "            {\"showLink\": true, \"linkText\": \"Export to plot.ly\"}\n",
       "        ).then(function () {return Plotly.addFrames('dd6b9390-dfeb-4d33-9331-8d535e880c90',{});}).then(function(){Plotly.animate('dd6b9390-dfeb-4d33-9331-8d535e880c90');})\n",
       "        });</script>"
      ]
     },
     "metadata": {},
     "output_type": "display_data"
    }
   ],
   "source": [
    "iplot(go.Figure(\n",
    "    [go.Bar(\n",
    "        x=pd.unique(e.geo_designation), \n",
    "        y=pd.value_counts(e.geo_designation),\n",
    "        text=pd.value_counts(e.geo_designation),\n",
    "        textposition='outside')\n",
    "    ]\n",
    "))"
   ]
  },
  {
   "cell_type": "code",
   "execution_count": 27,
   "metadata": {
    "ExecuteTime": {
     "end_time": "2018-09-25T18:18:25.025162Z",
     "start_time": "2018-09-25T18:17:51.638062Z"
    }
   },
   "outputs": [],
   "source": [
    "zips = syn.setProvenance(\n",
    "    syn.store(Table(\n",
    "        Schema(name='zipcodes', columns=as_table_columns(e), parent=storage), e)\n",
    "    ),\n",
    "    activity=Activity(\n",
    "        name='zipcode collation',\n",
    "        description='Collecting zipcodes, counties, states, and geo-locations into a single table.',\n",
    "        used=['syn16816617', 'syn16816613', 'syn16816612', 'syn16810024', 'syn16816765'],\n",
    "        executed=[dict(\n",
    "            name='synapse_project_setup.ipynb', \n",
    "            url='https://github.com/lukeWaninger/GSCAT/blob/master/notebooks/synapse_project_setup.ipynb'\n",
    "        )]\n",
    "    )\n",
    ")"
   ]
  },
  {
   "cell_type": "markdown",
   "metadata": {},
   "source": [
    "### Weather cache"
   ]
  },
  {
   "cell_type": "code",
   "execution_count": 8,
   "metadata": {
    "ExecuteTime": {
     "end_time": "2018-09-25T04:12:09.516806Z",
     "start_time": "2018-09-25T04:12:08.067669Z"
    }
   },
   "outputs": [],
   "source": [
    "db_name = 'weather_cache.sqlite'\n",
    "weather_cache = syn.setProvenance(\n",
    "    syn.get(File(name=db_name, path=dpath(db_name), parent=storage)),\n",
    "    activity=Activity(\n",
    "        used=[dict(name='DarkSky API', url='https://darksky.net/dev/docs')],\n",
    "        executed=[dict(name='weather.py', url='https://github.com/lukeWaninger/GSCAT/blob/master/weather.py')]\n",
    "    )\n",
    ")"
   ]
  },
  {
   "cell_type": "markdown",
   "metadata": {},
   "source": [
    "### GoogleMaps cache"
   ]
  },
  {
   "cell_type": "code",
   "execution_count": null,
   "metadata": {},
   "outputs": [],
   "source": []
  }
 ],
 "metadata": {
  "kernelspec": {
   "display_name": "Python [conda env:bright]",
   "language": "python",
   "name": "conda-env-bright-py"
  },
  "language_info": {
   "codemirror_mode": {
    "name": "ipython",
    "version": 3
   },
   "file_extension": ".py",
   "mimetype": "text/x-python",
   "name": "python",
   "nbconvert_exporter": "python",
   "pygments_lexer": "ipython3",
   "version": "3.6.6"
  },
  "varInspector": {
   "cols": {
    "lenName": 16,
    "lenType": 16,
    "lenVar": 40
   },
   "kernels_config": {
    "python": {
     "delete_cmd_postfix": "",
     "delete_cmd_prefix": "del ",
     "library": "var_list.py",
     "varRefreshCmd": "print(var_dic_list())"
    },
    "r": {
     "delete_cmd_postfix": ") ",
     "delete_cmd_prefix": "rm(",
     "library": "var_list.r",
     "varRefreshCmd": "cat(var_dic_list()) "
    }
   },
   "types_to_exclude": [
    "module",
    "function",
    "builtin_function_or_method",
    "instance",
    "_Feature"
   ],
   "window_display": false
  }
 },
 "nbformat": 4,
 "nbformat_minor": 1
}
