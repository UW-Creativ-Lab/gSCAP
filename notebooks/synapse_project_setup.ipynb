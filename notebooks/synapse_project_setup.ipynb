{
 "cells": [
  {
   "cell_type": "code",
   "execution_count": null,
   "metadata": {
    "ExecuteTime": {
     "end_time": "2018-10-04T02:10:57.859760Z",
     "start_time": "2018-10-04T02:10:46.610123Z"
    },
    "code_folding": [
     23,
     30
    ]
   },
   "outputs": [],
   "source": [
    "import io\n",
    "import multiprocessing as mul\n",
    "import os\n",
    "from pathlib import Path\n",
    "import requests\n",
    "import zipfile\n",
    "\n",
    "from IPython.core.interactiveshell import InteractiveShell\n",
    "import numpy as np\n",
    "import pandas as pd\n",
    "import plotly.graph_objs as go\n",
    "from plotly import tools\n",
    "import plotly.figure_factory as figf\n",
    "from plotly.offline import download_plotlyjs, init_notebook_mode, plot, iplot\n",
    "import synapseclient\n",
    "from synapseclient import Activity, Project, Folder, File, Table, Schema, as_table_columns\n",
    "\n",
    "# set the user's home directory as the data directory\n",
    "data_dir = os.path.join(str(Path.home()), '.gscap')\n",
    "if not os.path.exists(data_dir):\n",
    "    os.mkdir(data_dir)\n",
    "    \n",
    "syn = synapseclient.Synapse()\n",
    "syn.login()\n",
    "\n",
    "storage = syn.get(Project(name='GSCAP Data'))\n",
    "source_files = syn.store(Folder(name='source_files', parent=storage, downloadPath=data_dir))\n",
    "dpath = lambda s: os.path.join(data_dir, s)\n",
    "\n",
    "init_notebook_mode(connected=True)\n",
    "InteractiveShell.ast_node_interactivity = 'all'\n",
    "\n",
    "def isnum(x):\n",
    "    try:\n",
    "        float(x)\n",
    "        return True\n",
    "    except ValueError:\n",
    "        return False\n",
    "\n",
    "def isstr(x):\n",
    "    try:\n",
    "        str(x)\n",
    "        return True\n",
    "    except ValueError:\n",
    "        return False"
   ]
  },
  {
   "cell_type": "markdown",
   "metadata": {},
   "source": [
    "### Zipcodes"
   ]
  },
  {
   "cell_type": "code",
   "execution_count": null,
   "metadata": {
    "ExecuteTime": {
     "end_time": "2018-09-25T18:04:20.261261Z",
     "start_time": "2018-09-25T18:04:14.758808Z"
    }
   },
   "outputs": [],
   "source": [
    "zname = 'zb16totals'\n",
    "url =  'https://www2.census.gov/programs-surveys/cbp/datasets/2016/zbp16totals.zip'\n",
    "\n",
    "response = requests.get(url)\n",
    "if response.ok:\n",
    "    t_path = dpath('2017_Gaz_zcta_national.txt')\n",
    "    f = io.BytesIO(response.content)\n",
    "\n",
    "    with zipfile.ZipFile(f, 'r') as f:\n",
    "        contents = [\n",
    "            dict(\n",
    "                name=name[:name.find('.')],\n",
    "                data=f.read(name),\n",
    "                ext=name[name.find('.')+1:]\n",
    "            )\n",
    "            for name in f.namelist()\n",
    "        ]\n",
    "\n",
    "    for fi in contents:        \n",
    "        with io.BytesIO(fi['data']) as fi_:\n",
    "            a = pd.read_csv(fi_)  \n",
    "        \n",
    "        a.to_csv(dpath(zname))\n",
    "        cbp_totals_syn = syn.setProvenance(\n",
    "            syn.store(File(name=zname, path=dpath(zname), parent=source_files)),\n",
    "            activity=Activity(used=[dict(name='US Census Bureau', url=url)])\n",
    "        )\n",
    "        \n",
    "        a.drop(columns=['name', 'empflag', 'emp_nf', 'emp', 'qp1_nf', 'qp1', 'ap_nf', 'ap', 'est'], inplace=True)\n",
    "        a.rename(columns={'cty_name':'county', 'zip':'zipcode'}, inplace=True)\n",
    "        \n",
    "        a.city = [str(x).title() if isstr(x) else x for x in a.city]\n",
    "        a.county = [str(x).title() if isstr(x) else x for x in a.county]"
   ]
  },
  {
   "cell_type": "code",
   "execution_count": null,
   "metadata": {
    "ExecuteTime": {
     "end_time": "2018-09-25T18:04:25.637694Z",
     "start_time": "2018-09-25T18:04:20.263257Z"
    }
   },
   "outputs": [],
   "source": [
    "zname = '2017_national_zipcodes.csv'\n",
    "url =  'http://www2.census.gov/geo/docs/maps-data/data/gazetteer/2017_Gazetteer/2017_Gaz_zcta_national.zip'\n",
    "\n",
    "response = requests.get(url)\n",
    "if response.ok:\n",
    "    t_path = dpath('2017_Gaz_zcta_national.txt')\n",
    "    f = io.BytesIO(response.content)\n",
    "\n",
    "    with zipfile.ZipFile(f, 'r') as f:\n",
    "        f.extractall(path=data_dir)\n",
    "\n",
    "    b = pd.read_csv(t_path, sep='\\t')\n",
    "    \n",
    "    name = '2017_Gaz_zcta_national.csv'    \n",
    "    b.to_csv(dpath(name))\n",
    "    \n",
    "    zips_syn = syn.setProvenance(\n",
    "        syn.store(File(name=name, path=dpath(name), parent=source_files)),\n",
    "        activity=Activity(used=[dict(name='US Census Bureau', url=url)])\n",
    "    )\n",
    "    \n",
    "    b.columns = [s.strip() for s in b.columns]\n",
    "    b = b.loc[:, ['GEOID', 'INTPTLAT', 'INTPTLONG']]\n",
    "    b.columns = ['zipcode', 'lat', 'lon']"
   ]
  },
  {
   "cell_type": "code",
   "execution_count": null,
   "metadata": {
    "ExecuteTime": {
     "end_time": "2018-09-25T18:04:28.171491Z",
     "start_time": "2018-09-25T18:04:25.639899Z"
    }
   },
   "outputs": [],
   "source": [
    "sname = 'state_codes.csv'\n",
    "state_codes = pd.read_csv(dpath(sname))\n",
    "state_codes_syn = syn.store(File(name=sname, path=dpath(sname), parent=source_files))"
   ]
  },
  {
   "cell_type": "code",
   "execution_count": null,
   "metadata": {
    "ExecuteTime": {
     "end_time": "2018-09-25T18:04:28.217833Z",
     "start_time": "2018-09-25T18:04:28.174064Z"
    }
   },
   "outputs": [],
   "source": [
    "d = pd.merge(a, b, on='zipcode')\n",
    "d = pd.merge(d, state_codes, left_on='stabbr', right_on='Code')\n",
    "d = d.drop(columns='Code')\n",
    "d = d.rename(columns={'State':'state'})\n",
    "\n",
    "d.lat = np.round(d.lat, 5)\n",
    "d.lon = np.round(d.lon, 5)\n",
    "\n",
    "d = d[['zipcode', 'city', 'county', 'state', 'stabbr', 'lat', 'lon']]"
   ]
  },
  {
   "cell_type": "code",
   "execution_count": null,
   "metadata": {
    "ExecuteTime": {
     "end_time": "2018-09-25T18:04:28.905730Z",
     "start_time": "2018-09-25T18:04:28.219819Z"
    }
   },
   "outputs": [],
   "source": [
    "timezones = syn.get('syn16810024')\n",
    "tz = pd.read_csv(timezones.path)\n",
    "tz = tz.rename(columns={'zip':'zipcode'})\n",
    "\n",
    "e = pd.merge(d, tz.loc[:, ['zipcode', 'timezone']], on=['zipcode'])"
   ]
  },
  {
   "cell_type": "code",
   "execution_count": null,
   "metadata": {
    "ExecuteTime": {
     "end_time": "2018-09-25T18:11:26.537743Z",
     "start_time": "2018-09-25T18:11:24.582432Z"
    }
   },
   "outputs": [],
   "source": [
    "ua = syn.get('syn16816765')\n",
    "ualist = pd.read_csv(ua.path)\n",
    "\n",
    "ualist['city']   = [x[:x.find(',')].strip() for x in ualist.NAME]\n",
    "ualist['stabbr'] = [x[x.find(',')+1:].strip() for x in ualist.NAME]"
   ]
  },
  {
   "cell_type": "code",
   "execution_count": null,
   "metadata": {
    "ExecuteTime": {
     "end_time": "2018-09-25T18:11:50.348031Z",
     "start_time": "2018-09-25T18:11:41.907817Z"
    }
   },
   "outputs": [],
   "source": [
    "def ua_designation(args):\n",
    "    city, stabbr = args\n",
    "    \n",
    "    r = ualist.loc[(ualist.city == city) & (ualist.stabbr == stabbr)]\n",
    "    d = 'rural'\n",
    "    \n",
    "    if len(r) > 0:\n",
    "        d = r.iloc[0].LSADC\n",
    "        d = 'urban_area' if d == 75 else 'urban_cluster'\n",
    "\n",
    "    return d\n",
    "\n",
    "\n",
    "pool = mul.Pool(mul.cpu_count())\n",
    "e['geo_designation'] = list(pool.map(ua_designation, [(r.city, r.stabbr) for r in e.itertuples()]))\n",
    "pool.close(); pool.join()\n",
    "\n",
    "e.head()"
   ]
  },
  {
   "cell_type": "code",
   "execution_count": null,
   "metadata": {
    "ExecuteTime": {
     "end_time": "2018-09-25T18:16:06.401007Z",
     "start_time": "2018-09-25T18:16:06.360318Z"
    }
   },
   "outputs": [],
   "source": [
    "iplot(go.Figure(\n",
    "    [go.Bar(\n",
    "        x=pd.unique(e.geo_designation), \n",
    "        y=pd.value_counts(e.geo_designation),\n",
    "        text=pd.value_counts(e.geo_designation),\n",
    "        textposition='outside')\n",
    "    ]\n",
    "))"
   ]
  },
  {
   "cell_type": "code",
   "execution_count": null,
   "metadata": {
    "ExecuteTime": {
     "end_time": "2018-09-25T18:18:25.025162Z",
     "start_time": "2018-09-25T18:17:51.638062Z"
    }
   },
   "outputs": [],
   "source": [
    "zips = syn.setProvenance(\n",
    "    syn.store(Table(\n",
    "        Schema(name='zipcodes', columns=as_table_columns(e), parent=storage), e)\n",
    "    ),\n",
    "    activity=Activity(\n",
    "        name='zipcode collation',\n",
    "        description='Collecting zipcodes, counties, states, and geo-locations into a single table.',\n",
    "        used=['syn16816617', 'syn16816613', 'syn16816612', 'syn16810024', 'syn16816765'],\n",
    "        executed=[dict(\n",
    "            name='synapse_project_setup.ipynb', \n",
    "            url='https://github.com/lukeWaninger/GSCAT/blob/master/notebooks/synapse_project_setup.ipynb'\n",
    "        )]\n",
    "    )\n",
    ")"
   ]
  }
 ],
 "metadata": {
  "kernelspec": {
   "display_name": "Python [conda env:bright]",
   "language": "python",
   "name": "conda-env-bright-py"
  },
  "language_info": {
   "codemirror_mode": {
    "name": "ipython",
    "version": 3
   },
   "file_extension": ".py",
   "mimetype": "text/x-python",
   "name": "python",
   "nbconvert_exporter": "python",
   "pygments_lexer": "ipython3",
   "version": "3.6.6"
  },
  "varInspector": {
   "cols": {
    "lenName": 16,
    "lenType": 16,
    "lenVar": 40
   },
   "kernels_config": {
    "python": {
     "delete_cmd_postfix": "",
     "delete_cmd_prefix": "del ",
     "library": "var_list.py",
     "varRefreshCmd": "print(var_dic_list())"
    },
    "r": {
     "delete_cmd_postfix": ") ",
     "delete_cmd_prefix": "rm(",
     "library": "var_list.r",
     "varRefreshCmd": "cat(var_dic_list()) "
    }
   },
   "types_to_exclude": [
    "module",
    "function",
    "builtin_function_or_method",
    "instance",
    "_Feature"
   ],
   "window_display": false
  }
 },
 "nbformat": 4,
 "nbformat_minor": 1
}
