{
 "cells": [
  {
   "cell_type": "code",
   "execution_count": null,
   "metadata": {
    "ExecuteTime": {
     "end_time": "2018-10-12T02:18:57.204535Z",
     "start_time": "2018-10-12T02:18:55.410551Z"
    }
   },
   "outputs": [],
   "source": [
    "import ast\n",
    "import datetime as dt\n",
    "import json\n",
    "import os\n",
    "import sys\n",
    "\n",
    "import numpy as np\n",
    "import pandas as pd\n",
    "from tqdm import tqdm\n",
    "from IPython.core.interactiveshell import InteractiveShell\n",
    "\n",
    "InteractiveShell.ast_node_interactivity = 'all'\n",
    "sys.path.insert(0, '..')\n",
    "\n",
    "import gps"
   ]
  },
  {
   "cell_type": "markdown",
   "metadata": {},
   "source": [
    "### initialize the cache from previous csv files"
   ]
  },
  {
   "cell_type": "code",
   "execution_count": null,
   "metadata": {
    "ExecuteTime": {
     "end_time": "2018-10-12T02:18:57.209929Z",
     "start_time": "2018-10-12T02:18:57.206652Z"
    }
   },
   "outputs": [],
   "source": [
    "files = [os.path.join('gmaps_cache', f) for f in os.listdir('gmaps_cache')]\n",
    "\n",
    "dfs = []\n",
    "for f in files:\n",
    "    a = pd.read_csv(f)\n",
    "\n",
    "    a['dtRetrieved'] = dt.datetime.now().date\n",
    "    a['radius']  = 50\n",
    "    a['rankby']  = 'prominence'\n",
    "    a['source']  = 'Google Places'\n",
    "    a.lat = np.round(a.lat, 5)\n",
    "    a.lon = np.round(a.lon, 5)\n",
    "    \n",
    "    dfs.append(a)\n",
    "    \n",
    "df = pd.concat(dfs, sort=True)\n",
    "df['mask_'] = [not x for x in df.loc[:, ['lat', 'lon']].duplicated(keep='first')]\n",
    "df.head()"
   ]
  },
  {
   "cell_type": "code",
   "execution_count": null,
   "metadata": {
    "ExecuteTime": {
     "end_time": "2018-10-12T02:18:57.238402Z",
     "start_time": "2018-10-12T02:18:57.211813Z"
    }
   },
   "outputs": [],
   "source": [
    "records = [\n",
    "    gps.PlaceRequest().from_tuple(t, gps.ApiSource.GMAPS) \n",
    "    for t in df.loc[df.mask_].itertuples()\n",
    "]\n",
    "\n",
    "for r in tqdm(records):\n",
    "    c = ast.literal_eval(r.content)\n",
    "    c = json.dumps(c)\n",
    "    r.content = c"
   ]
  },
  {
   "cell_type": "code",
   "execution_count": null,
   "metadata": {
    "ExecuteTime": {
     "end_time": "2018-10-12T02:18:57.264381Z",
     "start_time": "2018-10-12T02:18:57.240282Z"
    }
   },
   "outputs": [],
   "source": [
    "for r in tqdm(records):\n",
    "    with gps.session_scope() as session:\n",
    "        session.add(r)"
   ]
  },
  {
   "cell_type": "markdown",
   "metadata": {},
   "source": [
    "### example recall the entire cache and parse the content"
   ]
  },
  {
   "cell_type": "code",
   "execution_count": null,
   "metadata": {
    "ExecuteTime": {
     "end_time": "2018-10-12T02:19:13.838343Z",
     "start_time": "2018-10-12T02:18:57.266113Z"
    }
   },
   "outputs": [],
   "source": [
    "with gps.session_scope() as s:\n",
    "    t = pd.concat([ti.dataframe for ti in s.query(gps.PlaceRequest).all()], sort=True)\n",
    "\n",
    "cats = pd.DataFrame([gps.parse_gmap_types(c) for c in t.content])\n",
    "cats.loc[cats.rank_order != -1].head(10)"
   ]
  },
  {
   "cell_type": "markdown",
   "metadata": {},
   "source": [
    "### make some requests to ensure the cache is responding correctly"
   ]
  },
  {
   "cell_type": "code",
   "execution_count": null,
   "metadata": {
    "ExecuteTime": {
     "end_time": "2018-10-12T02:19:13.846765Z",
     "start_time": "2018-10-12T02:19:13.840032Z"
    }
   },
   "outputs": [],
   "source": [
    "request = [\n",
    "    gps.PlaceRequest(lat=r.lat, lon=r.lon, source=gps.ApiSource.FROM_NAME(r.source), radius=r.radius)\n",
    "    for r in t.iloc[np.random.choice(np.arange(len(t)), 10, replace=False)].itertuples()\n",
    "]"
   ]
  },
  {
   "cell_type": "code",
   "execution_count": null,
   "metadata": {
    "ExecuteTime": {
     "end_time": "2018-10-12T02:19:14.373195Z",
     "start_time": "2018-10-12T02:19:13.876151Z"
    }
   },
   "outputs": [],
   "source": [
    "gps.request_nearby_places(request)['request']"
   ]
  }
 ],
 "metadata": {
  "kernelspec": {
   "display_name": "Python [conda env:bright]",
   "language": "python",
   "name": "conda-env-bright-py"
  },
  "language_info": {
   "codemirror_mode": {
    "name": "ipython",
    "version": 3
   },
   "file_extension": ".py",
   "mimetype": "text/x-python",
   "name": "python",
   "nbconvert_exporter": "python",
   "pygments_lexer": "ipython3",
   "version": "3.6.6"
  },
  "varInspector": {
   "cols": {
    "lenName": 16,
    "lenType": 16,
    "lenVar": 40
   },
   "kernels_config": {
    "python": {
     "delete_cmd_postfix": "",
     "delete_cmd_prefix": "del ",
     "library": "var_list.py",
     "varRefreshCmd": "print(var_dic_list())"
    },
    "r": {
     "delete_cmd_postfix": ") ",
     "delete_cmd_prefix": "rm(",
     "library": "var_list.r",
     "varRefreshCmd": "cat(var_dic_list()) "
    }
   },
   "types_to_exclude": [
    "module",
    "function",
    "builtin_function_or_method",
    "instance",
    "_Feature"
   ],
   "window_display": false
  }
 },
 "nbformat": 4,
 "nbformat_minor": 2
}
