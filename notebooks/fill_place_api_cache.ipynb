{
 "cells": [
  {
   "cell_type": "code",
   "execution_count": 1,
   "metadata": {
    "ExecuteTime": {
     "end_time": "2018-10-11T22:41:30.080694Z",
     "start_time": "2018-10-11T22:41:28.385641Z"
    }
   },
   "outputs": [
    {
     "name": "stdout",
     "output_type": "stream",
     "text": [
      "WARNING: No API key found to access Google Maps.\n"
     ]
    }
   ],
   "source": [
    "import ast\n",
    "import datetime as dt\n",
    "import os\n",
    "import sys\n",
    "\n",
    "import pandas as pd\n",
    "from tqdm import tqdm\n",
    "from IPython.core.interactiveshell import InteractiveShell\n",
    "InteractiveShell.ast_node_interactivity = 'all'\n",
    "sys.path.insert(0, '..')\n",
    "import gps"
   ]
  },
  {
   "cell_type": "code",
   "execution_count": 2,
   "metadata": {
    "ExecuteTime": {
     "end_time": "2018-10-11T22:41:30.086597Z",
     "start_time": "2018-10-11T22:41:30.082785Z"
    }
   },
   "outputs": [],
   "source": [
    "files = [os.path.join('gmaps_cache', f) for f in os.listdir('gmaps_cache')]\n",
    "\n",
    "dfs = []\n",
    "for f in files:\n",
    "    a = pd.read_csv(f)\n",
    "\n",
    "    a['dtRetrieved'] = dt.datetime.now()\n",
    "    a['radius']  = 50\n",
    "    a['rankby']  = 'prominence'\n",
    "    a['source']  = 'Google Places'\n",
    "\n",
    "    dfs.append(a)\n",
    "    \n",
    "df = pd.concat(dfs, sort=True)\n",
    "df['mask_'] = [not x for x in df.loc[:, ['lat', 'lon']].duplicated(keep='first')]\n",
    "df.head()"
   ]
  },
  {
   "cell_type": "code",
   "execution_count": 3,
   "metadata": {
    "ExecuteTime": {
     "end_time": "2018-10-11T22:41:30.115014Z",
     "start_time": "2018-10-11T22:41:30.088577Z"
    }
   },
   "outputs": [],
   "source": [
    "records = [\n",
    "    gps.PlaceRequest().from_tuple(t, gps.ApiSource.GMAPS) \n",
    "    for t in df.loc[df.mask_].itertuples()\n",
    "]\n",
    "\n",
    "for r in tqdm(records):\n",
    "    c = ast.literal_eval(r.content)\n",
    "    c = json.dumps(c)\n",
    "    r.content = c"
   ]
  },
  {
   "cell_type": "code",
   "execution_count": 4,
   "metadata": {
    "ExecuteTime": {
     "end_time": "2018-10-11T22:41:30.135547Z",
     "start_time": "2018-10-11T22:41:30.116983Z"
    }
   },
   "outputs": [],
   "source": [
    "for r in tqdm(records):\n",
    "    with gps.session_scope() as session:\n",
    "        session.add(r)"
   ]
  },
  {
   "cell_type": "markdown",
   "metadata": {},
   "source": [
    "### example recall the entire cache"
   ]
  },
  {
   "cell_type": "code",
   "execution_count": 5,
   "metadata": {
    "ExecuteTime": {
     "end_time": "2018-10-11T22:41:51.229117Z",
     "start_time": "2018-10-11T22:41:30.137669Z"
    }
   },
   "outputs": [],
   "source": [
    "with gps.session_scope() as s:\n",
    "    t = pd.concat([ti.dataframe for ti in s.query(gps.PlaceRequest).all()], sort=True)\n",
    "\n",
    "cats = pd.DataFrame([gps.parse_gmap_types(c) for c in t.content])\n",
    "cats.loc[cats.rank_order != -1].head(10)"
   ]
  }
 ],
 "metadata": {
  "kernelspec": {
   "display_name": "Python [conda env:bright]",
   "language": "python",
   "name": "conda-env-bright-py"
  },
  "language_info": {
   "codemirror_mode": {
    "name": "ipython",
    "version": 3
   },
   "file_extension": ".py",
   "mimetype": "text/x-python",
   "name": "python",
   "nbconvert_exporter": "python",
   "pygments_lexer": "ipython3",
   "version": "3.6.6"
  },
  "varInspector": {
   "cols": {
    "lenName": 16,
    "lenType": 16,
    "lenVar": 40
   },
   "kernels_config": {
    "python": {
     "delete_cmd_postfix": "",
     "delete_cmd_prefix": "del ",
     "library": "var_list.py",
     "varRefreshCmd": "print(var_dic_list())"
    },
    "r": {
     "delete_cmd_postfix": ") ",
     "delete_cmd_prefix": "rm(",
     "library": "var_list.r",
     "varRefreshCmd": "cat(var_dic_list()) "
    }
   },
   "types_to_exclude": [
    "module",
    "function",
    "builtin_function_or_method",
    "instance",
    "_Feature"
   ],
   "window_display": false
  }
 },
 "nbformat": 4,
 "nbformat_minor": 2
}
