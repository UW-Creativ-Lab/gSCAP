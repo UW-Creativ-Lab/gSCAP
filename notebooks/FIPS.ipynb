{
 "cells": [
  {
   "cell_type": "code",
   "execution_count": 24,
   "metadata": {
    "ExecuteTime": {
     "end_time": "2018-10-04T02:07:44.323024Z",
     "start_time": "2018-10-04T02:07:42.079138Z"
    }
   },
   "outputs": [
    {
     "data": {
      "text/html": [
       "<script>requirejs.config({paths: { 'plotly': ['https://cdn.plot.ly/plotly-latest.min']},});if(!window.Plotly) {{require(['plotly'],function(plotly) {window.Plotly=plotly;});}}</script>"
      ],
      "text/vnd.plotly.v1+html": [
       "<script>requirejs.config({paths: { 'plotly': ['https://cdn.plot.ly/plotly-latest.min']},});if(!window.Plotly) {{require(['plotly'],function(plotly) {window.Plotly=plotly;});}}</script>"
      ]
     },
     "metadata": {},
     "output_type": "display_data"
    },
    {
     "name": "stdout",
     "output_type": "stream",
     "text": [
      "Welcome, Luke Waninger!\n",
      "\n"
     ]
    }
   ],
   "source": [
    "# init\n",
    "import os\n",
    "import sys\n",
    "\n",
    "from IPython.core.interactiveshell import InteractiveShell\n",
    "import numpy as np\n",
    "import pandas as pd\n",
    "import plotly.graph_objs as go\n",
    "from plotly import tools\n",
    "import plotly.figure_factory as figf\n",
    "from plotly.offline import download_plotlyjs, init_notebook_mode, plot, iplot\n",
    "import synapseclient\n",
    "from synapseclient import Activity, Schema, Table, as_table_columns\n",
    "import synapseutils\n",
    "from tqdm import tqdm, tqdm_pandas, tqdm_notebook\n",
    "\n",
    "sys.path.insert(0, os.path.abspath('..'))\n",
    "\n",
    "init_notebook_mode(connected=True)\n",
    "InteractiveShell.ast_node_interactivity = 'all'\n",
    "tqdm.pandas(leave=True)\n",
    "\n",
    "syn = synapseclient.Synapse()\n",
    "syn.login()"
   ]
  },
  {
   "cell_type": "code",
   "execution_count": 25,
   "metadata": {
    "ExecuteTime": {
     "end_time": "2018-10-04T02:07:45.686277Z",
     "start_time": "2018-10-04T02:07:45.379032Z"
    }
   },
   "outputs": [],
   "source": [
    "def fx(x):\n",
    "    i = x.find('city')\n",
    "    if i > 0:\n",
    "        return x[:i].strip()\n",
    "    \n",
    "    i = x.find('town')\n",
    "    if i > 0:\n",
    "        return x[:i].strip()\n",
    "    \n",
    "    return x\n",
    "\n",
    "\n",
    "fips_syn = syn.get('syn16975424')\n",
    "fips = pd.read_csv(fips_syn.path)\n",
    "\n",
    "fips.loc[fips.summary_level == 10,  'summary_level'] = 'country'\n",
    "fips.loc[fips.summary_level == 40,  'summary_level'] = 'state'\n",
    "fips.loc[fips.summary_level == 50,  'summary_level'] = 'county'\n",
    "fips.loc[fips.summary_level == 162, 'summary_level'] = 'city'\n",
    "fips.loc[fips.summary_level == 61,  'summary_level'] = 'county_subdivision'\n",
    "fips.loc[fips.summary_level == 170, 'summary_level'] = 'unified_government'\n",
    "\n",
    "fips.loc[fips.summary_level == 'county', 'name'] = fips.loc[fips.summary_level == 'county'].name.apply(lambda f: f[:f.find('County')].strip())\n",
    "fips.loc[fips.summary_level=='city', 'name'] = fips.loc[fips.summary_level=='city'].name.apply(fx)"
   ]
  },
  {
   "cell_type": "code",
   "execution_count": 26,
   "metadata": {
    "ExecuteTime": {
     "end_time": "2018-10-04T02:07:47.191151Z",
     "start_time": "2018-10-04T02:07:47.180674Z"
    }
   },
   "outputs": [
    {
     "data": {
      "text/html": [
       "<div>\n",
       "<style scoped>\n",
       "    .dataframe tbody tr th:only-of-type {\n",
       "        vertical-align: middle;\n",
       "    }\n",
       "\n",
       "    .dataframe tbody tr th {\n",
       "        vertical-align: top;\n",
       "    }\n",
       "\n",
       "    .dataframe thead th {\n",
       "        text-align: right;\n",
       "    }\n",
       "</style>\n",
       "<table border=\"1\" class=\"dataframe\">\n",
       "  <thead>\n",
       "    <tr style=\"text-align: right;\">\n",
       "      <th></th>\n",
       "      <th>summary_level</th>\n",
       "      <th>state_fips</th>\n",
       "      <th>county_fips</th>\n",
       "      <th>county_subdivision_fips</th>\n",
       "      <th>place_fips</th>\n",
       "      <th>city_fips</th>\n",
       "      <th>name</th>\n",
       "    </tr>\n",
       "  </thead>\n",
       "  <tbody>\n",
       "    <tr>\n",
       "      <th>0</th>\n",
       "      <td>country</td>\n",
       "      <td>0</td>\n",
       "      <td>0</td>\n",
       "      <td>0</td>\n",
       "      <td>0</td>\n",
       "      <td>0</td>\n",
       "      <td>United States</td>\n",
       "    </tr>\n",
       "    <tr>\n",
       "      <th>1</th>\n",
       "      <td>state</td>\n",
       "      <td>1</td>\n",
       "      <td>0</td>\n",
       "      <td>0</td>\n",
       "      <td>0</td>\n",
       "      <td>0</td>\n",
       "      <td>Alabama</td>\n",
       "    </tr>\n",
       "    <tr>\n",
       "      <th>2</th>\n",
       "      <td>county</td>\n",
       "      <td>1</td>\n",
       "      <td>1</td>\n",
       "      <td>0</td>\n",
       "      <td>0</td>\n",
       "      <td>0</td>\n",
       "      <td>Autaug</td>\n",
       "    </tr>\n",
       "  </tbody>\n",
       "</table>\n",
       "</div>"
      ],
      "text/plain": [
       "  summary_level  state_fips  county_fips  county_subdivision_fips  place_fips  \\\n",
       "0       country           0            0                        0           0   \n",
       "1         state           1            0                        0           0   \n",
       "2        county           1            1                        0           0   \n",
       "\n",
       "   city_fips           name  \n",
       "0          0  United States  \n",
       "1          0        Alabama  \n",
       "2          0         Autaug  "
      ]
     },
     "execution_count": 26,
     "metadata": {},
     "output_type": "execute_result"
    }
   ],
   "source": [
    "fips.head(3)"
   ]
  },
  {
   "cell_type": "code",
   "execution_count": 27,
   "metadata": {
    "ExecuteTime": {
     "end_time": "2018-10-04T02:08:12.886384Z",
     "start_time": "2018-10-04T02:07:48.184973Z"
    }
   },
   "outputs": [],
   "source": [
    "fips_syn = syn.setProvenance(\n",
    "    syn.store(Table(\n",
    "        Schema(name='FIPS', columns=as_table_columns(fips), parent='syn16816579'), fips)\n",
    "    ),\n",
    "    activity=Activity(\n",
    "        name='FIPS Processing',\n",
    "        description='Make the FIPS data more human readable',\n",
    "        used=[           \n",
    "            dict(\n",
    "                name='US Census Bureau',\n",
    "                url='https://www.census.gov/geographies/reference-files/2016/demo/popest/2016-fips.html',\n",
    "            )\n",
    "        ]\n",
    "    )\n",
    ")"
   ]
  }
 ],
 "metadata": {
  "kernelspec": {
   "display_name": "Python [conda env:bright]",
   "language": "python",
   "name": "conda-env-bright-py"
  },
  "language_info": {
   "codemirror_mode": {
    "name": "ipython",
    "version": 3
   },
   "file_extension": ".py",
   "mimetype": "text/x-python",
   "name": "python",
   "nbconvert_exporter": "python",
   "pygments_lexer": "ipython3",
   "version": "3.6.6"
  },
  "varInspector": {
   "cols": {
    "lenName": 16,
    "lenType": 16,
    "lenVar": 40
   },
   "kernels_config": {
    "python": {
     "delete_cmd_postfix": "",
     "delete_cmd_prefix": "del ",
     "library": "var_list.py",
     "varRefreshCmd": "print(var_dic_list())"
    },
    "r": {
     "delete_cmd_postfix": ") ",
     "delete_cmd_prefix": "rm(",
     "library": "var_list.r",
     "varRefreshCmd": "cat(var_dic_list()) "
    }
   },
   "types_to_exclude": [
    "module",
    "function",
    "builtin_function_or_method",
    "instance",
    "_Feature"
   ],
   "window_display": false
  }
 },
 "nbformat": 4,
 "nbformat_minor": 2
}
